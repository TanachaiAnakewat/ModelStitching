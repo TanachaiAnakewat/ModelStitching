{
  "cells": [
    {
      "cell_type": "markdown",
      "metadata": {
        "id": "k8qhX21VPQTP"
      },
      "source": [
        "# ResNets\n",
        "\n",
        "\n",
        "*   ResNet-18\n",
        "*   ResNet-w2x(wider) -128 filters\n",
        "*   ResNet-0.5x(narrower) - 32 filters\n",
        "*   ResNet-164 - deep\n",
        "https://pytorch-tutorial.readthedocs.io/en/latest/tutorial/chapter03_intermediate/3_2_2_cnn_resnet_cifar10/\n",
        "\n",
        "\n",
        "\n"
      ]
    },
    {
      "cell_type": "code",
      "execution_count": 1,
      "metadata": {
        "id": "aZYqk17kjQPK"
      },
      "outputs": [],
      "source": [
        "import numpy as np\n",
        "import pandas as pd\n",
        "\n",
        "import torch\n",
        "import torch.nn as nn\n",
        "from torch.utils.data import Dataset, DataLoader\n",
        "\n",
        "import timm\n",
        "\n",
        "\n",
        "import os\n",
        "\n",
        "import matplotlib.pyplot as plt\n",
        "\n",
        "\n",
        "device = torch.device('cuda')"
      ]
    },
    {
      "cell_type": "code",
      "execution_count": 2,
      "metadata": {},
      "outputs": [
        {
          "name": "stdout",
          "output_type": "stream",
          "text": [
            "True\n"
          ]
        }
      ],
      "source": [
        "import torch\n",
        "print(torch.cuda.is_available())"
      ]
    },
    {
      "cell_type": "markdown",
      "metadata": {
        "id": "qD7wIUJZTesm"
      },
      "source": [
        "# Download Data\n"
      ]
    },
    {
      "cell_type": "code",
      "execution_count": 2,
      "metadata": {
        "colab": {
          "base_uri": "https://localhost:8080/"
        },
        "id": "IBTjMkNfja8E",
        "outputId": "f332fe92-8142-4ba0-ed0c-fd8e8106aa7d"
      },
      "outputs": [
        {
          "name": "stdout",
          "output_type": "stream",
          "text": [
            "train data length: 78\n",
            "test data length: 78\n",
            "tensor(4)\n",
            "tensor(8)\n",
            "tensor(8)\n"
          ]
        },
        {
          "data": {
            "image/png": "[encoded data removed]",
            "text/plain": [
              "<Figure size 640x480 with 1 Axes>"
            ]
          },
          "metadata": {},
          "output_type": "display_data"
        }
      ],
      "source": [
        "#config\n",
        "\n",
        "TRAIN_SIZE  = 10000\n",
        "BATCH_SIZE = 128\n",
        "DATA  = \"FMNIST\"\n",
        "\n",
        "##### DATA LOADER\n",
        "\n",
        "from torch.utils.data import DataLoader\n",
        "from torchvision.datasets import MNIST, FashionMNIST\n",
        "from torchvision import transforms\n",
        "\n",
        "\n",
        "# Image preprocessing modules\n",
        "transform = transforms.Compose([\n",
        "    transforms.RandomHorizontalFlip(),\n",
        "    transforms.RandomCrop(32,padding = 4),\n",
        "    transforms.ToTensor()])\n",
        "\n",
        "if DATA == \"FMNIST\":\n",
        "  data_set = FashionMNIST(\n",
        "      # データセットのパス\n",
        "      root='../../data/',\n",
        "      train=True,\n",
        "      # ダウンロードしている場合はdownload=False\n",
        "      download=True,\n",
        "      transform=transform\n",
        "  )\n",
        "\n",
        "  test_set = FashionMNIST(\n",
        "      # データセットのパス\n",
        "      root='../../data/',\n",
        "      train=False,\n",
        "      # ダウンロードしている場合はdownload=False\n",
        "      download=True,\n",
        "      transform=transform\n",
        "  )\n",
        "elif DATA == \"MNIST\":\n",
        "  data_set = MNIST(\n",
        "      # データセットのパス\n",
        "      root='../../data/',\n",
        "      train=True,\n",
        "      # ダウンロードしている場合はdownload=False\n",
        "      download=True,\n",
        "      transform=transform\n",
        "  )\n",
        "\n",
        "  test_set = MNIST(\n",
        "      # データセットのパス\n",
        "      root='../../data/',\n",
        "      train=False,\n",
        "      # ダウンロードしている場合はdownload=False\n",
        "      download=True,\n",
        "      transform=transform\n",
        "  )\n",
        "\n",
        "data_set.data=data_set.data[:TRAIN_SIZE]\n",
        "data_set.targets =data_set.targets[:TRAIN_SIZE]\n",
        "\n",
        "data_loader = DataLoader(\n",
        "    dataset=data_set, \n",
        "    batch_size=BATCH_SIZE,\n",
        "    # シャッフルしない場合はshuffle=Flase\n",
        "    shuffle=True,\n",
        "    # batch_sizeを固定\n",
        "    drop_last=True\n",
        ")\n",
        "\n",
        "test_loader = DataLoader(\n",
        "    dataset=test_set, \n",
        "    batch_size=BATCH_SIZE,\n",
        "    # シャッフルしない場合はshuffle=Flase\n",
        "    shuffle=True,\n",
        "    # batch_sizeを固定\n",
        "    drop_last=True\n",
        ")\n",
        "\n",
        "print(\"train data length:\",len(data_loader))\n",
        "print(\"test data length:\",len(test_loader))\n",
        "\n",
        "for idx, (inputs,label) in enumerate(test_loader):\n",
        "\n",
        "    # move to device\n",
        "    plt.imshow(inputs[0].reshape(32,32), cmap=\"gray\")\n",
        "    print(label[0])\n",
        "    if idx == 2:\n",
        "        break"
      ]
    },
    {
      "cell_type": "code",
      "execution_count": 3,
      "metadata": {
        "id": "lMWeFTfuKENF"
      },
      "outputs": [],
      "source": [
        "#train\n",
        "import torch\n",
        "from torch import nn, optim\n",
        "from tqdm import tqdm\n",
        "def train(model, is_stitch = False,total_epoch: int=20):\n",
        "   \n",
        "    total_epoch = 64000//len(data_loader)+100\n",
        "    # オプティマイザーの定義\n",
        "    if is_stitch:\n",
        "        optimizer = optim.Adam(\n",
        "            params=model.parameters(),\n",
        "            lr=0.001)\n",
        "        # scheduler = optim.lr_scheduler.CosineAnnealingLR(\n",
        "        #     optimizer=optimizer,\n",
        "        # )\n",
        "    else:\n",
        "        optimizer = optim.SGD(\n",
        "            params=model.parameters(),\n",
        "            lr=0.05,\n",
        "            weight_decay = 0.0001,\n",
        "            momentum = 0.9\n",
        "        )\n",
        "        # スケジューラーの定義\n",
        "        scheduler = optim.lr_scheduler.MultiStepLR(\n",
        "            optimizer=optimizer,\n",
        "            milestones = [total_epoch//2,(total_epoch)*3//4],\n",
        "            gamma = 0.2,\n",
        "            last_epoch=-1, #change step to 64K \n",
        "        )\n",
        "\n",
        "    # 損失関数の定義\n",
        "    criterion = nn.CrossEntropyLoss()\n",
        "\n",
        "    model.train()\n",
        "    i= 0\n",
        "    for epoch in range(total_epoch):\n",
        "        accuracy, train_loss = 0.0, 0.0\n",
        "\n",
        "        # tqdmを用いるとプログレスバーの表示ができる\n",
        "        for images, labels in tqdm(data_loader):\n",
        "            optimizer.zero_grad()\n",
        "            images = images.to(device)\n",
        "            labels = labels.to(device)\n",
        "\n",
        "            # モデルからの出力\n",
        "            out = model(images)\n",
        "            # lossの算出\n",
        "            loss = criterion(out, labels)\n",
        "\n",
        "            loss.backward()\n",
        "            optimizer.step()\n",
        "            \n",
        "\n",
        "            # 推測値\n",
        "            preds = out.argmax(axis=1)\n",
        "\n",
        "            train_loss += loss.item()\n",
        "            # 正答率の算出\n",
        "            accuracy += torch.sum(preds == labels).item() / len(labels)\n",
        "            i+=1\n",
        "            if i == 64000:\n",
        "                return\n",
        "        if not is_stitch:\n",
        "            scheduler.step()\n",
        "\n",
        "        # 値の出力\n",
        "        print(f\"epoch: {epoch + 1}\")\n",
        "        print(f\"loss: {train_loss / len(data_loader)}\")\n",
        "        print(f\"accuracy: {accuracy / len(data_loader)}\")\n",
        "  #  torch.save(model.state_dict(), \"/content/drive/MyDrive/CompWeb/FMNISTmodel.pth\")\n"
      ]
    },
    {
      "cell_type": "code",
      "execution_count": 4,
      "metadata": {
        "colab": {
          "base_uri": "https://localhost:8080/"
        },
        "id": "KEs5ARCP6rJs",
        "outputId": "c1c46a75-6a83-4eb7-9fd4-3c84f41a8670"
      },
      "outputs": [],
      "source": [
        "def evaluate_model(model):\n",
        "    correct = 0\n",
        "    total = 0\n",
        "    accuracy, test_loss = 0.0, 0.0\n",
        "    criterion = nn.CrossEntropyLoss()\n",
        "    # since we're not training, we don't need to calculate the gradients for our outputs\n",
        "    with torch.no_grad():\n",
        "        for data in test_loader:\n",
        "            images, labels = data\n",
        "            images = images.to(device)\n",
        "            labels = labels.to(device)\n",
        "            # calculate outputs by running images through the network\n",
        "            out = model(images)\n",
        "            preds = out.argmax(axis = 1)\n",
        "            # calculate loss from test\n",
        "            loss = criterion(out, labels)\n",
        "            test_loss += loss.item()\n",
        "            accuracy += torch.sum(preds == labels).item() / len(labels)\n",
        "            # the class with the highest energy is what we choose as prediction\n",
        "            _, predicted = torch.max(out.data, 1)\n",
        "            total += labels.size(0)\n",
        "            correct += (predicted == labels).sum().item()\n",
        "\n",
        "    print(f'Accuracy of the network on the 10000 test images: {100 * correct / total} %')\n",
        "    print(f'Loss of the network on the 10000 test images: {100 * test_loss / len(test_loader)} %')\n",
        "\n",
        "    print(f\"loss: {test_loss / len(data_loader)}\")\n",
        "    print(f\"accuracy: {accuracy / len(data_loader)}\")"
      ]
    },
    {
      "cell_type": "markdown",
      "metadata": {
        "id": "wIrSRYNcTkDq"
      },
      "source": [
        "# Train Model"
      ]
    },
    {
      "cell_type": "code",
      "execution_count": null,
      "metadata": {
        "colab": {
          "base_uri": "https://localhost:8080/"
        },
        "id": "ruLB-2K8jyBB",
        "outputId": "17fa2c11-922c-49eb-96fe-e5e21c52cf2a"
      },
      "outputs": [],
      "source": [
        "from torch.nn import Conv2d\n",
        "model    = timm.create_model(model_name = 'resnet18', pretrained = True)\n",
        "model.conv1 = Conv2d(1, 64, kernel_size=(7, 7), stride=(2, 2), padding=(3, 3), bias=False)\n",
        "model.fc = nn.Linear(512, 10)\n",
        "model.to(device)\n",
        "try:\n",
        "    train(model,is_stitch=False)\n",
        "except:\n",
        "    torch.save(model.state_dict(), \"/\"+DATA+\"ResNet18model\"+str(TRAIN_SIZE)+\".pth\")\n",
        "torch.save(model.state_dict(), \"/\"+DATA+\"ResNet18model\"+str(TRAIN_SIZE)+\".pth\")"
      ]
    },
    {
      "cell_type": "markdown",
      "metadata": {
        "id": "AiH6I8z1C8-B"
      },
      "source": [
        "# Reload Pretrained Model"
      ]
    },
    {
      "cell_type": "code",
      "execution_count": 5,
      "metadata": {},
      "outputs": [],
      "source": [
        "#config\n",
        "# MODELB->MODELA\n",
        "#modelB\n",
        "MODELB =\"MNIST\"\n",
        "B_PATH = MODELB+\"model/\"+ MODELB +\"ResNet18model10000.pth\"\n",
        "\n",
        "#modelA\n",
        "MODELA =\"FMNIST\"\n",
        "A_PATH = MODELA+\"model/\"+ MODELA +\"ResNet18model10000.pth\""
      ]
    },
    {
      "cell_type": "code",
      "execution_count": 6,
      "metadata": {
        "colab": {
          "base_uri": "https://localhost:8080/"
        },
        "id": "z8MbHxwtCGFK",
        "outputId": "b690d076-8e0f-45a4-f711-eb3af15d0a37"
      },
      "outputs": [
        {
          "data": {
            "text/plain": [
              "ResNet(\n",
              "  (conv1): Conv2d(1, 64, kernel_size=(7, 7), stride=(2, 2), padding=(3, 3), bias=False)\n",
              "  (bn1): BatchNorm2d(64, eps=1e-05, momentum=0.1, affine=True, track_running_stats=True)\n",
              "  (act1): ReLU(inplace=True)\n",
              "  (maxpool): MaxPool2d(kernel_size=3, stride=2, padding=1, dilation=1, ceil_mode=False)\n",
              "  (layer1): Sequential(\n",
              "    (0): BasicBlock(\n",
              "      (conv1): Conv2d(64, 64, kernel_size=(3, 3), stride=(1, 1), padding=(1, 1), bias=False)\n",
              "      (bn1): BatchNorm2d(64, eps=1e-05, momentum=0.1, affine=True, track_running_stats=True)\n",
              "      (drop_block): Identity()\n",
              "      (act1): ReLU(inplace=True)\n",
              "      (aa): Identity()\n",
              "      (conv2): Conv2d(64, 64, kernel_size=(3, 3), stride=(1, 1), padding=(1, 1), bias=False)\n",
              "      (bn2): BatchNorm2d(64, eps=1e-05, momentum=0.1, affine=True, track_running_stats=True)\n",
              "      (act2): ReLU(inplace=True)\n",
              "    )\n",
              "    (1): BasicBlock(\n",
              "      (conv1): Conv2d(64, 64, kernel_size=(3, 3), stride=(1, 1), padding=(1, 1), bias=False)\n",
              "      (bn1): BatchNorm2d(64, eps=1e-05, momentum=0.1, affine=True, track_running_stats=True)\n",
              "      (drop_block): Identity()\n",
              "      (act1): ReLU(inplace=True)\n",
              "      (aa): Identity()\n",
              "      (conv2): Conv2d(64, 64, kernel_size=(3, 3), stride=(1, 1), padding=(1, 1), bias=False)\n",
              "      (bn2): BatchNorm2d(64, eps=1e-05, momentum=0.1, affine=True, track_running_stats=True)\n",
              "      (act2): ReLU(inplace=True)\n",
              "    )\n",
              "  )\n",
              "  (layer2): Sequential(\n",
              "    (0): BasicBlock(\n",
              "      (conv1): Conv2d(64, 128, kernel_size=(3, 3), stride=(2, 2), padding=(1, 1), bias=False)\n",
              "      (bn1): BatchNorm2d(128, eps=1e-05, momentum=0.1, affine=True, track_running_stats=True)\n",
              "      (drop_block): Identity()\n",
              "      (act1): ReLU(inplace=True)\n",
              "      (aa): Identity()\n",
              "      (conv2): Conv2d(128, 128, kernel_size=(3, 3), stride=(1, 1), padding=(1, 1), bias=False)\n",
              "      (bn2): BatchNorm2d(128, eps=1e-05, momentum=0.1, affine=True, track_running_stats=True)\n",
              "      (act2): ReLU(inplace=True)\n",
              "      (downsample): Sequential(\n",
              "        (0): Conv2d(64, 128, kernel_size=(1, 1), stride=(2, 2), bias=False)\n",
              "        (1): BatchNorm2d(128, eps=1e-05, momentum=0.1, affine=True, track_running_stats=True)\n",
              "      )\n",
              "    )\n",
              "    (1): BasicBlock(\n",
              "      (conv1): Conv2d(128, 128, kernel_size=(3, 3), stride=(1, 1), padding=(1, 1), bias=False)\n",
              "      (bn1): BatchNorm2d(128, eps=1e-05, momentum=0.1, affine=True, track_running_stats=True)\n",
              "      (drop_block): Identity()\n",
              "      (act1): ReLU(inplace=True)\n",
              "      (aa): Identity()\n",
              "      (conv2): Conv2d(128, 128, kernel_size=(3, 3), stride=(1, 1), padding=(1, 1), bias=False)\n",
              "      (bn2): BatchNorm2d(128, eps=1e-05, momentum=0.1, affine=True, track_running_stats=True)\n",
              "      (act2): ReLU(inplace=True)\n",
              "    )\n",
              "  )\n",
              "  (layer3): Sequential(\n",
              "    (0): BasicBlock(\n",
              "      (conv1): Conv2d(128, 256, kernel_size=(3, 3), stride=(2, 2), padding=(1, 1), bias=False)\n",
              "      (bn1): BatchNorm2d(256, eps=1e-05, momentum=0.1, affine=True, track_running_stats=True)\n",
              "      (drop_block): Identity()\n",
              "      (act1): ReLU(inplace=True)\n",
              "      (aa): Identity()\n",
              "      (conv2): Conv2d(256, 256, kernel_size=(3, 3), stride=(1, 1), padding=(1, 1), bias=False)\n",
              "      (bn2): BatchNorm2d(256, eps=1e-05, momentum=0.1, affine=True, track_running_stats=True)\n",
              "      (act2): ReLU(inplace=True)\n",
              "      (downsample): Sequential(\n",
              "        (0): Conv2d(128, 256, kernel_size=(1, 1), stride=(2, 2), bias=False)\n",
              "        (1): BatchNorm2d(256, eps=1e-05, momentum=0.1, affine=True, track_running_stats=True)\n",
              "      )\n",
              "    )\n",
              "    (1): BasicBlock(\n",
              "      (conv1): Conv2d(256, 256, kernel_size=(3, 3), stride=(1, 1), padding=(1, 1), bias=False)\n",
              "      (bn1): BatchNorm2d(256, eps=1e-05, momentum=0.1, affine=True, track_running_stats=True)\n",
              "      (drop_block): Identity()\n",
              "      (act1): ReLU(inplace=True)\n",
              "      (aa): Identity()\n",
              "      (conv2): Conv2d(256, 256, kernel_size=(3, 3), stride=(1, 1), padding=(1, 1), bias=False)\n",
              "      (bn2): BatchNorm2d(256, eps=1e-05, momentum=0.1, affine=True, track_running_stats=True)\n",
              "      (act2): ReLU(inplace=True)\n",
              "    )\n",
              "  )\n",
              "  (layer4): Sequential(\n",
              "    (0): BasicBlock(\n",
              "      (conv1): Conv2d(256, 512, kernel_size=(3, 3), stride=(2, 2), padding=(1, 1), bias=False)\n",
              "      (bn1): BatchNorm2d(512, eps=1e-05, momentum=0.1, affine=True, track_running_stats=True)\n",
              "      (drop_block): Identity()\n",
              "      (act1): ReLU(inplace=True)\n",
              "      (aa): Identity()\n",
              "      (conv2): Conv2d(512, 512, kernel_size=(3, 3), stride=(1, 1), padding=(1, 1), bias=False)\n",
              "      (bn2): BatchNorm2d(512, eps=1e-05, momentum=0.1, affine=True, track_running_stats=True)\n",
              "      (act2): ReLU(inplace=True)\n",
              "      (downsample): Sequential(\n",
              "        (0): Conv2d(256, 512, kernel_size=(1, 1), stride=(2, 2), bias=False)\n",
              "        (1): BatchNorm2d(512, eps=1e-05, momentum=0.1, affine=True, track_running_stats=True)\n",
              "      )\n",
              "    )\n",
              "    (1): BasicBlock(\n",
              "      (conv1): Conv2d(512, 512, kernel_size=(3, 3), stride=(1, 1), padding=(1, 1), bias=False)\n",
              "      (bn1): BatchNorm2d(512, eps=1e-05, momentum=0.1, affine=True, track_running_stats=True)\n",
              "      (drop_block): Identity()\n",
              "      (act1): ReLU(inplace=True)\n",
              "      (aa): Identity()\n",
              "      (conv2): Conv2d(512, 512, kernel_size=(3, 3), stride=(1, 1), padding=(1, 1), bias=False)\n",
              "      (bn2): BatchNorm2d(512, eps=1e-05, momentum=0.1, affine=True, track_running_stats=True)\n",
              "      (act2): ReLU(inplace=True)\n",
              "    )\n",
              "  )\n",
              "  (global_pool): SelectAdaptivePool2d (pool_type=avg, flatten=Flatten(start_dim=1, end_dim=-1))\n",
              "  (fc): Linear(in_features=512, out_features=10, bias=True)\n",
              ")"
            ]
          },
          "execution_count": 6,
          "metadata": {},
          "output_type": "execute_result"
        }
      ],
      "source": [
        "modelA  = timm.create_model(model_name = 'resnet18', pretrained = False)\n",
        "modelA.conv1 = nn.Conv2d(1, 64, kernel_size=(7, 7), stride=(2, 2), padding=(3, 3), bias=False)\n",
        "modelA.fc = nn.Linear(512, 10)\n",
        "modelA.to(device)\n",
        "\n",
        "checkpoint = torch.load(A_PATH)\n",
        "# load model weights state_dict\n",
        "# model.load_state_dict(checkpoint['model_state_dict'])\n",
        "modelA.load_state_dict(checkpoint)\n",
        "modelA.eval()"
      ]
    },
    {
      "cell_type": "code",
      "execution_count": 10,
      "metadata": {},
      "outputs": [
        {
          "name": "stdout",
          "output_type": "stream",
          "text": [
            "Accuracy of the network on the 10000 test images: 11.528445512820513 %\n",
            "Loss of the network on the 10000 test images: 658.3590330221714 %\n",
            "loss: 6.583590330221714\n",
            "accuracy: 0.11528445512820513\n"
          ]
        }
      ],
      "source": [
        "evaluate_model(modelA)"
      ]
    },
    {
      "cell_type": "code",
      "execution_count": 12,
      "metadata": {},
      "outputs": [
        {
          "data": {
            "text/plain": [
              "ResNet(\n",
              "  (conv1): Conv2d(1, 64, kernel_size=(7, 7), stride=(2, 2), padding=(3, 3), bias=False)\n",
              "  (bn1): BatchNorm2d(64, eps=1e-05, momentum=0.1, affine=True, track_running_stats=True)\n",
              "  (act1): ReLU(inplace=True)\n",
              "  (maxpool): MaxPool2d(kernel_size=3, stride=2, padding=1, dilation=1, ceil_mode=False)\n",
              "  (layer1): Sequential(\n",
              "    (0): BasicBlock(\n",
              "      (conv1): Conv2d(64, 64, kernel_size=(3, 3), stride=(1, 1), padding=(1, 1), bias=False)\n",
              "      (bn1): BatchNorm2d(64, eps=1e-05, momentum=0.1, affine=True, track_running_stats=True)\n",
              "      (drop_block): Identity()\n",
              "      (act1): ReLU(inplace=True)\n",
              "      (aa): Identity()\n",
              "      (conv2): Conv2d(64, 64, kernel_size=(3, 3), stride=(1, 1), padding=(1, 1), bias=False)\n",
              "      (bn2): BatchNorm2d(64, eps=1e-05, momentum=0.1, affine=True, track_running_stats=True)\n",
              "      (act2): ReLU(inplace=True)\n",
              "    )\n",
              "    (1): BasicBlock(\n",
              "      (conv1): Conv2d(64, 64, kernel_size=(3, 3), stride=(1, 1), padding=(1, 1), bias=False)\n",
              "      (bn1): BatchNorm2d(64, eps=1e-05, momentum=0.1, affine=True, track_running_stats=True)\n",
              "      (drop_block): Identity()\n",
              "      (act1): ReLU(inplace=True)\n",
              "      (aa): Identity()\n",
              "      (conv2): Conv2d(64, 64, kernel_size=(3, 3), stride=(1, 1), padding=(1, 1), bias=False)\n",
              "      (bn2): BatchNorm2d(64, eps=1e-05, momentum=0.1, affine=True, track_running_stats=True)\n",
              "      (act2): ReLU(inplace=True)\n",
              "    )\n",
              "  )\n",
              "  (layer2): Sequential(\n",
              "    (0): BasicBlock(\n",
              "      (conv1): Conv2d(64, 128, kernel_size=(3, 3), stride=(2, 2), padding=(1, 1), bias=False)\n",
              "      (bn1): BatchNorm2d(128, eps=1e-05, momentum=0.1, affine=True, track_running_stats=True)\n",
              "      (drop_block): Identity()\n",
              "      (act1): ReLU(inplace=True)\n",
              "      (aa): Identity()\n",
              "      (conv2): Conv2d(128, 128, kernel_size=(3, 3), stride=(1, 1), padding=(1, 1), bias=False)\n",
              "      (bn2): BatchNorm2d(128, eps=1e-05, momentum=0.1, affine=True, track_running_stats=True)\n",
              "      (act2): ReLU(inplace=True)\n",
              "      (downsample): Sequential(\n",
              "        (0): Conv2d(64, 128, kernel_size=(1, 1), stride=(2, 2), bias=False)\n",
              "        (1): BatchNorm2d(128, eps=1e-05, momentum=0.1, affine=True, track_running_stats=True)\n",
              "      )\n",
              "    )\n",
              "    (1): BasicBlock(\n",
              "      (conv1): Conv2d(128, 128, kernel_size=(3, 3), stride=(1, 1), padding=(1, 1), bias=False)\n",
              "      (bn1): BatchNorm2d(128, eps=1e-05, momentum=0.1, affine=True, track_running_stats=True)\n",
              "      (drop_block): Identity()\n",
              "      (act1): ReLU(inplace=True)\n",
              "      (aa): Identity()\n",
              "      (conv2): Conv2d(128, 128, kernel_size=(3, 3), stride=(1, 1), padding=(1, 1), bias=False)\n",
              "      (bn2): BatchNorm2d(128, eps=1e-05, momentum=0.1, affine=True, track_running_stats=True)\n",
              "      (act2): ReLU(inplace=True)\n",
              "    )\n",
              "  )\n",
              "  (layer3): Sequential(\n",
              "    (0): BasicBlock(\n",
              "      (conv1): Conv2d(128, 256, kernel_size=(3, 3), stride=(2, 2), padding=(1, 1), bias=False)\n",
              "      (bn1): BatchNorm2d(256, eps=1e-05, momentum=0.1, affine=True, track_running_stats=True)\n",
              "      (drop_block): Identity()\n",
              "      (act1): ReLU(inplace=True)\n",
              "      (aa): Identity()\n",
              "      (conv2): Conv2d(256, 256, kernel_size=(3, 3), stride=(1, 1), padding=(1, 1), bias=False)\n",
              "      (bn2): BatchNorm2d(256, eps=1e-05, momentum=0.1, affine=True, track_running_stats=True)\n",
              "      (act2): ReLU(inplace=True)\n",
              "      (downsample): Sequential(\n",
              "        (0): Conv2d(128, 256, kernel_size=(1, 1), stride=(2, 2), bias=False)\n",
              "        (1): BatchNorm2d(256, eps=1e-05, momentum=0.1, affine=True, track_running_stats=True)\n",
              "      )\n",
              "    )\n",
              "    (1): BasicBlock(\n",
              "      (conv1): Conv2d(256, 256, kernel_size=(3, 3), stride=(1, 1), padding=(1, 1), bias=False)\n",
              "      (bn1): BatchNorm2d(256, eps=1e-05, momentum=0.1, affine=True, track_running_stats=True)\n",
              "      (drop_block): Identity()\n",
              "      (act1): ReLU(inplace=True)\n",
              "      (aa): Identity()\n",
              "      (conv2): Conv2d(256, 256, kernel_size=(3, 3), stride=(1, 1), padding=(1, 1), bias=False)\n",
              "      (bn2): BatchNorm2d(256, eps=1e-05, momentum=0.1, affine=True, track_running_stats=True)\n",
              "      (act2): ReLU(inplace=True)\n",
              "    )\n",
              "  )\n",
              "  (layer4): Sequential(\n",
              "    (0): BasicBlock(\n",
              "      (conv1): Conv2d(256, 512, kernel_size=(3, 3), stride=(2, 2), padding=(1, 1), bias=False)\n",
              "      (bn1): BatchNorm2d(512, eps=1e-05, momentum=0.1, affine=True, track_running_stats=True)\n",
              "      (drop_block): Identity()\n",
              "      (act1): ReLU(inplace=True)\n",
              "      (aa): Identity()\n",
              "      (conv2): Conv2d(512, 512, kernel_size=(3, 3), stride=(1, 1), padding=(1, 1), bias=False)\n",
              "      (bn2): BatchNorm2d(512, eps=1e-05, momentum=0.1, affine=True, track_running_stats=True)\n",
              "      (act2): ReLU(inplace=True)\n",
              "      (downsample): Sequential(\n",
              "        (0): Conv2d(256, 512, kernel_size=(1, 1), stride=(2, 2), bias=False)\n",
              "        (1): BatchNorm2d(512, eps=1e-05, momentum=0.1, affine=True, track_running_stats=True)\n",
              "      )\n",
              "    )\n",
              "    (1): BasicBlock(\n",
              "      (conv1): Conv2d(512, 512, kernel_size=(3, 3), stride=(1, 1), padding=(1, 1), bias=False)\n",
              "      (bn1): BatchNorm2d(512, eps=1e-05, momentum=0.1, affine=True, track_running_stats=True)\n",
              "      (drop_block): Identity()\n",
              "      (act1): ReLU(inplace=True)\n",
              "      (aa): Identity()\n",
              "      (conv2): Conv2d(512, 512, kernel_size=(3, 3), stride=(1, 1), padding=(1, 1), bias=False)\n",
              "      (bn2): BatchNorm2d(512, eps=1e-05, momentum=0.1, affine=True, track_running_stats=True)\n",
              "      (act2): ReLU(inplace=True)\n",
              "    )\n",
              "  )\n",
              "  (global_pool): SelectAdaptivePool2d (pool_type=avg, flatten=Flatten(start_dim=1, end_dim=-1))\n",
              "  (fc): Linear(in_features=512, out_features=10, bias=True)\n",
              ")"
            ]
          },
          "execution_count": 12,
          "metadata": {},
          "output_type": "execute_result"
        }
      ],
      "source": [
        "modelB  = timm.create_model(model_name = 'resnet18', pretrained = False)\n",
        "modelB.conv1 = nn.Conv2d(1, 64, kernel_size=(7, 7), stride=(2, 2), padding=(3, 3), bias=False)\n",
        "modelB.fc = nn.Linear(512, 10)\n",
        "modelB.to(device)\n",
        "\n",
        "checkpoint = torch.load(B_PATH)\n",
        "# load model weights state_dict\n",
        "# model.load_state_dict(checkpoint['model_state_dict'])\n",
        "modelB.load_state_dict(checkpoint)\n",
        "modelB.eval()\n"
      ]
    },
    {
      "cell_type": "code",
      "execution_count": 13,
      "metadata": {},
      "outputs": [
        {
          "name": "stdout",
          "output_type": "stream",
          "text": [
            "Accuracy of the network on the 10000 test images: 98.68790064102564 %\n",
            "Loss of the network on the 10000 test images: 5.466532010681336 %\n",
            "loss: 0.05466532010681336\n",
            "accuracy: 0.9868790064102564\n"
          ]
        }
      ],
      "source": [
        "evaluate_model(modelB)"
      ]
    },
    {
      "cell_type": "code",
      "execution_count": 29,
      "metadata": {
        "id": "3NTYJ7pWBX5S"
      },
      "outputs": [],
      "source": [
        "from torch.nn import Conv2d\n",
        "\n",
        "def load_model(model):\n",
        "\n",
        "  # load the model checkpoint\n",
        "  checkpoint = torch.load('/content/drive/MyDrive/CompWeb/model.pth')\n",
        "  # load model weights state_dict\n",
        "  model.load_state_dict(checkpoint['model_state_dict'])\n",
        "  print('Previously trained model weights state_dict loaded...')\n",
        "  # load trained optimizer state_dict\n",
        "  #optimizer.load_state_dict(checkpoint['optimizer_state_dict'])\n",
        "  print('Previously trained optimizer state_dict loaded...')\n",
        "  epochs = checkpoint['epoch']\n",
        "  # load the criterion\n",
        "  criterion = checkpoint['loss']\n",
        "  print('Trained model loss function loaded...')\n",
        "  print(f\"Previously trained for {epochs} number of epochs...\")\n",
        "  # train for more epochs\n",
        "  # epochs = new_epochs\n",
        "  # print(f\"Train for {epochs} more epochs...\")\n"
      ]
    },
    {
      "cell_type": "markdown",
      "metadata": {
        "id": "8aJIIajqNKja"
      },
      "source": [
        "# Stitch Model class"
      ]
    },
    {
      "cell_type": "code",
      "execution_count": 14,
      "metadata": {
        "id": "CrIi5tVDt-Nz"
      },
      "outputs": [],
      "source": [
        "class StitchedModel(nn.Module):\n",
        "  def __init__(self, modelB, modelA):\n",
        "    super(StitchedModel,self).__init__()\n",
        "    #stitch layer 1 to  layer 2\n",
        "    self.c1 = 64\n",
        "    self.c2 = 64\n",
        "    \n",
        "    #buttom model\n",
        "    self.modelBconv1 = modelB.conv1\n",
        "    self.modelBbn1 = modelB.bn1\n",
        "    self.modelBact1 = modelB.act1\n",
        "    self.modelBmaxpool = modelB.maxpool\n",
        "    self.modelBlayer1 = modelB.layer1\n",
        "    self.modelBlayer2 = modelB.layer2\n",
        "    self.modelBlayer3 = modelB.layer3\n",
        "    self.modelBlayer4 = modelB.layer4\n",
        "    self.modelBglobal_pool = modelB.global_pool\n",
        "    self.modelBfc = modelB.fc\n",
        "    \n",
        "    #top model\n",
        "    self.modelAconv1 = modelA.conv1\n",
        "    self.modelAbn1 = modelA.bn1\n",
        "    self.modelAact1 = modelA.act1\n",
        "    self.modelAmaxpool = modelA.maxpool\n",
        "    self.modelAlayer1 = modelA.layer1\n",
        "    self.modelAlayer2 = modelA.layer2\n",
        "    self.modelAlayer3 = modelA.layer3\n",
        "    self.modelAlayer4 = modelA.layer4\n",
        "    self.modelAglobal_pool = modelA.global_pool\n",
        "    self.modelAfc = modelA.fc\n",
        "\n",
        "    #stitching layer\n",
        "    self.bn1 = nn.BatchNorm2d(self.c1)\n",
        "    self.conv = nn.Conv2d(in_channels = self.c1, out_channels = self.c2,kernel_size=1)\n",
        "    self.bn2 = nn.BatchNorm2d(self.c2)\n",
        "\n",
        "  def forward(self,x):\n",
        "    x=self.modelBconv1(x)   \n",
        "    x=self.modelBbn1(x)   \n",
        "    x=self.modelBact1(x)\n",
        "    x=self.modelBmaxpool(x)   \n",
        "    x=self.modelBlayer1(x)\n",
        "    # x=self.modelBlayer2(x)\n",
        "    # x=self.modelBlayer3(x)\n",
        "    # x=self.modelBlayer4(x)\n",
        "    # x=self.modelBglobal_pool(x)\n",
        "    # x=self.modelBfc(x)\n",
        "    \n",
        "    x=self.bn1(x)\n",
        "    x=self.conv(x)\n",
        "    x=self.bn2(x)\n",
        "    \n",
        "    # x=self.modelAconv1(x)   \n",
        "    # x=self.modelAbn1(x)   \n",
        "    # x=self.modelAact1(x)\n",
        "    # x=self.modelAmaxpool(x)   \n",
        "    # x=self.modelAlayer1(x)\n",
        "    x=self.modelAlayer2(x)\n",
        "    x=self.modelAlayer3(x)\n",
        "    x=self.modelAlayer4(x)\n",
        "    x=self.modelAglobal_pool(x)\n",
        "    x=self.modelAfc(x)\n",
        "\n",
        "    return x\n",
        "\n"
      ]
    },
    {
      "attachments": {},
      "cell_type": "markdown",
      "metadata": {},
      "source": [
        "# Train Stitch Model"
      ]
    },
    {
      "cell_type": "code",
      "execution_count": 15,
      "metadata": {
        "id": "1vpV12y_chDO"
      },
      "outputs": [],
      "source": [
        "stitchmodel =StitchedModel(modelB, modelA).to(device)\n",
        "#freeze layer\n",
        "for param in stitchmodel.parameters():\n",
        "    param.requires_grad = False\n",
        "\n",
        "#unfreeze stitching layers\n",
        "for param in stitchmodel.bn1.parameters():\n",
        "    param.requires_grad = True\n",
        "\n",
        "for param in stitchmodel.conv.parameters():\n",
        "    param.requires_grad = True\n",
        "\n",
        "for param in stitchmodel.bn2.parameters():\n",
        "    param.requires_grad = True\n"
      ]
    },
    {
      "cell_type": "code",
      "execution_count": 16,
      "metadata": {},
      "outputs": [
        {
          "name": "stdout",
          "output_type": "stream",
          "text": [
            "Accuracy of the network on the 10000 test images: 7.602163461538462 %\n",
            "Loss of the network on the 10000 test images: 602.0898867876102 %\n",
            "loss: 6.0208988678761015\n",
            "accuracy: 0.07602163461538461\n"
          ]
        }
      ],
      "source": [
        "evaluate_model(stitchmodel)"
      ]
    },
    {
      "cell_type": "code",
      "execution_count": null,
      "metadata": {
        "colab": {
          "base_uri": "https://localhost:8080/"
        },
        "id": "h6E7dvrHCto1",
        "outputId": "af01c3e1-f017-435c-8027-40b8952bf5e0"
      },
      "outputs": [],
      "source": [
        "try:\n",
        "    print(\"training\"+MODELB+\"to\"+MODELA+\"trainedon\"+DATA+\".......\")\n",
        "    train(stitchmodel,is_stitch=True)\n",
        "except KeyboardInterrupt:\n",
        "    pass\n",
        "#torch.save(stitchmodel.state_dict(), \"StitchedModel/\"+MODELB+\"to\"+MODELA+\"trainedon\"+DATA+\"2.pth\")\n",
        "\n",
        "model_scripted = torch.jit.script(stitchmodel) # Export to TorchScript\n",
        "model_scripted.save(\"StitchedModel(layer2)/\"+MODELB+\"to\"+MODELA+\"trainedon\"+DATA+\".pth\") # Save"
      ]
    },
    {
      "cell_type": "code",
      "execution_count": 15,
      "metadata": {},
      "outputs": [
        {
          "ename": "NameError",
          "evalue": "name 'stitchmodel' is not defined",
          "output_type": "error",
          "traceback": [
            "\u001b[1;31m---------------------------------------------------------------------------\u001b[0m",
            "\u001b[1;31mNameError\u001b[0m                                 Traceback (most recent call last)",
            "Cell \u001b[1;32mIn[15], line 1\u001b[0m\n\u001b[1;32m----> 1\u001b[0m evaluate_model(stitchmodel)\n",
            "\u001b[1;31mNameError\u001b[0m: name 'stitchmodel' is not defined"
          ]
        }
      ],
      "source": [
        "evaluate_model(stitchmodel)"
      ]
    },
    {
      "cell_type": "code",
      "execution_count": 18,
      "metadata": {},
      "outputs": [
        {
          "name": "stdout",
          "output_type": "stream",
          "text": [
            "trainingFMNISTtoMNISTtrainedonMNIST.......\n"
          ]
        },
        {
          "name": "stderr",
          "output_type": "stream",
          "text": [
            "100%|██████████| 78/78 [00:04<00:00, 18.95it/s]\n"
          ]
        },
        {
          "name": "stdout",
          "output_type": "stream",
          "text": [
            "epoch: 1\n",
            "loss: 1.0454222067044332\n",
            "accuracy: 0.8053886217948718\n"
          ]
        },
        {
          "name": "stderr",
          "output_type": "stream",
          "text": [
            "100%|██████████| 78/78 [00:03<00:00, 21.51it/s]\n"
          ]
        },
        {
          "name": "stdout",
          "output_type": "stream",
          "text": [
            "epoch: 2\n",
            "loss: 0.18195431751127428\n",
            "accuracy: 0.9532251602564102\n"
          ]
        },
        {
          "name": "stderr",
          "output_type": "stream",
          "text": [
            "100%|██████████| 78/78 [00:03<00:00, 21.66it/s]\n"
          ]
        },
        {
          "name": "stdout",
          "output_type": "stream",
          "text": [
            "epoch: 3\n",
            "loss: 0.13590435546416885\n",
            "accuracy: 0.9651442307692307\n"
          ]
        },
        {
          "name": "stderr",
          "output_type": "stream",
          "text": [
            "100%|██████████| 78/78 [00:03<00:00, 22.33it/s]\n"
          ]
        },
        {
          "name": "stdout",
          "output_type": "stream",
          "text": [
            "epoch: 4\n",
            "loss: 0.09999916930563557\n",
            "accuracy: 0.9716546474358975\n"
          ]
        },
        {
          "name": "stderr",
          "output_type": "stream",
          "text": [
            "100%|██████████| 78/78 [00:03<00:00, 22.10it/s]\n"
          ]
        },
        {
          "name": "stdout",
          "output_type": "stream",
          "text": [
            "epoch: 5\n",
            "loss: 0.08825665431765792\n",
            "accuracy: 0.9755608974358975\n"
          ]
        },
        {
          "name": "stderr",
          "output_type": "stream",
          "text": [
            "100%|██████████| 78/78 [00:03<00:00, 22.34it/s]\n"
          ]
        },
        {
          "name": "stdout",
          "output_type": "stream",
          "text": [
            "epoch: 6\n",
            "loss: 0.0704210314911623\n",
            "accuracy: 0.9792668269230769\n"
          ]
        },
        {
          "name": "stderr",
          "output_type": "stream",
          "text": [
            "100%|██████████| 78/78 [00:03<00:00, 22.00it/s]\n"
          ]
        },
        {
          "name": "stdout",
          "output_type": "stream",
          "text": [
            "epoch: 7\n",
            "loss: 0.061492700893909506\n",
            "accuracy: 0.9821714743589743\n"
          ]
        },
        {
          "name": "stderr",
          "output_type": "stream",
          "text": [
            "100%|██████████| 78/78 [00:03<00:00, 22.29it/s]\n"
          ]
        },
        {
          "name": "stdout",
          "output_type": "stream",
          "text": [
            "epoch: 8\n",
            "loss: 0.059763132727358684\n",
            "accuracy: 0.9824719551282052\n"
          ]
        },
        {
          "name": "stderr",
          "output_type": "stream",
          "text": [
            "100%|██████████| 78/78 [00:03<00:00, 22.58it/s]\n"
          ]
        },
        {
          "name": "stdout",
          "output_type": "stream",
          "text": [
            "epoch: 9\n",
            "loss: 0.049299751387503095\n",
            "accuracy: 0.9862780448717948\n"
          ]
        },
        {
          "name": "stderr",
          "output_type": "stream",
          "text": [
            "100%|██████████| 78/78 [00:03<00:00, 22.32it/s]\n"
          ]
        },
        {
          "name": "stdout",
          "output_type": "stream",
          "text": [
            "epoch: 10\n",
            "loss: 0.05115792227055257\n",
            "accuracy: 0.9840745192307693\n"
          ]
        },
        {
          "name": "stderr",
          "output_type": "stream",
          "text": [
            "100%|██████████| 78/78 [00:03<00:00, 22.34it/s]\n"
          ]
        },
        {
          "name": "stdout",
          "output_type": "stream",
          "text": [
            "epoch: 11\n",
            "loss: 0.04926113438201495\n",
            "accuracy: 0.9853766025641025\n"
          ]
        },
        {
          "name": "stderr",
          "output_type": "stream",
          "text": [
            "100%|██████████| 78/78 [00:03<00:00, 22.23it/s]\n"
          ]
        },
        {
          "name": "stdout",
          "output_type": "stream",
          "text": [
            "epoch: 12\n",
            "loss: 0.038813405320979655\n",
            "accuracy: 0.9876802884615384\n"
          ]
        },
        {
          "name": "stderr",
          "output_type": "stream",
          "text": [
            "100%|██████████| 78/78 [00:03<00:00, 22.13it/s]\n"
          ]
        },
        {
          "name": "stdout",
          "output_type": "stream",
          "text": [
            "epoch: 13\n",
            "loss: 0.04204236839909871\n",
            "accuracy: 0.9864783653846154\n"
          ]
        },
        {
          "name": "stderr",
          "output_type": "stream",
          "text": [
            "100%|██████████| 78/78 [00:03<00:00, 22.44it/s]\n"
          ]
        },
        {
          "name": "stdout",
          "output_type": "stream",
          "text": [
            "epoch: 14\n",
            "loss: 0.035641547585001744\n",
            "accuracy: 0.9886818910256411\n"
          ]
        },
        {
          "name": "stderr",
          "output_type": "stream",
          "text": [
            "100%|██████████| 78/78 [00:03<00:00, 22.05it/s]\n"
          ]
        },
        {
          "name": "stdout",
          "output_type": "stream",
          "text": [
            "epoch: 15\n",
            "loss: 0.040407741851268865\n",
            "accuracy: 0.987479967948718\n"
          ]
        },
        {
          "name": "stderr",
          "output_type": "stream",
          "text": [
            "100%|██████████| 78/78 [00:03<00:00, 22.40it/s]\n"
          ]
        },
        {
          "name": "stdout",
          "output_type": "stream",
          "text": [
            "epoch: 16\n",
            "loss: 0.03001642386497667\n",
            "accuracy: 0.9900841346153846\n"
          ]
        },
        {
          "name": "stderr",
          "output_type": "stream",
          "text": [
            "100%|██████████| 78/78 [00:03<00:00, 22.28it/s]\n"
          ]
        },
        {
          "name": "stdout",
          "output_type": "stream",
          "text": [
            "epoch: 17\n",
            "loss: 0.03590923878185164\n",
            "accuracy: 0.9888822115384616\n"
          ]
        },
        {
          "name": "stderr",
          "output_type": "stream",
          "text": [
            "100%|██████████| 78/78 [00:03<00:00, 21.77it/s]\n"
          ]
        },
        {
          "name": "stdout",
          "output_type": "stream",
          "text": [
            "epoch: 18\n",
            "loss: 0.03551833706501967\n",
            "accuracy: 0.9889823717948718\n"
          ]
        },
        {
          "name": "stderr",
          "output_type": "stream",
          "text": [
            "100%|██████████| 78/78 [00:03<00:00, 21.96it/s]\n"
          ]
        },
        {
          "name": "stdout",
          "output_type": "stream",
          "text": [
            "epoch: 19\n",
            "loss: 0.036430449438436575\n",
            "accuracy: 0.9892828525641025\n"
          ]
        },
        {
          "name": "stderr",
          "output_type": "stream",
          "text": [
            "100%|██████████| 78/78 [00:03<00:00, 22.07it/s]\n"
          ]
        },
        {
          "name": "stdout",
          "output_type": "stream",
          "text": [
            "epoch: 20\n",
            "loss: 0.02920791031479334\n",
            "accuracy: 0.9912860576923077\n"
          ]
        },
        {
          "name": "stderr",
          "output_type": "stream",
          "text": [
            "100%|██████████| 78/78 [00:03<00:00, 22.53it/s]\n"
          ]
        },
        {
          "name": "stdout",
          "output_type": "stream",
          "text": [
            "epoch: 21\n",
            "loss: 0.02995116343551602\n",
            "accuracy: 0.9903846153846154\n"
          ]
        },
        {
          "name": "stderr",
          "output_type": "stream",
          "text": [
            "100%|██████████| 78/78 [00:03<00:00, 22.43it/s]\n"
          ]
        },
        {
          "name": "stdout",
          "output_type": "stream",
          "text": [
            "epoch: 22\n",
            "loss: 0.0313428355648051\n",
            "accuracy: 0.9905849358974359\n"
          ]
        },
        {
          "name": "stderr",
          "output_type": "stream",
          "text": [
            "100%|██████████| 78/78 [00:03<00:00, 22.31it/s]\n"
          ]
        },
        {
          "name": "stdout",
          "output_type": "stream",
          "text": [
            "epoch: 23\n",
            "loss: 0.031707201729146525\n",
            "accuracy: 0.9892828525641025\n"
          ]
        },
        {
          "name": "stderr",
          "output_type": "stream",
          "text": [
            "100%|██████████| 78/78 [00:03<00:00, 22.00it/s]\n"
          ]
        },
        {
          "name": "stdout",
          "output_type": "stream",
          "text": [
            "epoch: 24\n",
            "loss: 0.028172734084551055\n",
            "accuracy: 0.9910857371794872\n"
          ]
        },
        {
          "name": "stderr",
          "output_type": "stream",
          "text": [
            "100%|██████████| 78/78 [00:03<00:00, 22.31it/s]\n"
          ]
        },
        {
          "name": "stdout",
          "output_type": "stream",
          "text": [
            "epoch: 25\n",
            "loss: 0.026863154834688593\n",
            "accuracy: 0.9920873397435898\n"
          ]
        },
        {
          "name": "stderr",
          "output_type": "stream",
          "text": [
            "100%|██████████| 78/78 [00:03<00:00, 22.49it/s]\n"
          ]
        },
        {
          "name": "stdout",
          "output_type": "stream",
          "text": [
            "epoch: 26\n",
            "loss: 0.02249783585937574\n",
            "accuracy: 0.992988782051282\n"
          ]
        },
        {
          "name": "stderr",
          "output_type": "stream",
          "text": [
            "100%|██████████| 78/78 [00:03<00:00, 21.33it/s]\n"
          ]
        },
        {
          "name": "stdout",
          "output_type": "stream",
          "text": [
            "epoch: 27\n",
            "loss: 0.023723904218059033\n",
            "accuracy: 0.9919871794871795\n"
          ]
        },
        {
          "name": "stderr",
          "output_type": "stream",
          "text": [
            "100%|██████████| 78/78 [00:03<00:00, 21.77it/s]\n"
          ]
        },
        {
          "name": "stdout",
          "output_type": "stream",
          "text": [
            "epoch: 28\n",
            "loss: 0.023438501451612234\n",
            "accuracy: 0.9924879807692307\n"
          ]
        },
        {
          "name": "stderr",
          "output_type": "stream",
          "text": [
            "100%|██████████| 78/78 [00:03<00:00, 21.69it/s]\n"
          ]
        },
        {
          "name": "stdout",
          "output_type": "stream",
          "text": [
            "epoch: 29\n",
            "loss: 0.024164476956521425\n",
            "accuracy: 0.9925881410256411\n"
          ]
        },
        {
          "name": "stderr",
          "output_type": "stream",
          "text": [
            "100%|██████████| 78/78 [00:03<00:00, 21.16it/s]\n"
          ]
        },
        {
          "name": "stdout",
          "output_type": "stream",
          "text": [
            "epoch: 30\n",
            "loss: 0.02449057286587329\n",
            "accuracy: 0.9920873397435898\n"
          ]
        },
        {
          "name": "stderr",
          "output_type": "stream",
          "text": [
            "100%|██████████| 78/78 [00:03<00:00, 19.87it/s]\n"
          ]
        },
        {
          "name": "stdout",
          "output_type": "stream",
          "text": [
            "epoch: 31\n",
            "loss: 0.024069945061525617\n",
            "accuracy: 0.9925881410256411\n"
          ]
        },
        {
          "name": "stderr",
          "output_type": "stream",
          "text": [
            "100%|██████████| 78/78 [00:03<00:00, 21.01it/s]\n"
          ]
        },
        {
          "name": "stdout",
          "output_type": "stream",
          "text": [
            "epoch: 32\n",
            "loss: 0.02308225270229368\n",
            "accuracy: 0.9921875\n"
          ]
        },
        {
          "name": "stderr",
          "output_type": "stream",
          "text": [
            "100%|██████████| 78/78 [00:03<00:00, 21.86it/s]\n"
          ]
        },
        {
          "name": "stdout",
          "output_type": "stream",
          "text": [
            "epoch: 33\n",
            "loss: 0.024217395552207168\n",
            "accuracy: 0.9919871794871795\n"
          ]
        },
        {
          "name": "stderr",
          "output_type": "stream",
          "text": [
            "100%|██████████| 78/78 [00:03<00:00, 21.17it/s]\n"
          ]
        },
        {
          "name": "stdout",
          "output_type": "stream",
          "text": [
            "epoch: 34\n",
            "loss: 0.024852014842998378\n",
            "accuracy: 0.9921875\n"
          ]
        },
        {
          "name": "stderr",
          "output_type": "stream",
          "text": [
            "100%|██████████| 78/78 [00:03<00:00, 22.20it/s]\n"
          ]
        },
        {
          "name": "stdout",
          "output_type": "stream",
          "text": [
            "epoch: 35\n",
            "loss: 0.02490250745792694\n",
            "accuracy: 0.9921875\n"
          ]
        },
        {
          "name": "stderr",
          "output_type": "stream",
          "text": [
            "100%|██████████| 78/78 [00:03<00:00, 21.79it/s]\n"
          ]
        },
        {
          "name": "stdout",
          "output_type": "stream",
          "text": [
            "epoch: 36\n",
            "loss: 0.019120805055792563\n",
            "accuracy: 0.9938902243589743\n"
          ]
        },
        {
          "name": "stderr",
          "output_type": "stream",
          "text": [
            "100%|██████████| 78/78 [00:03<00:00, 20.74it/s]\n"
          ]
        },
        {
          "name": "stdout",
          "output_type": "stream",
          "text": [
            "epoch: 37\n",
            "loss: 0.017630278324642673\n",
            "accuracy: 0.9941907051282052\n"
          ]
        },
        {
          "name": "stderr",
          "output_type": "stream",
          "text": [
            "100%|██████████| 78/78 [00:03<00:00, 21.14it/s]\n"
          ]
        },
        {
          "name": "stdout",
          "output_type": "stream",
          "text": [
            "epoch: 38\n",
            "loss: 0.01883591274963692\n",
            "accuracy: 0.9936899038461539\n"
          ]
        },
        {
          "name": "stderr",
          "output_type": "stream",
          "text": [
            "100%|██████████| 78/78 [00:04<00:00, 19.25it/s]\n"
          ]
        },
        {
          "name": "stdout",
          "output_type": "stream",
          "text": [
            "epoch: 39\n",
            "loss: 0.019818293862791065\n",
            "accuracy: 0.9930889423076923\n"
          ]
        },
        {
          "name": "stderr",
          "output_type": "stream",
          "text": [
            "100%|██████████| 78/78 [00:03<00:00, 20.42it/s]\n"
          ]
        },
        {
          "name": "stdout",
          "output_type": "stream",
          "text": [
            "epoch: 40\n",
            "loss: 0.021558227522734504\n",
            "accuracy: 0.992988782051282\n"
          ]
        },
        {
          "name": "stderr",
          "output_type": "stream",
          "text": [
            "100%|██████████| 78/78 [00:03<00:00, 21.49it/s]\n"
          ]
        },
        {
          "name": "stdout",
          "output_type": "stream",
          "text": [
            "epoch: 41\n",
            "loss: 0.020003110009173933\n",
            "accuracy: 0.9930889423076923\n"
          ]
        },
        {
          "name": "stderr",
          "output_type": "stream",
          "text": [
            "100%|██████████| 78/78 [00:03<00:00, 21.70it/s]\n"
          ]
        },
        {
          "name": "stdout",
          "output_type": "stream",
          "text": [
            "epoch: 42\n",
            "loss: 0.020392851661502693\n",
            "accuracy: 0.992988782051282\n"
          ]
        },
        {
          "name": "stderr",
          "output_type": "stream",
          "text": [
            "100%|██████████| 78/78 [00:03<00:00, 21.87it/s]\n"
          ]
        },
        {
          "name": "stdout",
          "output_type": "stream",
          "text": [
            "epoch: 43\n",
            "loss: 0.015355710450631496\n",
            "accuracy: 0.9948918269230769\n"
          ]
        },
        {
          "name": "stderr",
          "output_type": "stream",
          "text": [
            "100%|██████████| 78/78 [00:03<00:00, 21.83it/s]\n"
          ]
        },
        {
          "name": "stdout",
          "output_type": "stream",
          "text": [
            "epoch: 44\n",
            "loss: 0.01736692838051404\n",
            "accuracy: 0.9938902243589743\n"
          ]
        },
        {
          "name": "stderr",
          "output_type": "stream",
          "text": [
            "100%|██████████| 78/78 [00:03<00:00, 22.10it/s]\n"
          ]
        },
        {
          "name": "stdout",
          "output_type": "stream",
          "text": [
            "epoch: 45\n",
            "loss: 0.016926061460533395\n",
            "accuracy: 0.9946915064102564\n"
          ]
        },
        {
          "name": "stderr",
          "output_type": "stream",
          "text": [
            "100%|██████████| 78/78 [00:03<00:00, 22.07it/s]\n"
          ]
        },
        {
          "name": "stdout",
          "output_type": "stream",
          "text": [
            "epoch: 46\n",
            "loss: 0.020716891360606473\n",
            "accuracy: 0.9936899038461539\n"
          ]
        },
        {
          "name": "stderr",
          "output_type": "stream",
          "text": [
            "100%|██████████| 78/78 [00:03<00:00, 22.08it/s]\n"
          ]
        },
        {
          "name": "stdout",
          "output_type": "stream",
          "text": [
            "epoch: 47\n",
            "loss: 0.016024495099629395\n",
            "accuracy: 0.9946915064102564\n"
          ]
        },
        {
          "name": "stderr",
          "output_type": "stream",
          "text": [
            "100%|██████████| 78/78 [00:03<00:00, 21.93it/s]\n"
          ]
        },
        {
          "name": "stdout",
          "output_type": "stream",
          "text": [
            "epoch: 48\n",
            "loss: 0.014422898353913274\n",
            "accuracy: 0.9947916666666666\n"
          ]
        },
        {
          "name": "stderr",
          "output_type": "stream",
          "text": [
            "100%|██████████| 78/78 [00:03<00:00, 21.53it/s]\n"
          ]
        },
        {
          "name": "stdout",
          "output_type": "stream",
          "text": [
            "epoch: 49\n",
            "loss: 0.013911282079509245\n",
            "accuracy: 0.9951923076923077\n"
          ]
        },
        {
          "name": "stderr",
          "output_type": "stream",
          "text": [
            "100%|██████████| 78/78 [00:03<00:00, 21.96it/s]\n"
          ]
        },
        {
          "name": "stdout",
          "output_type": "stream",
          "text": [
            "epoch: 50\n",
            "loss: 0.020189304954002205\n",
            "accuracy: 0.9939903846153846\n"
          ]
        },
        {
          "name": "stderr",
          "output_type": "stream",
          "text": [
            "100%|██████████| 78/78 [00:03<00:00, 20.62it/s]\n"
          ]
        },
        {
          "name": "stdout",
          "output_type": "stream",
          "text": [
            "epoch: 51\n",
            "loss: 0.018544885367214776\n",
            "accuracy: 0.9932892628205128\n"
          ]
        },
        {
          "name": "stderr",
          "output_type": "stream",
          "text": [
            "100%|██████████| 78/78 [00:03<00:00, 21.71it/s]\n"
          ]
        },
        {
          "name": "stdout",
          "output_type": "stream",
          "text": [
            "epoch: 52\n",
            "loss: 0.01704645833785598\n",
            "accuracy: 0.9940905448717948\n"
          ]
        },
        {
          "name": "stderr",
          "output_type": "stream",
          "text": [
            "100%|██████████| 78/78 [00:04<00:00, 19.08it/s]\n"
          ]
        },
        {
          "name": "stdout",
          "output_type": "stream",
          "text": [
            "epoch: 53\n",
            "loss: 0.018841070382339425\n",
            "accuracy: 0.9938902243589743\n"
          ]
        },
        {
          "name": "stderr",
          "output_type": "stream",
          "text": [
            "100%|██████████| 78/78 [00:03<00:00, 19.91it/s]\n"
          ]
        },
        {
          "name": "stdout",
          "output_type": "stream",
          "text": [
            "epoch: 54\n",
            "loss: 0.018072324771007214\n",
            "accuracy: 0.9936899038461539\n"
          ]
        },
        {
          "name": "stderr",
          "output_type": "stream",
          "text": [
            "100%|██████████| 78/78 [00:04<00:00, 18.81it/s]\n"
          ]
        },
        {
          "name": "stdout",
          "output_type": "stream",
          "text": [
            "epoch: 55\n",
            "loss: 0.01623958074271333\n",
            "accuracy: 0.9946915064102564\n"
          ]
        },
        {
          "name": "stderr",
          "output_type": "stream",
          "text": [
            "100%|██████████| 78/78 [00:03<00:00, 20.73it/s]\n"
          ]
        },
        {
          "name": "stdout",
          "output_type": "stream",
          "text": [
            "epoch: 56\n",
            "loss: 0.014783348705700168\n",
            "accuracy: 0.9949919871794872\n"
          ]
        },
        {
          "name": "stderr",
          "output_type": "stream",
          "text": [
            "100%|██████████| 78/78 [00:03<00:00, 21.71it/s]\n"
          ]
        },
        {
          "name": "stdout",
          "output_type": "stream",
          "text": [
            "epoch: 57\n",
            "loss: 0.01707034475970058\n",
            "accuracy: 0.9941907051282052\n"
          ]
        },
        {
          "name": "stderr",
          "output_type": "stream",
          "text": [
            "100%|██████████| 78/78 [00:03<00:00, 20.97it/s]\n"
          ]
        },
        {
          "name": "stdout",
          "output_type": "stream",
          "text": [
            "epoch: 58\n",
            "loss: 0.017212123900744468\n",
            "accuracy: 0.9942908653846154\n"
          ]
        },
        {
          "name": "stderr",
          "output_type": "stream",
          "text": [
            "100%|██████████| 78/78 [00:03<00:00, 20.90it/s]\n"
          ]
        },
        {
          "name": "stdout",
          "output_type": "stream",
          "text": [
            "epoch: 59\n",
            "loss: 0.01734955118221338\n",
            "accuracy: 0.9949919871794872\n"
          ]
        },
        {
          "name": "stderr",
          "output_type": "stream",
          "text": [
            "100%|██████████| 78/78 [00:03<00:00, 21.98it/s]\n"
          ]
        },
        {
          "name": "stdout",
          "output_type": "stream",
          "text": [
            "epoch: 60\n",
            "loss: 0.014634301989691524\n",
            "accuracy: 0.9956931089743589\n"
          ]
        },
        {
          "name": "stderr",
          "output_type": "stream",
          "text": [
            "100%|██████████| 78/78 [00:03<00:00, 22.28it/s]\n"
          ]
        },
        {
          "name": "stdout",
          "output_type": "stream",
          "text": [
            "epoch: 61\n",
            "loss: 0.016493070671388593\n",
            "accuracy: 0.9947916666666666\n"
          ]
        },
        {
          "name": "stderr",
          "output_type": "stream",
          "text": [
            "100%|██████████| 78/78 [00:03<00:00, 22.25it/s]\n"
          ]
        },
        {
          "name": "stdout",
          "output_type": "stream",
          "text": [
            "epoch: 62\n",
            "loss: 0.01910291247156401\n",
            "accuracy: 0.9928886217948718\n"
          ]
        },
        {
          "name": "stderr",
          "output_type": "stream",
          "text": [
            "100%|██████████| 78/78 [00:03<00:00, 21.90it/s]\n"
          ]
        },
        {
          "name": "stdout",
          "output_type": "stream",
          "text": [
            "epoch: 63\n",
            "loss: 0.01699796441169336\n",
            "accuracy: 0.9946915064102564\n"
          ]
        },
        {
          "name": "stderr",
          "output_type": "stream",
          "text": [
            "100%|██████████| 78/78 [00:03<00:00, 22.28it/s]\n"
          ]
        },
        {
          "name": "stdout",
          "output_type": "stream",
          "text": [
            "epoch: 64\n",
            "loss: 0.017316756826356795\n",
            "accuracy: 0.9948918269230769\n"
          ]
        },
        {
          "name": "stderr",
          "output_type": "stream",
          "text": [
            "100%|██████████| 78/78 [00:03<00:00, 22.00it/s]\n"
          ]
        },
        {
          "name": "stdout",
          "output_type": "stream",
          "text": [
            "epoch: 65\n",
            "loss: 0.014888004120364666\n",
            "accuracy: 0.9958934294871795\n"
          ]
        },
        {
          "name": "stderr",
          "output_type": "stream",
          "text": [
            "100%|██████████| 78/78 [00:03<00:00, 22.15it/s]\n"
          ]
        },
        {
          "name": "stdout",
          "output_type": "stream",
          "text": [
            "epoch: 66\n",
            "loss: 0.013297128208647244\n",
            "accuracy: 0.9954927884615384\n"
          ]
        },
        {
          "name": "stderr",
          "output_type": "stream",
          "text": [
            "100%|██████████| 78/78 [00:03<00:00, 22.40it/s]\n"
          ]
        },
        {
          "name": "stdout",
          "output_type": "stream",
          "text": [
            "epoch: 67\n",
            "loss: 0.01602559185546572\n",
            "accuracy: 0.995292467948718\n"
          ]
        },
        {
          "name": "stderr",
          "output_type": "stream",
          "text": [
            "100%|██████████| 78/78 [00:03<00:00, 22.06it/s]\n"
          ]
        },
        {
          "name": "stdout",
          "output_type": "stream",
          "text": [
            "epoch: 68\n",
            "loss: 0.015406935891429057\n",
            "accuracy: 0.9948918269230769\n"
          ]
        },
        {
          "name": "stderr",
          "output_type": "stream",
          "text": [
            "100%|██████████| 78/78 [00:03<00:00, 22.05it/s]\n"
          ]
        },
        {
          "name": "stdout",
          "output_type": "stream",
          "text": [
            "epoch: 69\n",
            "loss: 0.012994273975401973\n",
            "accuracy: 0.9959935897435898\n"
          ]
        },
        {
          "name": "stderr",
          "output_type": "stream",
          "text": [
            "100%|██████████| 78/78 [00:03<00:00, 21.65it/s]\n"
          ]
        },
        {
          "name": "stdout",
          "output_type": "stream",
          "text": [
            "epoch: 70\n",
            "loss: 0.01618624799616205\n",
            "accuracy: 0.9940905448717948\n"
          ]
        },
        {
          "name": "stderr",
          "output_type": "stream",
          "text": [
            "100%|██████████| 78/78 [00:03<00:00, 21.19it/s]\n"
          ]
        },
        {
          "name": "stdout",
          "output_type": "stream",
          "text": [
            "epoch: 71\n",
            "loss: 0.013965417969768915\n",
            "accuracy: 0.995292467948718\n"
          ]
        },
        {
          "name": "stderr",
          "output_type": "stream",
          "text": [
            "100%|██████████| 78/78 [00:03<00:00, 21.17it/s]\n"
          ]
        },
        {
          "name": "stdout",
          "output_type": "stream",
          "text": [
            "epoch: 72\n",
            "loss: 0.013744997118826574\n",
            "accuracy: 0.9958934294871795\n"
          ]
        },
        {
          "name": "stderr",
          "output_type": "stream",
          "text": [
            "100%|██████████| 78/78 [00:03<00:00, 21.88it/s]\n"
          ]
        },
        {
          "name": "stdout",
          "output_type": "stream",
          "text": [
            "epoch: 73\n",
            "loss: 0.014293746145155568\n",
            "accuracy: 0.995292467948718\n"
          ]
        },
        {
          "name": "stderr",
          "output_type": "stream",
          "text": [
            "100%|██████████| 78/78 [00:03<00:00, 21.62it/s]\n"
          ]
        },
        {
          "name": "stdout",
          "output_type": "stream",
          "text": [
            "epoch: 74\n",
            "loss: 0.01525868279620623\n",
            "accuracy: 0.9955929487179487\n"
          ]
        },
        {
          "name": "stderr",
          "output_type": "stream",
          "text": [
            "100%|██████████| 78/78 [00:03<00:00, 21.69it/s]\n"
          ]
        },
        {
          "name": "stdout",
          "output_type": "stream",
          "text": [
            "epoch: 75\n",
            "loss: 0.013156551643101594\n",
            "accuracy: 0.99609375\n"
          ]
        },
        {
          "name": "stderr",
          "output_type": "stream",
          "text": [
            "100%|██████████| 78/78 [00:03<00:00, 21.91it/s]\n"
          ]
        },
        {
          "name": "stdout",
          "output_type": "stream",
          "text": [
            "epoch: 76\n",
            "loss: 0.011440749099934831\n",
            "accuracy: 0.9958934294871795\n"
          ]
        },
        {
          "name": "stderr",
          "output_type": "stream",
          "text": [
            "100%|██████████| 78/78 [00:03<00:00, 21.58it/s]\n"
          ]
        },
        {
          "name": "stdout",
          "output_type": "stream",
          "text": [
            "epoch: 77\n",
            "loss: 0.013925775393428735\n",
            "accuracy: 0.9950921474358975\n"
          ]
        },
        {
          "name": "stderr",
          "output_type": "stream",
          "text": [
            "100%|██████████| 78/78 [00:03<00:00, 21.97it/s]\n"
          ]
        },
        {
          "name": "stdout",
          "output_type": "stream",
          "text": [
            "epoch: 78\n",
            "loss: 0.014144739480495142\n",
            "accuracy: 0.9953926282051282\n"
          ]
        },
        {
          "name": "stderr",
          "output_type": "stream",
          "text": [
            "100%|██████████| 78/78 [00:03<00:00, 22.52it/s]\n"
          ]
        },
        {
          "name": "stdout",
          "output_type": "stream",
          "text": [
            "epoch: 79\n",
            "loss: 0.01317545696749734\n",
            "accuracy: 0.9959935897435898\n"
          ]
        },
        {
          "name": "stderr",
          "output_type": "stream",
          "text": [
            "100%|██████████| 78/78 [00:03<00:00, 20.87it/s]\n"
          ]
        },
        {
          "name": "stdout",
          "output_type": "stream",
          "text": [
            "epoch: 80\n",
            "loss: 0.013760402662461648\n",
            "accuracy: 0.9951923076923077\n"
          ]
        },
        {
          "name": "stderr",
          "output_type": "stream",
          "text": [
            "100%|██████████| 78/78 [00:03<00:00, 21.48it/s]\n"
          ]
        },
        {
          "name": "stdout",
          "output_type": "stream",
          "text": [
            "epoch: 81\n",
            "loss: 0.015538750177186627\n",
            "accuracy: 0.9948918269230769\n"
          ]
        },
        {
          "name": "stderr",
          "output_type": "stream",
          "text": [
            "100%|██████████| 78/78 [00:03<00:00, 20.59it/s]\n"
          ]
        },
        {
          "name": "stdout",
          "output_type": "stream",
          "text": [
            "epoch: 82\n",
            "loss: 0.012810796468655985\n",
            "accuracy: 0.9954927884615384\n"
          ]
        },
        {
          "name": "stderr",
          "output_type": "stream",
          "text": [
            "100%|██████████| 78/78 [00:03<00:00, 20.40it/s]\n"
          ]
        },
        {
          "name": "stdout",
          "output_type": "stream",
          "text": [
            "epoch: 83\n",
            "loss: 0.015039295136095742\n",
            "accuracy: 0.9949919871794872\n"
          ]
        },
        {
          "name": "stderr",
          "output_type": "stream",
          "text": [
            "100%|██████████| 78/78 [00:03<00:00, 20.94it/s]\n"
          ]
        },
        {
          "name": "stdout",
          "output_type": "stream",
          "text": [
            "epoch: 84\n",
            "loss: 0.014521485972904768\n",
            "accuracy: 0.9951923076923077\n"
          ]
        },
        {
          "name": "stderr",
          "output_type": "stream",
          "text": [
            "100%|██████████| 78/78 [00:03<00:00, 20.62it/s]\n"
          ]
        },
        {
          "name": "stdout",
          "output_type": "stream",
          "text": [
            "epoch: 85\n",
            "loss: 0.014432235859343424\n",
            "accuracy: 0.9949919871794872\n"
          ]
        },
        {
          "name": "stderr",
          "output_type": "stream",
          "text": [
            "100%|██████████| 78/78 [00:03<00:00, 21.05it/s]\n"
          ]
        },
        {
          "name": "stdout",
          "output_type": "stream",
          "text": [
            "epoch: 86\n",
            "loss: 0.011977781230831543\n",
            "accuracy: 0.9962940705128205\n"
          ]
        },
        {
          "name": "stderr",
          "output_type": "stream",
          "text": [
            "100%|██████████| 78/78 [00:03<00:00, 21.50it/s]\n"
          ]
        },
        {
          "name": "stdout",
          "output_type": "stream",
          "text": [
            "epoch: 87\n",
            "loss: 0.012163688506310185\n",
            "accuracy: 0.9958934294871795\n"
          ]
        },
        {
          "name": "stderr",
          "output_type": "stream",
          "text": [
            "100%|██████████| 78/78 [00:03<00:00, 21.62it/s]\n"
          ]
        },
        {
          "name": "stdout",
          "output_type": "stream",
          "text": [
            "epoch: 88\n",
            "loss: 0.013918559665818555\n",
            "accuracy: 0.9943910256410257\n"
          ]
        },
        {
          "name": "stderr",
          "output_type": "stream",
          "text": [
            "100%|██████████| 78/78 [00:03<00:00, 21.83it/s]\n"
          ]
        },
        {
          "name": "stdout",
          "output_type": "stream",
          "text": [
            "epoch: 89\n",
            "loss: 0.012890181375461487\n",
            "accuracy: 0.9957932692307693\n"
          ]
        },
        {
          "name": "stderr",
          "output_type": "stream",
          "text": [
            "100%|██████████| 78/78 [00:03<00:00, 21.64it/s]\n"
          ]
        },
        {
          "name": "stdout",
          "output_type": "stream",
          "text": [
            "epoch: 90\n",
            "loss: 0.01191027474273235\n",
            "accuracy: 0.9961939102564102\n"
          ]
        },
        {
          "name": "stderr",
          "output_type": "stream",
          "text": [
            "100%|██████████| 78/78 [00:03<00:00, 21.66it/s]\n"
          ]
        },
        {
          "name": "stdout",
          "output_type": "stream",
          "text": [
            "epoch: 91\n",
            "loss: 0.016064248567160506\n",
            "accuracy: 0.9943910256410257\n"
          ]
        },
        {
          "name": "stderr",
          "output_type": "stream",
          "text": [
            "100%|██████████| 78/78 [00:03<00:00, 22.19it/s]\n"
          ]
        },
        {
          "name": "stdout",
          "output_type": "stream",
          "text": [
            "epoch: 92\n",
            "loss: 0.011082371693844788\n",
            "accuracy: 0.9957932692307693\n"
          ]
        },
        {
          "name": "stderr",
          "output_type": "stream",
          "text": [
            "100%|██████████| 78/78 [00:03<00:00, 22.11it/s]\n"
          ]
        },
        {
          "name": "stdout",
          "output_type": "stream",
          "text": [
            "epoch: 93\n",
            "loss: 0.016320588666414365\n",
            "accuracy: 0.9938902243589743\n"
          ]
        },
        {
          "name": "stderr",
          "output_type": "stream",
          "text": [
            "100%|██████████| 78/78 [00:03<00:00, 21.84it/s]\n"
          ]
        },
        {
          "name": "stdout",
          "output_type": "stream",
          "text": [
            "epoch: 94\n",
            "loss: 0.012589886163298685\n",
            "accuracy: 0.99609375\n"
          ]
        },
        {
          "name": "stderr",
          "output_type": "stream",
          "text": [
            "100%|██████████| 78/78 [00:03<00:00, 21.72it/s]\n"
          ]
        },
        {
          "name": "stdout",
          "output_type": "stream",
          "text": [
            "epoch: 95\n",
            "loss: 0.013887270225379139\n",
            "accuracy: 0.9953926282051282\n"
          ]
        },
        {
          "name": "stderr",
          "output_type": "stream",
          "text": [
            "100%|██████████| 78/78 [00:03<00:00, 21.96it/s]\n"
          ]
        },
        {
          "name": "stdout",
          "output_type": "stream",
          "text": [
            "epoch: 96\n",
            "loss: 0.011068139665533239\n",
            "accuracy: 0.9961939102564102\n"
          ]
        },
        {
          "name": "stderr",
          "output_type": "stream",
          "text": [
            "100%|██████████| 78/78 [00:03<00:00, 19.96it/s]\n"
          ]
        },
        {
          "name": "stdout",
          "output_type": "stream",
          "text": [
            "epoch: 97\n",
            "loss: 0.00931984646908509\n",
            "accuracy: 0.996895032051282\n"
          ]
        },
        {
          "name": "stderr",
          "output_type": "stream",
          "text": [
            "100%|██████████| 78/78 [00:03<00:00, 21.37it/s]\n"
          ]
        },
        {
          "name": "stdout",
          "output_type": "stream",
          "text": [
            "epoch: 98\n",
            "loss: 0.008710709852517212\n",
            "accuracy: 0.9974959935897436\n"
          ]
        },
        {
          "name": "stderr",
          "output_type": "stream",
          "text": [
            "100%|██████████| 78/78 [00:03<00:00, 20.59it/s]\n"
          ]
        },
        {
          "name": "stdout",
          "output_type": "stream",
          "text": [
            "epoch: 99\n",
            "loss: 0.01327503883788804\n",
            "accuracy: 0.9954927884615384\n"
          ]
        },
        {
          "name": "stderr",
          "output_type": "stream",
          "text": [
            "100%|██████████| 78/78 [00:03<00:00, 21.32it/s]\n"
          ]
        },
        {
          "name": "stdout",
          "output_type": "stream",
          "text": [
            "epoch: 100\n",
            "loss: 0.010372171211295212\n",
            "accuracy: 0.9965945512820513\n"
          ]
        },
        {
          "name": "stderr",
          "output_type": "stream",
          "text": [
            "100%|██████████| 78/78 [00:03<00:00, 21.64it/s]\n"
          ]
        },
        {
          "name": "stdout",
          "output_type": "stream",
          "text": [
            "epoch: 101\n",
            "loss: 0.010957525171435032\n",
            "accuracy: 0.9958934294871795\n"
          ]
        },
        {
          "name": "stderr",
          "output_type": "stream",
          "text": [
            "100%|██████████| 78/78 [00:03<00:00, 21.00it/s]\n"
          ]
        },
        {
          "name": "stdout",
          "output_type": "stream",
          "text": [
            "epoch: 102\n",
            "loss: 0.012627813762474734\n",
            "accuracy: 0.9958934294871795\n"
          ]
        },
        {
          "name": "stderr",
          "output_type": "stream",
          "text": [
            "100%|██████████| 78/78 [00:03<00:00, 21.92it/s]\n"
          ]
        },
        {
          "name": "stdout",
          "output_type": "stream",
          "text": [
            "epoch: 103\n",
            "loss: 0.011787117946928797\n",
            "accuracy: 0.9967948717948718\n"
          ]
        },
        {
          "name": "stderr",
          "output_type": "stream",
          "text": [
            "100%|██████████| 78/78 [00:03<00:00, 21.20it/s]\n"
          ]
        },
        {
          "name": "stdout",
          "output_type": "stream",
          "text": [
            "epoch: 104\n",
            "loss: 0.011692727666321354\n",
            "accuracy: 0.9958934294871795\n"
          ]
        },
        {
          "name": "stderr",
          "output_type": "stream",
          "text": [
            "100%|██████████| 78/78 [00:03<00:00, 21.84it/s]\n"
          ]
        },
        {
          "name": "stdout",
          "output_type": "stream",
          "text": [
            "epoch: 105\n",
            "loss: 0.011139895438995713\n",
            "accuracy: 0.9963942307692307\n"
          ]
        },
        {
          "name": "stderr",
          "output_type": "stream",
          "text": [
            "100%|██████████| 78/78 [00:03<00:00, 21.98it/s]\n"
          ]
        },
        {
          "name": "stdout",
          "output_type": "stream",
          "text": [
            "epoch: 106\n",
            "loss: 0.012459707237445774\n",
            "accuracy: 0.9951923076923077\n"
          ]
        },
        {
          "name": "stderr",
          "output_type": "stream",
          "text": [
            "100%|██████████| 78/78 [00:03<00:00, 21.87it/s]\n"
          ]
        },
        {
          "name": "stdout",
          "output_type": "stream",
          "text": [
            "epoch: 107\n",
            "loss: 0.013461531558930755\n",
            "accuracy: 0.9959935897435898\n"
          ]
        },
        {
          "name": "stderr",
          "output_type": "stream",
          "text": [
            "100%|██████████| 78/78 [00:03<00:00, 22.23it/s]\n"
          ]
        },
        {
          "name": "stdout",
          "output_type": "stream",
          "text": [
            "epoch: 108\n",
            "loss: 0.011688574220244892\n",
            "accuracy: 0.9957932692307693\n"
          ]
        },
        {
          "name": "stderr",
          "output_type": "stream",
          "text": [
            "100%|██████████| 78/78 [00:03<00:00, 21.97it/s]\n"
          ]
        },
        {
          "name": "stdout",
          "output_type": "stream",
          "text": [
            "epoch: 109\n",
            "loss: 0.01076720586048069\n",
            "accuracy: 0.9963942307692307\n"
          ]
        },
        {
          "name": "stderr",
          "output_type": "stream",
          "text": [
            "100%|██████████| 78/78 [00:04<00:00, 18.50it/s]\n"
          ]
        },
        {
          "name": "stdout",
          "output_type": "stream",
          "text": [
            "epoch: 110\n",
            "loss: 0.010796517883322965\n",
            "accuracy: 0.9963942307692307\n"
          ]
        },
        {
          "name": "stderr",
          "output_type": "stream",
          "text": [
            "100%|██████████| 78/78 [00:03<00:00, 20.54it/s]\n"
          ]
        },
        {
          "name": "stdout",
          "output_type": "stream",
          "text": [
            "epoch: 111\n",
            "loss: 0.01286650015875542\n",
            "accuracy: 0.9955929487179487\n"
          ]
        },
        {
          "name": "stderr",
          "output_type": "stream",
          "text": [
            "100%|██████████| 78/78 [00:03<00:00, 20.93it/s]\n"
          ]
        },
        {
          "name": "stdout",
          "output_type": "stream",
          "text": [
            "epoch: 112\n",
            "loss: 0.014898798088184916\n",
            "accuracy: 0.9948918269230769\n"
          ]
        },
        {
          "name": "stderr",
          "output_type": "stream",
          "text": [
            "100%|██████████| 78/78 [00:03<00:00, 21.53it/s]\n"
          ]
        },
        {
          "name": "stdout",
          "output_type": "stream",
          "text": [
            "epoch: 113\n",
            "loss: 0.009269910038804086\n",
            "accuracy: 0.9969951923076923\n"
          ]
        },
        {
          "name": "stderr",
          "output_type": "stream",
          "text": [
            "100%|██████████| 78/78 [00:03<00:00, 21.16it/s]\n"
          ]
        },
        {
          "name": "stdout",
          "output_type": "stream",
          "text": [
            "epoch: 114\n",
            "loss: 0.012621124434726646\n",
            "accuracy: 0.99609375\n"
          ]
        },
        {
          "name": "stderr",
          "output_type": "stream",
          "text": [
            "100%|██████████| 78/78 [00:03<00:00, 21.88it/s]\n"
          ]
        },
        {
          "name": "stdout",
          "output_type": "stream",
          "text": [
            "epoch: 115\n",
            "loss: 0.010766222812563706\n",
            "accuracy: 0.9961939102564102\n"
          ]
        },
        {
          "name": "stderr",
          "output_type": "stream",
          "text": [
            "100%|██████████| 78/78 [00:03<00:00, 21.74it/s]\n"
          ]
        },
        {
          "name": "stdout",
          "output_type": "stream",
          "text": [
            "epoch: 116\n",
            "loss: 0.009584154582952555\n",
            "accuracy: 0.9961939102564102\n"
          ]
        },
        {
          "name": "stderr",
          "output_type": "stream",
          "text": [
            "100%|██████████| 78/78 [00:03<00:00, 21.93it/s]\n"
          ]
        },
        {
          "name": "stdout",
          "output_type": "stream",
          "text": [
            "epoch: 117\n",
            "loss: 0.012622500790689046\n",
            "accuracy: 0.9954927884615384\n"
          ]
        },
        {
          "name": "stderr",
          "output_type": "stream",
          "text": [
            "100%|██████████| 78/78 [00:03<00:00, 21.97it/s]\n"
          ]
        },
        {
          "name": "stdout",
          "output_type": "stream",
          "text": [
            "epoch: 118\n",
            "loss: 0.013034352450258432\n",
            "accuracy: 0.9957932692307693\n"
          ]
        },
        {
          "name": "stderr",
          "output_type": "stream",
          "text": [
            "100%|██████████| 78/78 [00:03<00:00, 20.72it/s]\n"
          ]
        },
        {
          "name": "stdout",
          "output_type": "stream",
          "text": [
            "epoch: 119\n",
            "loss: 0.012241459572881771\n",
            "accuracy: 0.995292467948718\n"
          ]
        },
        {
          "name": "stderr",
          "output_type": "stream",
          "text": [
            "100%|██████████| 78/78 [00:03<00:00, 21.18it/s]\n"
          ]
        },
        {
          "name": "stdout",
          "output_type": "stream",
          "text": [
            "epoch: 120\n",
            "loss: 0.010430740443646358\n",
            "accuracy: 0.9967948717948718\n"
          ]
        },
        {
          "name": "stderr",
          "output_type": "stream",
          "text": [
            "100%|██████████| 78/78 [00:03<00:00, 21.62it/s]\n"
          ]
        },
        {
          "name": "stdout",
          "output_type": "stream",
          "text": [
            "epoch: 121\n",
            "loss: 0.009375661832820743\n",
            "accuracy: 0.9962940705128205\n"
          ]
        },
        {
          "name": "stderr",
          "output_type": "stream",
          "text": [
            "100%|██████████| 78/78 [00:03<00:00, 21.69it/s]\n"
          ]
        },
        {
          "name": "stdout",
          "output_type": "stream",
          "text": [
            "epoch: 122\n",
            "loss: 0.010735657948549861\n",
            "accuracy: 0.9963942307692307\n"
          ]
        },
        {
          "name": "stderr",
          "output_type": "stream",
          "text": [
            "100%|██████████| 78/78 [00:03<00:00, 20.27it/s]\n"
          ]
        },
        {
          "name": "stdout",
          "output_type": "stream",
          "text": [
            "epoch: 123\n",
            "loss: 0.011159916657235067\n",
            "accuracy: 0.99609375\n"
          ]
        },
        {
          "name": "stderr",
          "output_type": "stream",
          "text": [
            "100%|██████████| 78/78 [00:03<00:00, 20.60it/s]\n"
          ]
        },
        {
          "name": "stdout",
          "output_type": "stream",
          "text": [
            "epoch: 124\n",
            "loss: 0.009623536734486548\n",
            "accuracy: 0.9971955128205128\n"
          ]
        },
        {
          "name": "stderr",
          "output_type": "stream",
          "text": [
            "100%|██████████| 78/78 [00:03<00:00, 21.51it/s]\n"
          ]
        },
        {
          "name": "stdout",
          "output_type": "stream",
          "text": [
            "epoch: 125\n",
            "loss: 0.014848713798132032\n",
            "accuracy: 0.9954927884615384\n"
          ]
        },
        {
          "name": "stderr",
          "output_type": "stream",
          "text": [
            "100%|██████████| 78/78 [00:03<00:00, 21.65it/s]\n"
          ]
        },
        {
          "name": "stdout",
          "output_type": "stream",
          "text": [
            "epoch: 126\n",
            "loss: 0.013308644015640497\n",
            "accuracy: 0.9957932692307693\n"
          ]
        },
        {
          "name": "stderr",
          "output_type": "stream",
          "text": [
            "100%|██████████| 78/78 [00:03<00:00, 20.79it/s]\n"
          ]
        },
        {
          "name": "stdout",
          "output_type": "stream",
          "text": [
            "epoch: 127\n",
            "loss: 0.01302189783130486\n",
            "accuracy: 0.99609375\n"
          ]
        },
        {
          "name": "stderr",
          "output_type": "stream",
          "text": [
            "100%|██████████| 78/78 [00:03<00:00, 21.93it/s]\n"
          ]
        },
        {
          "name": "stdout",
          "output_type": "stream",
          "text": [
            "epoch: 128\n",
            "loss: 0.009927839259408081\n",
            "accuracy: 0.9961939102564102\n"
          ]
        },
        {
          "name": "stderr",
          "output_type": "stream",
          "text": [
            "100%|██████████| 78/78 [00:03<00:00, 22.37it/s]\n"
          ]
        },
        {
          "name": "stdout",
          "output_type": "stream",
          "text": [
            "epoch: 129\n",
            "loss: 0.010598272421376374\n",
            "accuracy: 0.9959935897435898\n"
          ]
        },
        {
          "name": "stderr",
          "output_type": "stream",
          "text": [
            "100%|██████████| 78/78 [00:03<00:00, 21.78it/s]\n"
          ]
        },
        {
          "name": "stdout",
          "output_type": "stream",
          "text": [
            "epoch: 130\n",
            "loss: 0.011839894148765896\n",
            "accuracy: 0.9955929487179487\n"
          ]
        },
        {
          "name": "stderr",
          "output_type": "stream",
          "text": [
            "100%|██████████| 78/78 [00:03<00:00, 22.19it/s]\n"
          ]
        },
        {
          "name": "stdout",
          "output_type": "stream",
          "text": [
            "epoch: 131\n",
            "loss: 0.009585343151672695\n",
            "accuracy: 0.9961939102564102\n"
          ]
        },
        {
          "name": "stderr",
          "output_type": "stream",
          "text": [
            "100%|██████████| 78/78 [00:03<00:00, 22.18it/s]\n"
          ]
        },
        {
          "name": "stdout",
          "output_type": "stream",
          "text": [
            "epoch: 132\n",
            "loss: 0.012679786060732275\n",
            "accuracy: 0.9956931089743589\n"
          ]
        },
        {
          "name": "stderr",
          "output_type": "stream",
          "text": [
            "100%|██████████| 78/78 [00:03<00:00, 21.97it/s]\n"
          ]
        },
        {
          "name": "stdout",
          "output_type": "stream",
          "text": [
            "epoch: 133\n",
            "loss: 0.009146513621463107\n",
            "accuracy: 0.9971955128205128\n"
          ]
        },
        {
          "name": "stderr",
          "output_type": "stream",
          "text": [
            "100%|██████████| 78/78 [00:03<00:00, 22.10it/s]\n"
          ]
        },
        {
          "name": "stdout",
          "output_type": "stream",
          "text": [
            "epoch: 134\n",
            "loss: 0.01000480754905416\n",
            "accuracy: 0.9970953525641025\n"
          ]
        },
        {
          "name": "stderr",
          "output_type": "stream",
          "text": [
            "100%|██████████| 78/78 [00:03<00:00, 22.36it/s]\n"
          ]
        },
        {
          "name": "stdout",
          "output_type": "stream",
          "text": [
            "epoch: 135\n",
            "loss: 0.01100668455220353\n",
            "accuracy: 0.9963942307692307\n"
          ]
        },
        {
          "name": "stderr",
          "output_type": "stream",
          "text": [
            "100%|██████████| 78/78 [00:03<00:00, 21.49it/s]\n"
          ]
        },
        {
          "name": "stdout",
          "output_type": "stream",
          "text": [
            "epoch: 136\n",
            "loss: 0.010750106019445527\n",
            "accuracy: 0.9962940705128205\n"
          ]
        },
        {
          "name": "stderr",
          "output_type": "stream",
          "text": [
            "100%|██████████| 78/78 [00:03<00:00, 21.70it/s]\n"
          ]
        },
        {
          "name": "stdout",
          "output_type": "stream",
          "text": [
            "epoch: 137\n",
            "loss: 0.007692625707325836\n",
            "accuracy: 0.9973958333333334\n"
          ]
        },
        {
          "name": "stderr",
          "output_type": "stream",
          "text": [
            "100%|██████████| 78/78 [00:03<00:00, 21.38it/s]\n"
          ]
        },
        {
          "name": "stdout",
          "output_type": "stream",
          "text": [
            "epoch: 138\n",
            "loss: 0.01028739981530891\n",
            "accuracy: 0.9967948717948718\n"
          ]
        },
        {
          "name": "stderr",
          "output_type": "stream",
          "text": [
            "100%|██████████| 78/78 [00:03<00:00, 21.05it/s]\n"
          ]
        },
        {
          "name": "stdout",
          "output_type": "stream",
          "text": [
            "epoch: 139\n",
            "loss: 0.010165943915639311\n",
            "accuracy: 0.9961939102564102\n"
          ]
        },
        {
          "name": "stderr",
          "output_type": "stream",
          "text": [
            "100%|██████████| 78/78 [00:03<00:00, 21.59it/s]\n"
          ]
        },
        {
          "name": "stdout",
          "output_type": "stream",
          "text": [
            "epoch: 140\n",
            "loss: 0.009751913460487954\n",
            "accuracy: 0.9970953525641025\n"
          ]
        },
        {
          "name": "stderr",
          "output_type": "stream",
          "text": [
            "100%|██████████| 78/78 [00:03<00:00, 21.89it/s]\n"
          ]
        },
        {
          "name": "stdout",
          "output_type": "stream",
          "text": [
            "epoch: 141\n",
            "loss: 0.00785483020874194\n",
            "accuracy: 0.9973958333333334\n"
          ]
        },
        {
          "name": "stderr",
          "output_type": "stream",
          "text": [
            "100%|██████████| 78/78 [00:03<00:00, 21.43it/s]\n"
          ]
        },
        {
          "name": "stdout",
          "output_type": "stream",
          "text": [
            "epoch: 142\n",
            "loss: 0.010979871623418055\n",
            "accuracy: 0.9961939102564102\n"
          ]
        },
        {
          "name": "stderr",
          "output_type": "stream",
          "text": [
            "100%|██████████| 78/78 [00:04<00:00, 16.28it/s]\n"
          ]
        },
        {
          "name": "stdout",
          "output_type": "stream",
          "text": [
            "epoch: 143\n",
            "loss: 0.010497166284506258\n",
            "accuracy: 0.9961939102564102\n"
          ]
        },
        {
          "name": "stderr",
          "output_type": "stream",
          "text": [
            "100%|██████████| 78/78 [00:03<00:00, 20.44it/s]\n"
          ]
        },
        {
          "name": "stdout",
          "output_type": "stream",
          "text": [
            "epoch: 144\n",
            "loss: 0.008710007229521394\n",
            "accuracy: 0.9974959935897436\n"
          ]
        },
        {
          "name": "stderr",
          "output_type": "stream",
          "text": [
            "100%|██████████| 78/78 [00:03<00:00, 22.10it/s]\n"
          ]
        },
        {
          "name": "stdout",
          "output_type": "stream",
          "text": [
            "epoch: 145\n",
            "loss: 0.009701537638111638\n",
            "accuracy: 0.9959935897435898\n"
          ]
        },
        {
          "name": "stderr",
          "output_type": "stream",
          "text": [
            "100%|██████████| 78/78 [00:03<00:00, 21.24it/s]\n"
          ]
        },
        {
          "name": "stdout",
          "output_type": "stream",
          "text": [
            "epoch: 146\n",
            "loss: 0.01151710818185865\n",
            "accuracy: 0.9964943910256411\n"
          ]
        },
        {
          "name": "stderr",
          "output_type": "stream",
          "text": [
            "100%|██████████| 78/78 [00:03<00:00, 21.80it/s]\n"
          ]
        },
        {
          "name": "stdout",
          "output_type": "stream",
          "text": [
            "epoch: 147\n",
            "loss: 0.009471235865464386\n",
            "accuracy: 0.9967948717948718\n"
          ]
        },
        {
          "name": "stderr",
          "output_type": "stream",
          "text": [
            "100%|██████████| 78/78 [00:03<00:00, 21.65it/s]\n"
          ]
        },
        {
          "name": "stdout",
          "output_type": "stream",
          "text": [
            "epoch: 148\n",
            "loss: 0.00882882882694666\n",
            "accuracy: 0.9974959935897436\n"
          ]
        },
        {
          "name": "stderr",
          "output_type": "stream",
          "text": [
            "100%|██████████| 78/78 [00:03<00:00, 21.91it/s]\n"
          ]
        },
        {
          "name": "stdout",
          "output_type": "stream",
          "text": [
            "epoch: 149\n",
            "loss: 0.011797318936889777\n",
            "accuracy: 0.9959935897435898\n"
          ]
        },
        {
          "name": "stderr",
          "output_type": "stream",
          "text": [
            "100%|██████████| 78/78 [00:03<00:00, 21.93it/s]\n"
          ]
        },
        {
          "name": "stdout",
          "output_type": "stream",
          "text": [
            "epoch: 150\n",
            "loss: 0.010629171617881347\n",
            "accuracy: 0.9969951923076923\n"
          ]
        },
        {
          "name": "stderr",
          "output_type": "stream",
          "text": [
            "100%|██████████| 78/78 [00:03<00:00, 21.66it/s]\n"
          ]
        },
        {
          "name": "stdout",
          "output_type": "stream",
          "text": [
            "epoch: 151\n",
            "loss: 0.01040579490094947\n",
            "accuracy: 0.99609375\n"
          ]
        },
        {
          "name": "stderr",
          "output_type": "stream",
          "text": [
            "100%|██████████| 78/78 [00:04<00:00, 18.77it/s]\n"
          ]
        },
        {
          "name": "stdout",
          "output_type": "stream",
          "text": [
            "epoch: 152\n",
            "loss: 0.008481996381679216\n",
            "accuracy: 0.9972956730769231\n"
          ]
        },
        {
          "name": "stderr",
          "output_type": "stream",
          "text": [
            "100%|██████████| 78/78 [00:03<00:00, 20.63it/s]\n"
          ]
        },
        {
          "name": "stdout",
          "output_type": "stream",
          "text": [
            "epoch: 153\n",
            "loss: 0.01020463549670799\n",
            "accuracy: 0.9967948717948718\n"
          ]
        },
        {
          "name": "stderr",
          "output_type": "stream",
          "text": [
            "100%|██████████| 78/78 [00:03<00:00, 21.46it/s]\n"
          ]
        },
        {
          "name": "stdout",
          "output_type": "stream",
          "text": [
            "epoch: 154\n",
            "loss: 0.007683187011235322\n",
            "accuracy: 0.9978966346153846\n"
          ]
        },
        {
          "name": "stderr",
          "output_type": "stream",
          "text": [
            "100%|██████████| 78/78 [00:03<00:00, 21.18it/s]\n"
          ]
        },
        {
          "name": "stdout",
          "output_type": "stream",
          "text": [
            "epoch: 155\n",
            "loss: 0.008377177464307094\n",
            "accuracy: 0.9970953525641025\n"
          ]
        },
        {
          "name": "stderr",
          "output_type": "stream",
          "text": [
            "100%|██████████| 78/78 [00:03<00:00, 20.63it/s]\n"
          ]
        },
        {
          "name": "stdout",
          "output_type": "stream",
          "text": [
            "epoch: 156\n",
            "loss: 0.008085920155094638\n",
            "accuracy: 0.9976963141025641\n"
          ]
        },
        {
          "name": "stderr",
          "output_type": "stream",
          "text": [
            "100%|██████████| 78/78 [00:03<00:00, 21.74it/s]\n"
          ]
        },
        {
          "name": "stdout",
          "output_type": "stream",
          "text": [
            "epoch: 157\n",
            "loss: 0.01092560273798135\n",
            "accuracy: 0.99609375\n"
          ]
        },
        {
          "name": "stderr",
          "output_type": "stream",
          "text": [
            "100%|██████████| 78/78 [00:03<00:00, 21.55it/s]\n"
          ]
        },
        {
          "name": "stdout",
          "output_type": "stream",
          "text": [
            "epoch: 158\n",
            "loss: 0.009716626683560511\n",
            "accuracy: 0.9967948717948718\n"
          ]
        },
        {
          "name": "stderr",
          "output_type": "stream",
          "text": [
            "100%|██████████| 78/78 [00:03<00:00, 21.34it/s]\n"
          ]
        },
        {
          "name": "stdout",
          "output_type": "stream",
          "text": [
            "epoch: 159\n",
            "loss: 0.008823034062142817\n",
            "accuracy: 0.9971955128205128\n"
          ]
        },
        {
          "name": "stderr",
          "output_type": "stream",
          "text": [
            "100%|██████████| 78/78 [00:03<00:00, 21.55it/s]\n"
          ]
        },
        {
          "name": "stdout",
          "output_type": "stream",
          "text": [
            "epoch: 160\n",
            "loss: 0.00975878666772937\n",
            "accuracy: 0.9966947115384616\n"
          ]
        },
        {
          "name": "stderr",
          "output_type": "stream",
          "text": [
            "100%|██████████| 78/78 [00:03<00:00, 21.22it/s]\n"
          ]
        },
        {
          "name": "stdout",
          "output_type": "stream",
          "text": [
            "epoch: 161\n",
            "loss: 0.011375096069875723\n",
            "accuracy: 0.9956931089743589\n"
          ]
        },
        {
          "name": "stderr",
          "output_type": "stream",
          "text": [
            "100%|██████████| 78/78 [00:03<00:00, 21.93it/s]\n"
          ]
        },
        {
          "name": "stdout",
          "output_type": "stream",
          "text": [
            "epoch: 162\n",
            "loss: 0.008428910710044408\n",
            "accuracy: 0.9971955128205128\n"
          ]
        },
        {
          "name": "stderr",
          "output_type": "stream",
          "text": [
            "100%|██████████| 78/78 [00:03<00:00, 21.61it/s]\n"
          ]
        },
        {
          "name": "stdout",
          "output_type": "stream",
          "text": [
            "epoch: 163\n",
            "loss: 0.009718813814031772\n",
            "accuracy: 0.9967948717948718\n"
          ]
        },
        {
          "name": "stderr",
          "output_type": "stream",
          "text": [
            "100%|██████████| 78/78 [00:03<00:00, 21.08it/s]\n"
          ]
        },
        {
          "name": "stdout",
          "output_type": "stream",
          "text": [
            "epoch: 164\n",
            "loss: 0.007577405603324923\n",
            "accuracy: 0.9976963141025641\n"
          ]
        },
        {
          "name": "stderr",
          "output_type": "stream",
          "text": [
            "100%|██████████| 78/78 [00:03<00:00, 21.40it/s]\n"
          ]
        },
        {
          "name": "stdout",
          "output_type": "stream",
          "text": [
            "epoch: 165\n",
            "loss: 0.01282207306604295\n",
            "accuracy: 0.9962940705128205\n"
          ]
        },
        {
          "name": "stderr",
          "output_type": "stream",
          "text": [
            "100%|██████████| 78/78 [00:03<00:00, 21.31it/s]\n"
          ]
        },
        {
          "name": "stdout",
          "output_type": "stream",
          "text": [
            "epoch: 166\n",
            "loss: 0.00806432389221393\n",
            "accuracy: 0.9971955128205128\n"
          ]
        },
        {
          "name": "stderr",
          "output_type": "stream",
          "text": [
            "100%|██████████| 78/78 [00:03<00:00, 21.42it/s]\n"
          ]
        },
        {
          "name": "stdout",
          "output_type": "stream",
          "text": [
            "epoch: 167\n",
            "loss: 0.00963304886551132\n",
            "accuracy: 0.9961939102564102\n"
          ]
        },
        {
          "name": "stderr",
          "output_type": "stream",
          "text": [
            "100%|██████████| 78/78 [00:03<00:00, 20.94it/s]\n"
          ]
        },
        {
          "name": "stdout",
          "output_type": "stream",
          "text": [
            "epoch: 168\n",
            "loss: 0.01032689174369294\n",
            "accuracy: 0.996895032051282\n"
          ]
        },
        {
          "name": "stderr",
          "output_type": "stream",
          "text": [
            "100%|██████████| 78/78 [00:03<00:00, 21.48it/s]\n"
          ]
        },
        {
          "name": "stdout",
          "output_type": "stream",
          "text": [
            "epoch: 169\n",
            "loss: 0.008870215917480752\n",
            "accuracy: 0.9969951923076923\n"
          ]
        },
        {
          "name": "stderr",
          "output_type": "stream",
          "text": [
            "100%|██████████| 78/78 [00:03<00:00, 22.08it/s]\n"
          ]
        },
        {
          "name": "stdout",
          "output_type": "stream",
          "text": [
            "epoch: 170\n",
            "loss: 0.00933038219376706\n",
            "accuracy: 0.996895032051282\n"
          ]
        },
        {
          "name": "stderr",
          "output_type": "stream",
          "text": [
            "100%|██████████| 78/78 [00:03<00:00, 21.63it/s]\n"
          ]
        },
        {
          "name": "stdout",
          "output_type": "stream",
          "text": [
            "epoch: 171\n",
            "loss: 0.009428221513353026\n",
            "accuracy: 0.9969951923076923\n"
          ]
        },
        {
          "name": "stderr",
          "output_type": "stream",
          "text": [
            "100%|██████████| 78/78 [00:03<00:00, 21.30it/s]\n"
          ]
        },
        {
          "name": "stdout",
          "output_type": "stream",
          "text": [
            "epoch: 172\n",
            "loss: 0.008913191420455964\n",
            "accuracy: 0.9969951923076923\n"
          ]
        },
        {
          "name": "stderr",
          "output_type": "stream",
          "text": [
            "100%|██████████| 78/78 [00:03<00:00, 21.30it/s]\n"
          ]
        },
        {
          "name": "stdout",
          "output_type": "stream",
          "text": [
            "epoch: 173\n",
            "loss: 0.010810569529451478\n",
            "accuracy: 0.9958934294871795\n"
          ]
        },
        {
          "name": "stderr",
          "output_type": "stream",
          "text": [
            "100%|██████████| 78/78 [00:03<00:00, 20.40it/s]\n"
          ]
        },
        {
          "name": "stdout",
          "output_type": "stream",
          "text": [
            "epoch: 174\n",
            "loss: 0.006713269094082837\n",
            "accuracy: 0.9976963141025641\n"
          ]
        },
        {
          "name": "stderr",
          "output_type": "stream",
          "text": [
            "100%|██████████| 78/78 [00:03<00:00, 21.45it/s]\n"
          ]
        },
        {
          "name": "stdout",
          "output_type": "stream",
          "text": [
            "epoch: 175\n",
            "loss: 0.010330284716940533\n",
            "accuracy: 0.9961939102564102\n"
          ]
        },
        {
          "name": "stderr",
          "output_type": "stream",
          "text": [
            "100%|██████████| 78/78 [00:03<00:00, 21.27it/s]\n"
          ]
        },
        {
          "name": "stdout",
          "output_type": "stream",
          "text": [
            "epoch: 176\n",
            "loss: 0.008918479280859733\n",
            "accuracy: 0.9967948717948718\n"
          ]
        },
        {
          "name": "stderr",
          "output_type": "stream",
          "text": [
            "100%|██████████| 78/78 [00:03<00:00, 21.02it/s]\n"
          ]
        },
        {
          "name": "stdout",
          "output_type": "stream",
          "text": [
            "epoch: 177\n",
            "loss: 0.010594860380455757\n",
            "accuracy: 0.9966947115384616\n"
          ]
        },
        {
          "name": "stderr",
          "output_type": "stream",
          "text": [
            "100%|██████████| 78/78 [00:03<00:00, 21.06it/s]\n"
          ]
        },
        {
          "name": "stdout",
          "output_type": "stream",
          "text": [
            "epoch: 178\n",
            "loss: 0.00809346046336055\n",
            "accuracy: 0.996895032051282\n"
          ]
        },
        {
          "name": "stderr",
          "output_type": "stream",
          "text": [
            "100%|██████████| 78/78 [00:03<00:00, 21.57it/s]\n"
          ]
        },
        {
          "name": "stdout",
          "output_type": "stream",
          "text": [
            "epoch: 179\n",
            "loss: 0.008197935500692647\n",
            "accuracy: 0.9971955128205128\n"
          ]
        },
        {
          "name": "stderr",
          "output_type": "stream",
          "text": [
            "100%|██████████| 78/78 [00:03<00:00, 21.86it/s]\n"
          ]
        },
        {
          "name": "stdout",
          "output_type": "stream",
          "text": [
            "epoch: 180\n",
            "loss: 0.0108672135661786\n",
            "accuracy: 0.99609375\n"
          ]
        },
        {
          "name": "stderr",
          "output_type": "stream",
          "text": [
            "100%|██████████| 78/78 [00:03<00:00, 19.80it/s]\n"
          ]
        },
        {
          "name": "stdout",
          "output_type": "stream",
          "text": [
            "epoch: 181\n",
            "loss: 0.00894109421940998\n",
            "accuracy: 0.9975961538461539\n"
          ]
        },
        {
          "name": "stderr",
          "output_type": "stream",
          "text": [
            "100%|██████████| 78/78 [00:06<00:00, 11.58it/s]\n"
          ]
        },
        {
          "name": "stdout",
          "output_type": "stream",
          "text": [
            "epoch: 182\n",
            "loss: 0.0074282821181278005\n",
            "accuracy: 0.9976963141025641\n"
          ]
        },
        {
          "name": "stderr",
          "output_type": "stream",
          "text": [
            "100%|██████████| 78/78 [00:05<00:00, 14.56it/s]\n"
          ]
        },
        {
          "name": "stdout",
          "output_type": "stream",
          "text": [
            "epoch: 183\n",
            "loss: 0.007053620548387512\n",
            "accuracy: 0.9981971153846154\n"
          ]
        },
        {
          "name": "stderr",
          "output_type": "stream",
          "text": [
            "100%|██████████| 78/78 [00:08<00:00,  9.68it/s]\n"
          ]
        },
        {
          "name": "stdout",
          "output_type": "stream",
          "text": [
            "epoch: 184\n",
            "loss: 0.007473336949120634\n",
            "accuracy: 0.9975961538461539\n"
          ]
        },
        {
          "name": "stderr",
          "output_type": "stream",
          "text": [
            "100%|██████████| 78/78 [00:03<00:00, 20.71it/s]\n"
          ]
        },
        {
          "name": "stdout",
          "output_type": "stream",
          "text": [
            "epoch: 185\n",
            "loss: 0.008386627808272934\n",
            "accuracy: 0.9967948717948718\n"
          ]
        },
        {
          "name": "stderr",
          "output_type": "stream",
          "text": [
            "100%|██████████| 78/78 [00:03<00:00, 21.27it/s]\n"
          ]
        },
        {
          "name": "stdout",
          "output_type": "stream",
          "text": [
            "epoch: 186\n",
            "loss: 0.008706257824833767\n",
            "accuracy: 0.9972956730769231\n"
          ]
        },
        {
          "name": "stderr",
          "output_type": "stream",
          "text": [
            "100%|██████████| 78/78 [00:04<00:00, 15.99it/s]\n"
          ]
        },
        {
          "name": "stdout",
          "output_type": "stream",
          "text": [
            "epoch: 187\n",
            "loss: 0.009441878411915893\n",
            "accuracy: 0.9970953525641025\n"
          ]
        },
        {
          "name": "stderr",
          "output_type": "stream",
          "text": [
            "100%|██████████| 78/78 [00:03<00:00, 21.33it/s]\n"
          ]
        },
        {
          "name": "stdout",
          "output_type": "stream",
          "text": [
            "epoch: 188\n",
            "loss: 0.009619694765812406\n",
            "accuracy: 0.9962940705128205\n"
          ]
        },
        {
          "name": "stderr",
          "output_type": "stream",
          "text": [
            "100%|██████████| 78/78 [00:03<00:00, 21.77it/s]\n"
          ]
        },
        {
          "name": "stdout",
          "output_type": "stream",
          "text": [
            "epoch: 189\n",
            "loss: 0.010697457059555186\n",
            "accuracy: 0.9964943910256411\n"
          ]
        },
        {
          "name": "stderr",
          "output_type": "stream",
          "text": [
            "100%|██████████| 78/78 [00:03<00:00, 21.24it/s]\n"
          ]
        },
        {
          "name": "stdout",
          "output_type": "stream",
          "text": [
            "epoch: 190\n",
            "loss: 0.009250357956401646\n",
            "accuracy: 0.9965945512820513\n"
          ]
        },
        {
          "name": "stderr",
          "output_type": "stream",
          "text": [
            "100%|██████████| 78/78 [00:03<00:00, 21.60it/s]\n"
          ]
        },
        {
          "name": "stdout",
          "output_type": "stream",
          "text": [
            "epoch: 191\n",
            "loss: 0.006800330327211832\n",
            "accuracy: 0.9975961538461539\n"
          ]
        },
        {
          "name": "stderr",
          "output_type": "stream",
          "text": [
            "100%|██████████| 78/78 [00:03<00:00, 21.27it/s]\n"
          ]
        },
        {
          "name": "stdout",
          "output_type": "stream",
          "text": [
            "epoch: 192\n",
            "loss: 0.008161910992408266\n",
            "accuracy: 0.996895032051282\n"
          ]
        },
        {
          "name": "stderr",
          "output_type": "stream",
          "text": [
            "100%|██████████| 78/78 [00:03<00:00, 22.29it/s]\n"
          ]
        },
        {
          "name": "stdout",
          "output_type": "stream",
          "text": [
            "epoch: 193\n",
            "loss: 0.009255710478427295\n",
            "accuracy: 0.9965945512820513\n"
          ]
        },
        {
          "name": "stderr",
          "output_type": "stream",
          "text": [
            "100%|██████████| 78/78 [00:03<00:00, 22.19it/s]\n"
          ]
        },
        {
          "name": "stdout",
          "output_type": "stream",
          "text": [
            "epoch: 194\n",
            "loss: 0.012832647520833863\n",
            "accuracy: 0.9949919871794872\n"
          ]
        },
        {
          "name": "stderr",
          "output_type": "stream",
          "text": [
            "100%|██████████| 78/78 [00:03<00:00, 21.59it/s]\n"
          ]
        },
        {
          "name": "stdout",
          "output_type": "stream",
          "text": [
            "epoch: 195\n",
            "loss: 0.008143537671481354\n",
            "accuracy: 0.9972956730769231\n"
          ]
        },
        {
          "name": "stderr",
          "output_type": "stream",
          "text": [
            "100%|██████████| 78/78 [00:03<00:00, 21.18it/s]\n"
          ]
        },
        {
          "name": "stdout",
          "output_type": "stream",
          "text": [
            "epoch: 196\n",
            "loss: 0.00921191379818946\n",
            "accuracy: 0.9965945512820513\n"
          ]
        },
        {
          "name": "stderr",
          "output_type": "stream",
          "text": [
            "100%|██████████| 78/78 [00:03<00:00, 20.77it/s]\n"
          ]
        },
        {
          "name": "stdout",
          "output_type": "stream",
          "text": [
            "epoch: 197\n",
            "loss: 0.008735657847211815\n",
            "accuracy: 0.9969951923076923\n"
          ]
        },
        {
          "name": "stderr",
          "output_type": "stream",
          "text": [
            "100%|██████████| 78/78 [00:03<00:00, 21.93it/s]\n"
          ]
        },
        {
          "name": "stdout",
          "output_type": "stream",
          "text": [
            "epoch: 198\n",
            "loss: 0.008640102794370016\n",
            "accuracy: 0.996895032051282\n"
          ]
        },
        {
          "name": "stderr",
          "output_type": "stream",
          "text": [
            "100%|██████████| 78/78 [00:03<00:00, 21.32it/s]\n"
          ]
        },
        {
          "name": "stdout",
          "output_type": "stream",
          "text": [
            "epoch: 199\n",
            "loss: 0.009399229953534162\n",
            "accuracy: 0.9963942307692307\n"
          ]
        },
        {
          "name": "stderr",
          "output_type": "stream",
          "text": [
            "100%|██████████| 78/78 [00:03<00:00, 21.39it/s]\n"
          ]
        },
        {
          "name": "stdout",
          "output_type": "stream",
          "text": [
            "epoch: 200\n",
            "loss: 0.009037951977053383\n",
            "accuracy: 0.9967948717948718\n"
          ]
        },
        {
          "name": "stderr",
          "output_type": "stream",
          "text": [
            "100%|██████████| 78/78 [00:03<00:00, 21.72it/s]\n"
          ]
        },
        {
          "name": "stdout",
          "output_type": "stream",
          "text": [
            "epoch: 201\n",
            "loss: 0.009192421054766059\n",
            "accuracy: 0.9966947115384616\n"
          ]
        },
        {
          "name": "stderr",
          "output_type": "stream",
          "text": [
            "100%|██████████| 78/78 [00:03<00:00, 20.00it/s]\n"
          ]
        },
        {
          "name": "stdout",
          "output_type": "stream",
          "text": [
            "epoch: 202\n",
            "loss: 0.008036674470088493\n",
            "accuracy: 0.9975961538461539\n"
          ]
        },
        {
          "name": "stderr",
          "output_type": "stream",
          "text": [
            "100%|██████████| 78/78 [00:03<00:00, 20.85it/s]\n"
          ]
        },
        {
          "name": "stdout",
          "output_type": "stream",
          "text": [
            "epoch: 203\n",
            "loss: 0.010377165989036886\n",
            "accuracy: 0.9967948717948718\n"
          ]
        },
        {
          "name": "stderr",
          "output_type": "stream",
          "text": [
            "100%|██████████| 78/78 [00:03<00:00, 20.39it/s]\n"
          ]
        },
        {
          "name": "stdout",
          "output_type": "stream",
          "text": [
            "epoch: 204\n",
            "loss: 0.005549444317950521\n",
            "accuracy: 0.9979967948717948\n"
          ]
        },
        {
          "name": "stderr",
          "output_type": "stream",
          "text": [
            "100%|██████████| 78/78 [00:03<00:00, 21.50it/s]\n"
          ]
        },
        {
          "name": "stdout",
          "output_type": "stream",
          "text": [
            "epoch: 205\n",
            "loss: 0.01114136596077468\n",
            "accuracy: 0.9963942307692307\n"
          ]
        },
        {
          "name": "stderr",
          "output_type": "stream",
          "text": [
            "100%|██████████| 78/78 [00:03<00:00, 21.92it/s]\n"
          ]
        },
        {
          "name": "stdout",
          "output_type": "stream",
          "text": [
            "epoch: 206\n",
            "loss: 0.007027618505302458\n",
            "accuracy: 0.9978966346153846\n"
          ]
        },
        {
          "name": "stderr",
          "output_type": "stream",
          "text": [
            "100%|██████████| 78/78 [00:03<00:00, 21.41it/s]\n"
          ]
        },
        {
          "name": "stdout",
          "output_type": "stream",
          "text": [
            "epoch: 207\n",
            "loss: 0.008108728547365619\n",
            "accuracy: 0.9971955128205128\n"
          ]
        },
        {
          "name": "stderr",
          "output_type": "stream",
          "text": [
            "100%|██████████| 78/78 [00:03<00:00, 22.43it/s]\n"
          ]
        },
        {
          "name": "stdout",
          "output_type": "stream",
          "text": [
            "epoch: 208\n",
            "loss: 0.008543435306189796\n",
            "accuracy: 0.9972956730769231\n"
          ]
        },
        {
          "name": "stderr",
          "output_type": "stream",
          "text": [
            "100%|██████████| 78/78 [00:03<00:00, 22.19it/s]\n"
          ]
        },
        {
          "name": "stdout",
          "output_type": "stream",
          "text": [
            "epoch: 209\n",
            "loss: 0.008853109881434089\n",
            "accuracy: 0.9969951923076923\n"
          ]
        },
        {
          "name": "stderr",
          "output_type": "stream",
          "text": [
            "100%|██████████| 78/78 [00:03<00:00, 22.19it/s]\n"
          ]
        },
        {
          "name": "stdout",
          "output_type": "stream",
          "text": [
            "epoch: 210\n",
            "loss: 0.0075058631784766195\n",
            "accuracy: 0.9983974358974359\n"
          ]
        },
        {
          "name": "stderr",
          "output_type": "stream",
          "text": [
            "100%|██████████| 78/78 [00:03<00:00, 22.26it/s]\n"
          ]
        },
        {
          "name": "stdout",
          "output_type": "stream",
          "text": [
            "epoch: 211\n",
            "loss: 0.007770120845704626\n",
            "accuracy: 0.9973958333333334\n"
          ]
        },
        {
          "name": "stderr",
          "output_type": "stream",
          "text": [
            "100%|██████████| 78/78 [00:03<00:00, 21.99it/s]\n"
          ]
        },
        {
          "name": "stdout",
          "output_type": "stream",
          "text": [
            "epoch: 212\n",
            "loss: 0.006567776951646336\n",
            "accuracy: 0.9979967948717948\n"
          ]
        },
        {
          "name": "stderr",
          "output_type": "stream",
          "text": [
            "100%|██████████| 78/78 [00:03<00:00, 21.95it/s]\n"
          ]
        },
        {
          "name": "stdout",
          "output_type": "stream",
          "text": [
            "epoch: 213\n",
            "loss: 0.00788959784907862\n",
            "accuracy: 0.9973958333333334\n"
          ]
        },
        {
          "name": "stderr",
          "output_type": "stream",
          "text": [
            "100%|██████████| 78/78 [00:03<00:00, 21.94it/s]\n"
          ]
        },
        {
          "name": "stdout",
          "output_type": "stream",
          "text": [
            "epoch: 214\n",
            "loss: 0.010009261172784206\n",
            "accuracy: 0.9967948717948718\n"
          ]
        },
        {
          "name": "stderr",
          "output_type": "stream",
          "text": [
            "100%|██████████| 78/78 [00:03<00:00, 22.31it/s]\n"
          ]
        },
        {
          "name": "stdout",
          "output_type": "stream",
          "text": [
            "epoch: 215\n",
            "loss: 0.007181530889610235\n",
            "accuracy: 0.9980969551282052\n"
          ]
        },
        {
          "name": "stderr",
          "output_type": "stream",
          "text": [
            "100%|██████████| 78/78 [00:03<00:00, 22.13it/s]\n"
          ]
        },
        {
          "name": "stdout",
          "output_type": "stream",
          "text": [
            "epoch: 216\n",
            "loss: 0.008461314654246403\n",
            "accuracy: 0.9966947115384616\n"
          ]
        },
        {
          "name": "stderr",
          "output_type": "stream",
          "text": [
            "100%|██████████| 78/78 [00:03<00:00, 22.25it/s]\n"
          ]
        },
        {
          "name": "stdout",
          "output_type": "stream",
          "text": [
            "epoch: 217\n",
            "loss: 0.008951669229225865\n",
            "accuracy: 0.9970953525641025\n"
          ]
        },
        {
          "name": "stderr",
          "output_type": "stream",
          "text": [
            "100%|██████████| 78/78 [00:03<00:00, 21.81it/s]\n"
          ]
        },
        {
          "name": "stdout",
          "output_type": "stream",
          "text": [
            "epoch: 218\n",
            "loss: 0.008305493058660665\n",
            "accuracy: 0.9974959935897436\n"
          ]
        },
        {
          "name": "stderr",
          "output_type": "stream",
          "text": [
            "100%|██████████| 78/78 [00:03<00:00, 22.23it/s]\n"
          ]
        },
        {
          "name": "stdout",
          "output_type": "stream",
          "text": [
            "epoch: 219\n",
            "loss: 0.006987595326977615\n",
            "accuracy: 0.9975961538461539\n"
          ]
        },
        {
          "name": "stderr",
          "output_type": "stream",
          "text": [
            "100%|██████████| 78/78 [00:03<00:00, 22.16it/s]\n"
          ]
        },
        {
          "name": "stdout",
          "output_type": "stream",
          "text": [
            "epoch: 220\n",
            "loss: 0.00825384629290336\n",
            "accuracy: 0.9972956730769231\n"
          ]
        },
        {
          "name": "stderr",
          "output_type": "stream",
          "text": [
            "100%|██████████| 78/78 [00:03<00:00, 22.18it/s]\n"
          ]
        },
        {
          "name": "stdout",
          "output_type": "stream",
          "text": [
            "epoch: 221\n",
            "loss: 0.006694559188849197\n",
            "accuracy: 0.9978966346153846\n"
          ]
        },
        {
          "name": "stderr",
          "output_type": "stream",
          "text": [
            "100%|██████████| 78/78 [00:03<00:00, 22.27it/s]\n"
          ]
        },
        {
          "name": "stdout",
          "output_type": "stream",
          "text": [
            "epoch: 222\n",
            "loss: 0.00802328532266144\n",
            "accuracy: 0.9970953525641025\n"
          ]
        },
        {
          "name": "stderr",
          "output_type": "stream",
          "text": [
            "100%|██████████| 78/78 [00:03<00:00, 22.47it/s]\n"
          ]
        },
        {
          "name": "stdout",
          "output_type": "stream",
          "text": [
            "epoch: 223\n",
            "loss: 0.007436172083917205\n",
            "accuracy: 0.9974959935897436\n"
          ]
        },
        {
          "name": "stderr",
          "output_type": "stream",
          "text": [
            "100%|██████████| 78/78 [00:03<00:00, 21.62it/s]\n"
          ]
        },
        {
          "name": "stdout",
          "output_type": "stream",
          "text": [
            "epoch: 224\n",
            "loss: 0.00841782377746989\n",
            "accuracy: 0.9970953525641025\n"
          ]
        },
        {
          "name": "stderr",
          "output_type": "stream",
          "text": [
            "100%|██████████| 78/78 [00:03<00:00, 22.08it/s]\n"
          ]
        },
        {
          "name": "stdout",
          "output_type": "stream",
          "text": [
            "epoch: 225\n",
            "loss: 0.008391197696955014\n",
            "accuracy: 0.9972956730769231\n"
          ]
        },
        {
          "name": "stderr",
          "output_type": "stream",
          "text": [
            "100%|██████████| 78/78 [00:03<00:00, 22.59it/s]\n"
          ]
        },
        {
          "name": "stdout",
          "output_type": "stream",
          "text": [
            "epoch: 226\n",
            "loss: 0.00867353464426019\n",
            "accuracy: 0.9973958333333334\n"
          ]
        },
        {
          "name": "stderr",
          "output_type": "stream",
          "text": [
            "100%|██████████| 78/78 [00:03<00:00, 22.39it/s]\n"
          ]
        },
        {
          "name": "stdout",
          "output_type": "stream",
          "text": [
            "epoch: 227\n",
            "loss: 0.00736137134849858\n",
            "accuracy: 0.9976963141025641\n"
          ]
        },
        {
          "name": "stderr",
          "output_type": "stream",
          "text": [
            "100%|██████████| 78/78 [00:03<00:00, 22.23it/s]\n"
          ]
        },
        {
          "name": "stdout",
          "output_type": "stream",
          "text": [
            "epoch: 228\n",
            "loss: 0.008957232396381024\n",
            "accuracy: 0.9971955128205128\n"
          ]
        },
        {
          "name": "stderr",
          "output_type": "stream",
          "text": [
            "100%|██████████| 78/78 [00:03<00:00, 22.07it/s]\n"
          ]
        },
        {
          "name": "stdout",
          "output_type": "stream",
          "text": [
            "epoch: 229\n",
            "loss: 0.008554932792321779\n",
            "accuracy: 0.9966947115384616\n"
          ]
        },
        {
          "name": "stderr",
          "output_type": "stream",
          "text": [
            "100%|██████████| 78/78 [00:03<00:00, 21.97it/s]\n"
          ]
        },
        {
          "name": "stdout",
          "output_type": "stream",
          "text": [
            "epoch: 230\n",
            "loss: 0.01044518353853327\n",
            "accuracy: 0.9964943910256411\n"
          ]
        },
        {
          "name": "stderr",
          "output_type": "stream",
          "text": [
            "100%|██████████| 78/78 [00:03<00:00, 21.87it/s]\n"
          ]
        },
        {
          "name": "stdout",
          "output_type": "stream",
          "text": [
            "epoch: 231\n",
            "loss: 0.010576817936499795\n",
            "accuracy: 0.9965945512820513\n"
          ]
        },
        {
          "name": "stderr",
          "output_type": "stream",
          "text": [
            "100%|██████████| 78/78 [00:03<00:00, 22.11it/s]\n"
          ]
        },
        {
          "name": "stdout",
          "output_type": "stream",
          "text": [
            "epoch: 232\n",
            "loss: 0.00854884133001085\n",
            "accuracy: 0.9970953525641025\n"
          ]
        },
        {
          "name": "stderr",
          "output_type": "stream",
          "text": [
            "100%|██████████| 78/78 [00:03<00:00, 22.44it/s]\n"
          ]
        },
        {
          "name": "stdout",
          "output_type": "stream",
          "text": [
            "epoch: 233\n",
            "loss: 0.008643963442479547\n",
            "accuracy: 0.9972956730769231\n"
          ]
        },
        {
          "name": "stderr",
          "output_type": "stream",
          "text": [
            "100%|██████████| 78/78 [00:03<00:00, 21.92it/s]\n"
          ]
        },
        {
          "name": "stdout",
          "output_type": "stream",
          "text": [
            "epoch: 234\n",
            "loss: 0.00781052840876584\n",
            "accuracy: 0.9970953525641025\n"
          ]
        },
        {
          "name": "stderr",
          "output_type": "stream",
          "text": [
            "100%|██████████| 78/78 [00:03<00:00, 20.83it/s]\n"
          ]
        },
        {
          "name": "stdout",
          "output_type": "stream",
          "text": [
            "epoch: 235\n",
            "loss: 0.008683366807720935\n",
            "accuracy: 0.9972956730769231\n"
          ]
        },
        {
          "name": "stderr",
          "output_type": "stream",
          "text": [
            "100%|██████████| 78/78 [00:03<00:00, 22.76it/s]\n"
          ]
        },
        {
          "name": "stdout",
          "output_type": "stream",
          "text": [
            "epoch: 236\n",
            "loss: 0.006296993771684356\n",
            "accuracy: 0.9982972756410257\n"
          ]
        },
        {
          "name": "stderr",
          "output_type": "stream",
          "text": [
            "100%|██████████| 78/78 [00:03<00:00, 22.34it/s]\n"
          ]
        },
        {
          "name": "stdout",
          "output_type": "stream",
          "text": [
            "epoch: 237\n",
            "loss: 0.005926852237630205\n",
            "accuracy: 0.9980969551282052\n"
          ]
        },
        {
          "name": "stderr",
          "output_type": "stream",
          "text": [
            "100%|██████████| 78/78 [00:03<00:00, 22.13it/s]\n"
          ]
        },
        {
          "name": "stdout",
          "output_type": "stream",
          "text": [
            "epoch: 238\n",
            "loss: 0.007634138068309627\n",
            "accuracy: 0.9971955128205128\n"
          ]
        },
        {
          "name": "stderr",
          "output_type": "stream",
          "text": [
            "100%|██████████| 78/78 [00:03<00:00, 21.41it/s]\n"
          ]
        },
        {
          "name": "stdout",
          "output_type": "stream",
          "text": [
            "epoch: 239\n",
            "loss: 0.009063402132223694\n",
            "accuracy: 0.9965945512820513\n"
          ]
        },
        {
          "name": "stderr",
          "output_type": "stream",
          "text": [
            "100%|██████████| 78/78 [00:03<00:00, 21.44it/s]\n"
          ]
        },
        {
          "name": "stdout",
          "output_type": "stream",
          "text": [
            "epoch: 240\n",
            "loss: 0.005330174517346164\n",
            "accuracy: 0.9983974358974359\n"
          ]
        },
        {
          "name": "stderr",
          "output_type": "stream",
          "text": [
            "100%|██████████| 78/78 [00:03<00:00, 21.76it/s]\n"
          ]
        },
        {
          "name": "stdout",
          "output_type": "stream",
          "text": [
            "epoch: 241\n",
            "loss: 0.007144225183322142\n",
            "accuracy: 0.9974959935897436\n"
          ]
        },
        {
          "name": "stderr",
          "output_type": "stream",
          "text": [
            "100%|██████████| 78/78 [00:03<00:00, 21.47it/s]\n"
          ]
        },
        {
          "name": "stdout",
          "output_type": "stream",
          "text": [
            "epoch: 242\n",
            "loss: 0.009510166646811204\n",
            "accuracy: 0.996895032051282\n"
          ]
        },
        {
          "name": "stderr",
          "output_type": "stream",
          "text": [
            "100%|██████████| 78/78 [00:03<00:00, 21.48it/s]\n"
          ]
        },
        {
          "name": "stdout",
          "output_type": "stream",
          "text": [
            "epoch: 243\n",
            "loss: 0.007491479748680901\n",
            "accuracy: 0.9979967948717948\n"
          ]
        },
        {
          "name": "stderr",
          "output_type": "stream",
          "text": [
            "100%|██████████| 78/78 [00:03<00:00, 21.88it/s]\n"
          ]
        },
        {
          "name": "stdout",
          "output_type": "stream",
          "text": [
            "epoch: 244\n",
            "loss: 0.006519329958768466\n",
            "accuracy: 0.9978966346153846\n"
          ]
        },
        {
          "name": "stderr",
          "output_type": "stream",
          "text": [
            "100%|██████████| 78/78 [00:03<00:00, 21.74it/s]\n"
          ]
        },
        {
          "name": "stdout",
          "output_type": "stream",
          "text": [
            "epoch: 245\n",
            "loss: 0.007999179283685338\n",
            "accuracy: 0.9972956730769231\n"
          ]
        },
        {
          "name": "stderr",
          "output_type": "stream",
          "text": [
            "100%|██████████| 78/78 [00:03<00:00, 21.30it/s]\n"
          ]
        },
        {
          "name": "stdout",
          "output_type": "stream",
          "text": [
            "epoch: 246\n",
            "loss: 0.00924797056359239\n",
            "accuracy: 0.9974959935897436\n"
          ]
        },
        {
          "name": "stderr",
          "output_type": "stream",
          "text": [
            "100%|██████████| 78/78 [00:03<00:00, 21.99it/s]\n"
          ]
        },
        {
          "name": "stdout",
          "output_type": "stream",
          "text": [
            "epoch: 247\n",
            "loss: 0.007883421002845399\n",
            "accuracy: 0.9975961538461539\n"
          ]
        },
        {
          "name": "stderr",
          "output_type": "stream",
          "text": [
            "100%|██████████| 78/78 [00:03<00:00, 21.61it/s]\n"
          ]
        },
        {
          "name": "stdout",
          "output_type": "stream",
          "text": [
            "epoch: 248\n",
            "loss: 0.006770869360666555\n",
            "accuracy: 0.9978966346153846\n"
          ]
        },
        {
          "name": "stderr",
          "output_type": "stream",
          "text": [
            "100%|██████████| 78/78 [00:03<00:00, 21.18it/s]\n"
          ]
        },
        {
          "name": "stdout",
          "output_type": "stream",
          "text": [
            "epoch: 249\n",
            "loss: 0.009760949846867543\n",
            "accuracy: 0.9963942307692307\n"
          ]
        },
        {
          "name": "stderr",
          "output_type": "stream",
          "text": [
            "100%|██████████| 78/78 [00:03<00:00, 21.69it/s]\n"
          ]
        },
        {
          "name": "stdout",
          "output_type": "stream",
          "text": [
            "epoch: 250\n",
            "loss: 0.007388103877206166\n",
            "accuracy: 0.9979967948717948\n"
          ]
        },
        {
          "name": "stderr",
          "output_type": "stream",
          "text": [
            "100%|██████████| 78/78 [00:03<00:00, 21.65it/s]\n"
          ]
        },
        {
          "name": "stdout",
          "output_type": "stream",
          "text": [
            "epoch: 251\n",
            "loss: 0.00766287559720998\n",
            "accuracy: 0.9973958333333334\n"
          ]
        },
        {
          "name": "stderr",
          "output_type": "stream",
          "text": [
            "100%|██████████| 78/78 [00:03<00:00, 21.65it/s]\n"
          ]
        },
        {
          "name": "stdout",
          "output_type": "stream",
          "text": [
            "epoch: 252\n",
            "loss: 0.007255526839006239\n",
            "accuracy: 0.9974959935897436\n"
          ]
        },
        {
          "name": "stderr",
          "output_type": "stream",
          "text": [
            "100%|██████████| 78/78 [00:03<00:00, 21.96it/s]\n"
          ]
        },
        {
          "name": "stdout",
          "output_type": "stream",
          "text": [
            "epoch: 253\n",
            "loss: 0.007790656641680891\n",
            "accuracy: 0.9974959935897436\n"
          ]
        },
        {
          "name": "stderr",
          "output_type": "stream",
          "text": [
            "100%|██████████| 78/78 [00:03<00:00, 22.13it/s]\n"
          ]
        },
        {
          "name": "stdout",
          "output_type": "stream",
          "text": [
            "epoch: 254\n",
            "loss: 0.007259393929136702\n",
            "accuracy: 0.9977964743589743\n"
          ]
        },
        {
          "name": "stderr",
          "output_type": "stream",
          "text": [
            "100%|██████████| 78/78 [00:03<00:00, 20.45it/s]\n"
          ]
        },
        {
          "name": "stdout",
          "output_type": "stream",
          "text": [
            "epoch: 255\n",
            "loss: 0.007972862496852683\n",
            "accuracy: 0.9972956730769231\n"
          ]
        },
        {
          "name": "stderr",
          "output_type": "stream",
          "text": [
            "100%|██████████| 78/78 [00:03<00:00, 21.04it/s]\n"
          ]
        },
        {
          "name": "stdout",
          "output_type": "stream",
          "text": [
            "epoch: 256\n",
            "loss: 0.006349795899810628\n",
            "accuracy: 0.9980969551282052\n"
          ]
        },
        {
          "name": "stderr",
          "output_type": "stream",
          "text": [
            "100%|██████████| 78/78 [00:03<00:00, 20.94it/s]\n"
          ]
        },
        {
          "name": "stdout",
          "output_type": "stream",
          "text": [
            "epoch: 257\n",
            "loss: 0.008604633628214614\n",
            "accuracy: 0.9969951923076923\n"
          ]
        },
        {
          "name": "stderr",
          "output_type": "stream",
          "text": [
            "100%|██████████| 78/78 [00:03<00:00, 20.48it/s]\n"
          ]
        },
        {
          "name": "stdout",
          "output_type": "stream",
          "text": [
            "epoch: 258\n",
            "loss: 0.008845255052736506\n",
            "accuracy: 0.9974959935897436\n"
          ]
        },
        {
          "name": "stderr",
          "output_type": "stream",
          "text": [
            "100%|██████████| 78/78 [00:03<00:00, 21.16it/s]\n"
          ]
        },
        {
          "name": "stdout",
          "output_type": "stream",
          "text": [
            "epoch: 259\n",
            "loss: 0.007324455737454208\n",
            "accuracy: 0.9974959935897436\n"
          ]
        },
        {
          "name": "stderr",
          "output_type": "stream",
          "text": [
            "100%|██████████| 78/78 [00:03<00:00, 22.33it/s]\n"
          ]
        },
        {
          "name": "stdout",
          "output_type": "stream",
          "text": [
            "epoch: 260\n",
            "loss: 0.008086061338522436\n",
            "accuracy: 0.9970953525641025\n"
          ]
        },
        {
          "name": "stderr",
          "output_type": "stream",
          "text": [
            "100%|██████████| 78/78 [00:03<00:00, 21.76it/s]\n"
          ]
        },
        {
          "name": "stdout",
          "output_type": "stream",
          "text": [
            "epoch: 261\n",
            "loss: 0.008581192684524024\n",
            "accuracy: 0.9971955128205128\n"
          ]
        },
        {
          "name": "stderr",
          "output_type": "stream",
          "text": [
            "100%|██████████| 78/78 [00:03<00:00, 20.92it/s]\n"
          ]
        },
        {
          "name": "stdout",
          "output_type": "stream",
          "text": [
            "epoch: 262\n",
            "loss: 0.008374801616017252\n",
            "accuracy: 0.9970953525641025\n"
          ]
        },
        {
          "name": "stderr",
          "output_type": "stream",
          "text": [
            "100%|██████████| 78/78 [00:03<00:00, 21.77it/s]\n"
          ]
        },
        {
          "name": "stdout",
          "output_type": "stream",
          "text": [
            "epoch: 263\n",
            "loss: 0.0060582316733556445\n",
            "accuracy: 0.9981971153846154\n"
          ]
        },
        {
          "name": "stderr",
          "output_type": "stream",
          "text": [
            "100%|██████████| 78/78 [00:03<00:00, 21.74it/s]\n"
          ]
        },
        {
          "name": "stdout",
          "output_type": "stream",
          "text": [
            "epoch: 264\n",
            "loss: 0.006200713323032221\n",
            "accuracy: 0.9975961538461539\n"
          ]
        },
        {
          "name": "stderr",
          "output_type": "stream",
          "text": [
            "100%|██████████| 78/78 [00:03<00:00, 21.18it/s]\n"
          ]
        },
        {
          "name": "stdout",
          "output_type": "stream",
          "text": [
            "epoch: 265\n",
            "loss: 0.009347164126572749\n",
            "accuracy: 0.9963942307692307\n"
          ]
        },
        {
          "name": "stderr",
          "output_type": "stream",
          "text": [
            "100%|██████████| 78/78 [00:03<00:00, 21.67it/s]\n"
          ]
        },
        {
          "name": "stdout",
          "output_type": "stream",
          "text": [
            "epoch: 266\n",
            "loss: 0.007524823906864278\n",
            "accuracy: 0.996895032051282\n"
          ]
        },
        {
          "name": "stderr",
          "output_type": "stream",
          "text": [
            "100%|██████████| 78/78 [00:03<00:00, 21.73it/s]\n"
          ]
        },
        {
          "name": "stdout",
          "output_type": "stream",
          "text": [
            "epoch: 267\n",
            "loss: 0.007581104977035489\n",
            "accuracy: 0.9969951923076923\n"
          ]
        },
        {
          "name": "stderr",
          "output_type": "stream",
          "text": [
            "100%|██████████| 78/78 [00:03<00:00, 22.23it/s]\n"
          ]
        },
        {
          "name": "stdout",
          "output_type": "stream",
          "text": [
            "epoch: 268\n",
            "loss: 0.0076567002531821625\n",
            "accuracy: 0.9970953525641025\n"
          ]
        },
        {
          "name": "stderr",
          "output_type": "stream",
          "text": [
            "100%|██████████| 78/78 [00:03<00:00, 21.82it/s]\n"
          ]
        },
        {
          "name": "stdout",
          "output_type": "stream",
          "text": [
            "epoch: 269\n",
            "loss: 0.006893874063956527\n",
            "accuracy: 0.9974959935897436\n"
          ]
        },
        {
          "name": "stderr",
          "output_type": "stream",
          "text": [
            "100%|██████████| 78/78 [00:03<00:00, 21.99it/s]\n"
          ]
        },
        {
          "name": "stdout",
          "output_type": "stream",
          "text": [
            "epoch: 270\n",
            "loss: 0.006460018434714025\n",
            "accuracy: 0.9978966346153846\n"
          ]
        },
        {
          "name": "stderr",
          "output_type": "stream",
          "text": [
            "100%|██████████| 78/78 [00:03<00:00, 22.16it/s]\n"
          ]
        },
        {
          "name": "stdout",
          "output_type": "stream",
          "text": [
            "epoch: 271\n",
            "loss: 0.006899275031546728\n",
            "accuracy: 0.9979967948717948\n"
          ]
        },
        {
          "name": "stderr",
          "output_type": "stream",
          "text": [
            "100%|██████████| 78/78 [00:03<00:00, 21.83it/s]\n"
          ]
        },
        {
          "name": "stdout",
          "output_type": "stream",
          "text": [
            "epoch: 272\n",
            "loss: 0.006310966674041433\n",
            "accuracy: 0.9982972756410257\n"
          ]
        },
        {
          "name": "stderr",
          "output_type": "stream",
          "text": [
            "100%|██████████| 78/78 [00:03<00:00, 21.96it/s]\n"
          ]
        },
        {
          "name": "stdout",
          "output_type": "stream",
          "text": [
            "epoch: 273\n",
            "loss: 0.006623987318912091\n",
            "accuracy: 0.9976963141025641\n"
          ]
        },
        {
          "name": "stderr",
          "output_type": "stream",
          "text": [
            "100%|██████████| 78/78 [00:03<00:00, 22.39it/s]\n"
          ]
        },
        {
          "name": "stdout",
          "output_type": "stream",
          "text": [
            "epoch: 274\n",
            "loss: 0.00780319830272884\n",
            "accuracy: 0.9972956730769231\n"
          ]
        },
        {
          "name": "stderr",
          "output_type": "stream",
          "text": [
            "100%|██████████| 78/78 [00:03<00:00, 22.40it/s]\n"
          ]
        },
        {
          "name": "stdout",
          "output_type": "stream",
          "text": [
            "epoch: 275\n",
            "loss: 0.005741740374688584\n",
            "accuracy: 0.9979967948717948\n"
          ]
        },
        {
          "name": "stderr",
          "output_type": "stream",
          "text": [
            "100%|██████████| 78/78 [00:03<00:00, 22.12it/s]\n"
          ]
        },
        {
          "name": "stdout",
          "output_type": "stream",
          "text": [
            "epoch: 276\n",
            "loss: 0.004410016128811269\n",
            "accuracy: 0.9984975961538461\n"
          ]
        },
        {
          "name": "stderr",
          "output_type": "stream",
          "text": [
            "100%|██████████| 78/78 [00:03<00:00, 22.44it/s]\n"
          ]
        },
        {
          "name": "stdout",
          "output_type": "stream",
          "text": [
            "epoch: 277\n",
            "loss: 0.0066514618527621795\n",
            "accuracy: 0.9977964743589743\n"
          ]
        },
        {
          "name": "stderr",
          "output_type": "stream",
          "text": [
            "100%|██████████| 78/78 [00:03<00:00, 22.32it/s]\n"
          ]
        },
        {
          "name": "stdout",
          "output_type": "stream",
          "text": [
            "epoch: 278\n",
            "loss: 0.005872002950920246\n",
            "accuracy: 0.9980969551282052\n"
          ]
        },
        {
          "name": "stderr",
          "output_type": "stream",
          "text": [
            "100%|██████████| 78/78 [00:03<00:00, 22.27it/s]\n"
          ]
        },
        {
          "name": "stdout",
          "output_type": "stream",
          "text": [
            "epoch: 279\n",
            "loss: 0.004725804325202121\n",
            "accuracy: 0.9983974358974359\n"
          ]
        },
        {
          "name": "stderr",
          "output_type": "stream",
          "text": [
            "100%|██████████| 78/78 [00:03<00:00, 22.25it/s]\n"
          ]
        },
        {
          "name": "stdout",
          "output_type": "stream",
          "text": [
            "epoch: 280\n",
            "loss: 0.007934672262844963\n",
            "accuracy: 0.9972956730769231\n"
          ]
        },
        {
          "name": "stderr",
          "output_type": "stream",
          "text": [
            "100%|██████████| 78/78 [00:03<00:00, 22.11it/s]\n"
          ]
        },
        {
          "name": "stdout",
          "output_type": "stream",
          "text": [
            "epoch: 281\n",
            "loss: 0.008402523079451222\n",
            "accuracy: 0.9973958333333334\n"
          ]
        },
        {
          "name": "stderr",
          "output_type": "stream",
          "text": [
            "100%|██████████| 78/78 [00:03<00:00, 21.44it/s]\n"
          ]
        },
        {
          "name": "stdout",
          "output_type": "stream",
          "text": [
            "epoch: 282\n",
            "loss: 0.0085925469044387\n",
            "accuracy: 0.9969951923076923\n"
          ]
        },
        {
          "name": "stderr",
          "output_type": "stream",
          "text": [
            "100%|██████████| 78/78 [00:03<00:00, 21.69it/s]\n"
          ]
        },
        {
          "name": "stdout",
          "output_type": "stream",
          "text": [
            "epoch: 283\n",
            "loss: 0.007218352179431046\n",
            "accuracy: 0.9976963141025641\n"
          ]
        },
        {
          "name": "stderr",
          "output_type": "stream",
          "text": [
            "100%|██████████| 78/78 [00:03<00:00, 20.71it/s]\n"
          ]
        },
        {
          "name": "stdout",
          "output_type": "stream",
          "text": [
            "epoch: 284\n",
            "loss: 0.006631630575821663\n",
            "accuracy: 0.9974959935897436\n"
          ]
        },
        {
          "name": "stderr",
          "output_type": "stream",
          "text": [
            "100%|██████████| 78/78 [00:03<00:00, 19.59it/s]\n"
          ]
        },
        {
          "name": "stdout",
          "output_type": "stream",
          "text": [
            "epoch: 285\n",
            "loss: 0.006729284665571191\n",
            "accuracy: 0.9976963141025641\n"
          ]
        },
        {
          "name": "stderr",
          "output_type": "stream",
          "text": [
            "100%|██████████| 78/78 [00:04<00:00, 18.22it/s]\n"
          ]
        },
        {
          "name": "stdout",
          "output_type": "stream",
          "text": [
            "epoch: 286\n",
            "loss: 0.00639548732933457\n",
            "accuracy: 0.9980969551282052\n"
          ]
        },
        {
          "name": "stderr",
          "output_type": "stream",
          "text": [
            "100%|██████████| 78/78 [00:04<00:00, 18.86it/s]\n"
          ]
        },
        {
          "name": "stdout",
          "output_type": "stream",
          "text": [
            "epoch: 287\n",
            "loss: 0.0056127042077535475\n",
            "accuracy: 0.9982972756410257\n"
          ]
        },
        {
          "name": "stderr",
          "output_type": "stream",
          "text": [
            "100%|██████████| 78/78 [00:03<00:00, 20.41it/s]\n"
          ]
        },
        {
          "name": "stdout",
          "output_type": "stream",
          "text": [
            "epoch: 288\n",
            "loss: 0.009963195661279874\n",
            "accuracy: 0.9963942307692307\n"
          ]
        },
        {
          "name": "stderr",
          "output_type": "stream",
          "text": [
            "100%|██████████| 78/78 [00:04<00:00, 19.04it/s]\n"
          ]
        },
        {
          "name": "stdout",
          "output_type": "stream",
          "text": [
            "epoch: 289\n",
            "loss: 0.007893700300393483\n",
            "accuracy: 0.9975961538461539\n"
          ]
        },
        {
          "name": "stderr",
          "output_type": "stream",
          "text": [
            "100%|██████████| 78/78 [00:03<00:00, 20.42it/s]\n"
          ]
        },
        {
          "name": "stdout",
          "output_type": "stream",
          "text": [
            "epoch: 290\n",
            "loss: 0.007967170324916832\n",
            "accuracy: 0.9971955128205128\n"
          ]
        },
        {
          "name": "stderr",
          "output_type": "stream",
          "text": [
            "100%|██████████| 78/78 [00:04<00:00, 18.56it/s]\n"
          ]
        },
        {
          "name": "stdout",
          "output_type": "stream",
          "text": [
            "epoch: 291\n",
            "loss: 0.009972763379128316\n",
            "accuracy: 0.99609375\n"
          ]
        },
        {
          "name": "stderr",
          "output_type": "stream",
          "text": [
            "100%|██████████| 78/78 [00:03<00:00, 20.41it/s]\n"
          ]
        },
        {
          "name": "stdout",
          "output_type": "stream",
          "text": [
            "epoch: 292\n",
            "loss: 0.006182993855476618\n",
            "accuracy: 0.9983974358974359\n"
          ]
        },
        {
          "name": "stderr",
          "output_type": "stream",
          "text": [
            "100%|██████████| 78/78 [00:03<00:00, 19.69it/s]\n"
          ]
        },
        {
          "name": "stdout",
          "output_type": "stream",
          "text": [
            "epoch: 293\n",
            "loss: 0.006766595976585403\n",
            "accuracy: 0.9975961538461539\n"
          ]
        },
        {
          "name": "stderr",
          "output_type": "stream",
          "text": [
            "100%|██████████| 78/78 [00:04<00:00, 18.53it/s]\n"
          ]
        },
        {
          "name": "stdout",
          "output_type": "stream",
          "text": [
            "epoch: 294\n",
            "loss: 0.006224482729941463\n",
            "accuracy: 0.9984975961538461\n"
          ]
        },
        {
          "name": "stderr",
          "output_type": "stream",
          "text": [
            "100%|██████████| 78/78 [00:04<00:00, 19.36it/s]\n"
          ]
        },
        {
          "name": "stdout",
          "output_type": "stream",
          "text": [
            "epoch: 295\n",
            "loss: 0.005892141809081062\n",
            "accuracy: 0.9980969551282052\n"
          ]
        },
        {
          "name": "stderr",
          "output_type": "stream",
          "text": [
            "100%|██████████| 78/78 [00:04<00:00, 19.07it/s]\n"
          ]
        },
        {
          "name": "stdout",
          "output_type": "stream",
          "text": [
            "epoch: 296\n",
            "loss: 0.0065604659280208396\n",
            "accuracy: 0.9975961538461539\n"
          ]
        },
        {
          "name": "stderr",
          "output_type": "stream",
          "text": [
            "100%|██████████| 78/78 [00:04<00:00, 18.42it/s]\n"
          ]
        },
        {
          "name": "stdout",
          "output_type": "stream",
          "text": [
            "epoch: 297\n",
            "loss: 0.006787269145626431\n",
            "accuracy: 0.9984975961538461\n"
          ]
        },
        {
          "name": "stderr",
          "output_type": "stream",
          "text": [
            "100%|██████████| 78/78 [00:04<00:00, 18.41it/s]\n"
          ]
        },
        {
          "name": "stdout",
          "output_type": "stream",
          "text": [
            "epoch: 298\n",
            "loss: 0.006884884988465227\n",
            "accuracy: 0.9974959935897436\n"
          ]
        },
        {
          "name": "stderr",
          "output_type": "stream",
          "text": [
            "100%|██████████| 78/78 [00:03<00:00, 20.90it/s]\n"
          ]
        },
        {
          "name": "stdout",
          "output_type": "stream",
          "text": [
            "epoch: 299\n",
            "loss: 0.0067238882109403415\n",
            "accuracy: 0.9978966346153846\n"
          ]
        },
        {
          "name": "stderr",
          "output_type": "stream",
          "text": [
            "100%|██████████| 78/78 [00:03<00:00, 21.02it/s]\n"
          ]
        },
        {
          "name": "stdout",
          "output_type": "stream",
          "text": [
            "epoch: 300\n",
            "loss: 0.005186235882903043\n",
            "accuracy: 0.9983974358974359\n"
          ]
        },
        {
          "name": "stderr",
          "output_type": "stream",
          "text": [
            "100%|██████████| 78/78 [00:03<00:00, 20.18it/s]\n"
          ]
        },
        {
          "name": "stdout",
          "output_type": "stream",
          "text": [
            "epoch: 301\n",
            "loss: 0.005620062760919189\n",
            "accuracy: 0.9980969551282052\n"
          ]
        },
        {
          "name": "stderr",
          "output_type": "stream",
          "text": [
            "100%|██████████| 78/78 [00:04<00:00, 18.84it/s]\n"
          ]
        },
        {
          "name": "stdout",
          "output_type": "stream",
          "text": [
            "epoch: 302\n",
            "loss: 0.005243666329755424\n",
            "accuracy: 0.9986979166666666\n"
          ]
        },
        {
          "name": "stderr",
          "output_type": "stream",
          "text": [
            "100%|██████████| 78/78 [00:04<00:00, 16.80it/s]\n"
          ]
        },
        {
          "name": "stdout",
          "output_type": "stream",
          "text": [
            "epoch: 303\n",
            "loss: 0.006182373610686344\n",
            "accuracy: 0.9983974358974359\n"
          ]
        },
        {
          "name": "stderr",
          "output_type": "stream",
          "text": [
            "100%|██████████| 78/78 [00:04<00:00, 15.76it/s]\n"
          ]
        },
        {
          "name": "stdout",
          "output_type": "stream",
          "text": [
            "epoch: 304\n",
            "loss: 0.007197286580310156\n",
            "accuracy: 0.9975961538461539\n"
          ]
        },
        {
          "name": "stderr",
          "output_type": "stream",
          "text": [
            "100%|██████████| 78/78 [00:04<00:00, 18.57it/s]\n"
          ]
        },
        {
          "name": "stdout",
          "output_type": "stream",
          "text": [
            "epoch: 305\n",
            "loss: 0.009130675218050154\n",
            "accuracy: 0.9970953525641025\n"
          ]
        },
        {
          "name": "stderr",
          "output_type": "stream",
          "text": [
            "100%|██████████| 78/78 [00:04<00:00, 18.20it/s]\n"
          ]
        },
        {
          "name": "stdout",
          "output_type": "stream",
          "text": [
            "epoch: 306\n",
            "loss: 0.00576656982836236\n",
            "accuracy: 0.9982972756410257\n"
          ]
        },
        {
          "name": "stderr",
          "output_type": "stream",
          "text": [
            "100%|██████████| 78/78 [00:03<00:00, 20.09it/s]\n"
          ]
        },
        {
          "name": "stdout",
          "output_type": "stream",
          "text": [
            "epoch: 307\n",
            "loss: 0.006937542620550794\n",
            "accuracy: 0.9982972756410257\n"
          ]
        },
        {
          "name": "stderr",
          "output_type": "stream",
          "text": [
            "100%|██████████| 78/78 [00:03<00:00, 19.57it/s]\n"
          ]
        },
        {
          "name": "stdout",
          "output_type": "stream",
          "text": [
            "epoch: 308\n",
            "loss: 0.005422829551837192\n",
            "accuracy: 0.9981971153846154\n"
          ]
        },
        {
          "name": "stderr",
          "output_type": "stream",
          "text": [
            "100%|██████████| 78/78 [00:04<00:00, 17.85it/s]\n"
          ]
        },
        {
          "name": "stdout",
          "output_type": "stream",
          "text": [
            "epoch: 309\n",
            "loss: 0.0070041480622678185\n",
            "accuracy: 0.9979967948717948\n"
          ]
        },
        {
          "name": "stderr",
          "output_type": "stream",
          "text": [
            "100%|██████████| 78/78 [00:04<00:00, 19.25it/s]\n"
          ]
        },
        {
          "name": "stdout",
          "output_type": "stream",
          "text": [
            "epoch: 310\n",
            "loss: 0.0058809391432591025\n",
            "accuracy: 0.9976963141025641\n"
          ]
        },
        {
          "name": "stderr",
          "output_type": "stream",
          "text": [
            "100%|██████████| 78/78 [00:04<00:00, 19.14it/s]\n"
          ]
        },
        {
          "name": "stdout",
          "output_type": "stream",
          "text": [
            "epoch: 311\n",
            "loss: 0.007717351717963958\n",
            "accuracy: 0.9974959935897436\n"
          ]
        },
        {
          "name": "stderr",
          "output_type": "stream",
          "text": [
            "100%|██████████| 78/78 [00:04<00:00, 19.39it/s]\n"
          ]
        },
        {
          "name": "stdout",
          "output_type": "stream",
          "text": [
            "epoch: 312\n",
            "loss: 0.007054777262218965\n",
            "accuracy: 0.9977964743589743\n"
          ]
        },
        {
          "name": "stderr",
          "output_type": "stream",
          "text": [
            "100%|██████████| 78/78 [00:04<00:00, 18.84it/s]\n"
          ]
        },
        {
          "name": "stdout",
          "output_type": "stream",
          "text": [
            "epoch: 313\n",
            "loss: 0.008121954939829616\n",
            "accuracy: 0.9971955128205128\n"
          ]
        },
        {
          "name": "stderr",
          "output_type": "stream",
          "text": [
            "100%|██████████| 78/78 [00:04<00:00, 18.95it/s]\n"
          ]
        },
        {
          "name": "stdout",
          "output_type": "stream",
          "text": [
            "epoch: 314\n",
            "loss: 0.00707447562718955\n",
            "accuracy: 0.9977964743589743\n"
          ]
        },
        {
          "name": "stderr",
          "output_type": "stream",
          "text": [
            "100%|██████████| 78/78 [00:03<00:00, 20.40it/s]\n"
          ]
        },
        {
          "name": "stdout",
          "output_type": "stream",
          "text": [
            "epoch: 315\n",
            "loss: 0.006851217298856518\n",
            "accuracy: 0.9979967948717948\n"
          ]
        },
        {
          "name": "stderr",
          "output_type": "stream",
          "text": [
            "100%|██████████| 78/78 [00:03<00:00, 20.84it/s]\n"
          ]
        },
        {
          "name": "stdout",
          "output_type": "stream",
          "text": [
            "epoch: 316\n",
            "loss: 0.007599289991701834\n",
            "accuracy: 0.9976963141025641\n"
          ]
        },
        {
          "name": "stderr",
          "output_type": "stream",
          "text": [
            "100%|██████████| 78/78 [00:03<00:00, 20.29it/s]\n"
          ]
        },
        {
          "name": "stdout",
          "output_type": "stream",
          "text": [
            "epoch: 317\n",
            "loss: 0.007104344979803174\n",
            "accuracy: 0.9975961538461539\n"
          ]
        },
        {
          "name": "stderr",
          "output_type": "stream",
          "text": [
            "100%|██████████| 78/78 [00:03<00:00, 20.18it/s]\n"
          ]
        },
        {
          "name": "stdout",
          "output_type": "stream",
          "text": [
            "epoch: 318\n",
            "loss: 0.007364009274916055\n",
            "accuracy: 0.9973958333333334\n"
          ]
        },
        {
          "name": "stderr",
          "output_type": "stream",
          "text": [
            "100%|██████████| 78/78 [00:03<00:00, 20.56it/s]\n"
          ]
        },
        {
          "name": "stdout",
          "output_type": "stream",
          "text": [
            "epoch: 319\n",
            "loss: 0.006872955593280494\n",
            "accuracy: 0.9976963141025641\n"
          ]
        },
        {
          "name": "stderr",
          "output_type": "stream",
          "text": [
            "100%|██████████| 78/78 [00:04<00:00, 19.00it/s]\n"
          ]
        },
        {
          "name": "stdout",
          "output_type": "stream",
          "text": [
            "epoch: 320\n",
            "loss: 0.004842028306507601\n",
            "accuracy: 0.9985977564102564\n"
          ]
        },
        {
          "name": "stderr",
          "output_type": "stream",
          "text": [
            "100%|██████████| 78/78 [00:04<00:00, 18.24it/s]\n"
          ]
        },
        {
          "name": "stdout",
          "output_type": "stream",
          "text": [
            "epoch: 321\n",
            "loss: 0.007654053150849321\n",
            "accuracy: 0.9971955128205128\n"
          ]
        },
        {
          "name": "stderr",
          "output_type": "stream",
          "text": [
            "100%|██████████| 78/78 [00:05<00:00, 15.58it/s]\n"
          ]
        },
        {
          "name": "stdout",
          "output_type": "stream",
          "text": [
            "epoch: 322\n",
            "loss: 0.00659420198495261\n",
            "accuracy: 0.9978966346153846\n"
          ]
        },
        {
          "name": "stderr",
          "output_type": "stream",
          "text": [
            "100%|██████████| 78/78 [00:04<00:00, 16.36it/s]\n"
          ]
        },
        {
          "name": "stdout",
          "output_type": "stream",
          "text": [
            "epoch: 323\n",
            "loss: 0.007436651407400719\n",
            "accuracy: 0.9970953525641025\n"
          ]
        },
        {
          "name": "stderr",
          "output_type": "stream",
          "text": [
            "100%|██████████| 78/78 [00:04<00:00, 18.33it/s]\n"
          ]
        },
        {
          "name": "stdout",
          "output_type": "stream",
          "text": [
            "epoch: 324\n",
            "loss: 0.005052927459100596\n",
            "accuracy: 0.9981971153846154\n"
          ]
        },
        {
          "name": "stderr",
          "output_type": "stream",
          "text": [
            "100%|██████████| 78/78 [00:04<00:00, 19.13it/s]\n"
          ]
        },
        {
          "name": "stdout",
          "output_type": "stream",
          "text": [
            "epoch: 325\n",
            "loss: 0.006580424145422279\n",
            "accuracy: 0.9979967948717948\n"
          ]
        },
        {
          "name": "stderr",
          "output_type": "stream",
          "text": [
            "100%|██████████| 78/78 [00:04<00:00, 19.34it/s]\n"
          ]
        },
        {
          "name": "stdout",
          "output_type": "stream",
          "text": [
            "epoch: 326\n",
            "loss: 0.007087246366352655\n",
            "accuracy: 0.9970953525641025\n"
          ]
        },
        {
          "name": "stderr",
          "output_type": "stream",
          "text": [
            "100%|██████████| 78/78 [00:04<00:00, 19.28it/s]\n"
          ]
        },
        {
          "name": "stdout",
          "output_type": "stream",
          "text": [
            "epoch: 327\n",
            "loss: 0.00766363031811451\n",
            "accuracy: 0.9972956730769231\n"
          ]
        },
        {
          "name": "stderr",
          "output_type": "stream",
          "text": [
            "100%|██████████| 78/78 [00:04<00:00, 17.77it/s]\n"
          ]
        },
        {
          "name": "stdout",
          "output_type": "stream",
          "text": [
            "epoch: 328\n",
            "loss: 0.008293465544015933\n",
            "accuracy: 0.9969951923076923\n"
          ]
        },
        {
          "name": "stderr",
          "output_type": "stream",
          "text": [
            "100%|██████████| 78/78 [00:03<00:00, 19.78it/s]\n"
          ]
        },
        {
          "name": "stdout",
          "output_type": "stream",
          "text": [
            "epoch: 329\n",
            "loss: 0.005945863088410801\n",
            "accuracy: 0.9978966346153846\n"
          ]
        },
        {
          "name": "stderr",
          "output_type": "stream",
          "text": [
            "100%|██████████| 78/78 [00:04<00:00, 18.65it/s]\n"
          ]
        },
        {
          "name": "stdout",
          "output_type": "stream",
          "text": [
            "epoch: 330\n",
            "loss: 0.008016551634146033\n",
            "accuracy: 0.9978966346153846\n"
          ]
        },
        {
          "name": "stderr",
          "output_type": "stream",
          "text": [
            "100%|██████████| 78/78 [00:03<00:00, 20.30it/s]\n"
          ]
        },
        {
          "name": "stdout",
          "output_type": "stream",
          "text": [
            "epoch: 331\n",
            "loss: 0.009138845063250464\n",
            "accuracy: 0.9969951923076923\n"
          ]
        },
        {
          "name": "stderr",
          "output_type": "stream",
          "text": [
            "100%|██████████| 78/78 [00:03<00:00, 19.99it/s]\n"
          ]
        },
        {
          "name": "stdout",
          "output_type": "stream",
          "text": [
            "epoch: 332\n",
            "loss: 0.007316952338442206\n",
            "accuracy: 0.9974959935897436\n"
          ]
        },
        {
          "name": "stderr",
          "output_type": "stream",
          "text": [
            "100%|██████████| 78/78 [00:03<00:00, 20.46it/s]\n"
          ]
        },
        {
          "name": "stdout",
          "output_type": "stream",
          "text": [
            "epoch: 333\n",
            "loss: 0.0074830271190969655\n",
            "accuracy: 0.9971955128205128\n"
          ]
        },
        {
          "name": "stderr",
          "output_type": "stream",
          "text": [
            "100%|██████████| 78/78 [00:03<00:00, 20.35it/s]\n"
          ]
        },
        {
          "name": "stdout",
          "output_type": "stream",
          "text": [
            "epoch: 334\n",
            "loss: 0.007603394604535798\n",
            "accuracy: 0.9974959935897436\n"
          ]
        },
        {
          "name": "stderr",
          "output_type": "stream",
          "text": [
            "100%|██████████| 78/78 [00:03<00:00, 19.80it/s]\n"
          ]
        },
        {
          "name": "stdout",
          "output_type": "stream",
          "text": [
            "epoch: 335\n",
            "loss: 0.007898719974596484\n",
            "accuracy: 0.9979967948717948\n"
          ]
        },
        {
          "name": "stderr",
          "output_type": "stream",
          "text": [
            "100%|██████████| 78/78 [00:03<00:00, 20.22it/s]\n"
          ]
        },
        {
          "name": "stdout",
          "output_type": "stream",
          "text": [
            "epoch: 336\n",
            "loss: 0.0056622126296413345\n",
            "accuracy: 0.9980969551282052\n"
          ]
        },
        {
          "name": "stderr",
          "output_type": "stream",
          "text": [
            "100%|██████████| 78/78 [00:03<00:00, 19.53it/s]\n"
          ]
        },
        {
          "name": "stdout",
          "output_type": "stream",
          "text": [
            "epoch: 337\n",
            "loss: 0.007185526417929512\n",
            "accuracy: 0.9977964743589743\n"
          ]
        },
        {
          "name": "stderr",
          "output_type": "stream",
          "text": [
            "100%|██████████| 78/78 [00:03<00:00, 20.19it/s]\n"
          ]
        },
        {
          "name": "stdout",
          "output_type": "stream",
          "text": [
            "epoch: 338\n",
            "loss: 0.005709232741187757\n",
            "accuracy: 0.9977964743589743\n"
          ]
        },
        {
          "name": "stderr",
          "output_type": "stream",
          "text": [
            "100%|██████████| 78/78 [00:03<00:00, 20.51it/s]\n"
          ]
        },
        {
          "name": "stdout",
          "output_type": "stream",
          "text": [
            "epoch: 339\n",
            "loss: 0.008534224091608148\n",
            "accuracy: 0.9970953525641025\n"
          ]
        },
        {
          "name": "stderr",
          "output_type": "stream",
          "text": [
            "100%|██████████| 78/78 [00:03<00:00, 21.08it/s]\n"
          ]
        },
        {
          "name": "stdout",
          "output_type": "stream",
          "text": [
            "epoch: 340\n",
            "loss: 0.0072691780845231665\n",
            "accuracy: 0.9969951923076923\n"
          ]
        },
        {
          "name": "stderr",
          "output_type": "stream",
          "text": [
            "100%|██████████| 78/78 [00:03<00:00, 21.05it/s]\n"
          ]
        },
        {
          "name": "stdout",
          "output_type": "stream",
          "text": [
            "epoch: 341\n",
            "loss: 0.005853941132021972\n",
            "accuracy: 0.9979967948717948\n"
          ]
        },
        {
          "name": "stderr",
          "output_type": "stream",
          "text": [
            "100%|██████████| 78/78 [00:03<00:00, 22.12it/s]\n"
          ]
        },
        {
          "name": "stdout",
          "output_type": "stream",
          "text": [
            "epoch: 342\n",
            "loss: 0.007318777295250374\n",
            "accuracy: 0.9973958333333334\n"
          ]
        },
        {
          "name": "stderr",
          "output_type": "stream",
          "text": [
            "100%|██████████| 78/78 [00:03<00:00, 21.64it/s]\n"
          ]
        },
        {
          "name": "stdout",
          "output_type": "stream",
          "text": [
            "epoch: 343\n",
            "loss: 0.005648100494186227\n",
            "accuracy: 0.9978966346153846\n"
          ]
        },
        {
          "name": "stderr",
          "output_type": "stream",
          "text": [
            "100%|██████████| 78/78 [00:03<00:00, 21.58it/s]\n"
          ]
        },
        {
          "name": "stdout",
          "output_type": "stream",
          "text": [
            "epoch: 344\n",
            "loss: 0.006077291084996735\n",
            "accuracy: 0.9985977564102564\n"
          ]
        },
        {
          "name": "stderr",
          "output_type": "stream",
          "text": [
            "100%|██████████| 78/78 [00:03<00:00, 21.44it/s]\n"
          ]
        },
        {
          "name": "stdout",
          "output_type": "stream",
          "text": [
            "epoch: 345\n",
            "loss: 0.006648564630617889\n",
            "accuracy: 0.9975961538461539\n"
          ]
        },
        {
          "name": "stderr",
          "output_type": "stream",
          "text": [
            "100%|██████████| 78/78 [00:03<00:00, 20.63it/s]\n"
          ]
        },
        {
          "name": "stdout",
          "output_type": "stream",
          "text": [
            "epoch: 346\n",
            "loss: 0.006366862930754462\n",
            "accuracy: 0.9974959935897436\n"
          ]
        },
        {
          "name": "stderr",
          "output_type": "stream",
          "text": [
            "100%|██████████| 78/78 [00:03<00:00, 20.48it/s]\n"
          ]
        },
        {
          "name": "stdout",
          "output_type": "stream",
          "text": [
            "epoch: 347\n",
            "loss: 0.007882451785964152\n",
            "accuracy: 0.9972956730769231\n"
          ]
        },
        {
          "name": "stderr",
          "output_type": "stream",
          "text": [
            "100%|██████████| 78/78 [00:03<00:00, 19.53it/s]\n"
          ]
        },
        {
          "name": "stdout",
          "output_type": "stream",
          "text": [
            "epoch: 348\n",
            "loss: 0.008108131390494796\n",
            "accuracy: 0.9973958333333334\n"
          ]
        },
        {
          "name": "stderr",
          "output_type": "stream",
          "text": [
            "100%|██████████| 78/78 [00:04<00:00, 19.24it/s]\n"
          ]
        },
        {
          "name": "stdout",
          "output_type": "stream",
          "text": [
            "epoch: 349\n",
            "loss: 0.0069738397455344405\n",
            "accuracy: 0.9972956730769231\n"
          ]
        },
        {
          "name": "stderr",
          "output_type": "stream",
          "text": [
            "100%|██████████| 78/78 [00:03<00:00, 19.80it/s]\n"
          ]
        },
        {
          "name": "stdout",
          "output_type": "stream",
          "text": [
            "epoch: 350\n",
            "loss: 0.006166811070542257\n",
            "accuracy: 0.9981971153846154\n"
          ]
        },
        {
          "name": "stderr",
          "output_type": "stream",
          "text": [
            "100%|██████████| 78/78 [00:03<00:00, 20.11it/s]\n"
          ]
        },
        {
          "name": "stdout",
          "output_type": "stream",
          "text": [
            "epoch: 351\n",
            "loss: 0.00736579779372849\n",
            "accuracy: 0.9975961538461539\n"
          ]
        },
        {
          "name": "stderr",
          "output_type": "stream",
          "text": [
            "100%|██████████| 78/78 [00:03<00:00, 19.78it/s]\n"
          ]
        },
        {
          "name": "stdout",
          "output_type": "stream",
          "text": [
            "epoch: 352\n",
            "loss: 0.006261350697455689\n",
            "accuracy: 0.9979967948717948\n"
          ]
        },
        {
          "name": "stderr",
          "output_type": "stream",
          "text": [
            "100%|██████████| 78/78 [00:03<00:00, 19.69it/s]\n"
          ]
        },
        {
          "name": "stdout",
          "output_type": "stream",
          "text": [
            "epoch: 353\n",
            "loss: 0.004749233781834706\n",
            "accuracy: 0.9985977564102564\n"
          ]
        },
        {
          "name": "stderr",
          "output_type": "stream",
          "text": [
            "100%|██████████| 78/78 [00:03<00:00, 20.41it/s]\n"
          ]
        },
        {
          "name": "stdout",
          "output_type": "stream",
          "text": [
            "epoch: 354\n",
            "loss: 0.006188887821432824\n",
            "accuracy: 0.9980969551282052\n"
          ]
        },
        {
          "name": "stderr",
          "output_type": "stream",
          "text": [
            "100%|██████████| 78/78 [00:03<00:00, 19.67it/s]\n"
          ]
        },
        {
          "name": "stdout",
          "output_type": "stream",
          "text": [
            "epoch: 355\n",
            "loss: 0.006746822308811646\n",
            "accuracy: 0.9981971153846154\n"
          ]
        },
        {
          "name": "stderr",
          "output_type": "stream",
          "text": [
            "100%|██████████| 78/78 [00:04<00:00, 18.94it/s]\n"
          ]
        },
        {
          "name": "stdout",
          "output_type": "stream",
          "text": [
            "epoch: 356\n",
            "loss: 0.005985836820820203\n",
            "accuracy: 0.9979967948717948\n"
          ]
        },
        {
          "name": "stderr",
          "output_type": "stream",
          "text": [
            "100%|██████████| 78/78 [00:03<00:00, 20.00it/s]\n"
          ]
        },
        {
          "name": "stdout",
          "output_type": "stream",
          "text": [
            "epoch: 357\n",
            "loss: 0.00744364893650457\n",
            "accuracy: 0.9975961538461539\n"
          ]
        },
        {
          "name": "stderr",
          "output_type": "stream",
          "text": [
            "100%|██████████| 78/78 [00:03<00:00, 19.95it/s]\n"
          ]
        },
        {
          "name": "stdout",
          "output_type": "stream",
          "text": [
            "epoch: 358\n",
            "loss: 0.005015574881093552\n",
            "accuracy: 0.9983974358974359\n"
          ]
        },
        {
          "name": "stderr",
          "output_type": "stream",
          "text": [
            "100%|██████████| 78/78 [00:04<00:00, 18.83it/s]\n"
          ]
        },
        {
          "name": "stdout",
          "output_type": "stream",
          "text": [
            "epoch: 359\n",
            "loss: 0.00578813427404011\n",
            "accuracy: 0.9976963141025641\n"
          ]
        },
        {
          "name": "stderr",
          "output_type": "stream",
          "text": [
            "100%|██████████| 78/78 [00:04<00:00, 19.50it/s]\n"
          ]
        },
        {
          "name": "stdout",
          "output_type": "stream",
          "text": [
            "epoch: 360\n",
            "loss: 0.005373299361030475\n",
            "accuracy: 0.9984975961538461\n"
          ]
        },
        {
          "name": "stderr",
          "output_type": "stream",
          "text": [
            "100%|██████████| 78/78 [00:03<00:00, 19.71it/s]\n"
          ]
        },
        {
          "name": "stdout",
          "output_type": "stream",
          "text": [
            "epoch: 361\n",
            "loss: 0.0049828638883086685\n",
            "accuracy: 0.9984975961538461\n"
          ]
        },
        {
          "name": "stderr",
          "output_type": "stream",
          "text": [
            "100%|██████████| 78/78 [00:03<00:00, 19.88it/s]\n"
          ]
        },
        {
          "name": "stdout",
          "output_type": "stream",
          "text": [
            "epoch: 362\n",
            "loss: 0.005890289825635055\n",
            "accuracy: 0.9979967948717948\n"
          ]
        },
        {
          "name": "stderr",
          "output_type": "stream",
          "text": [
            "100%|██████████| 78/78 [00:03<00:00, 19.93it/s]\n"
          ]
        },
        {
          "name": "stdout",
          "output_type": "stream",
          "text": [
            "epoch: 363\n",
            "loss: 0.00716737119849616\n",
            "accuracy: 0.9975961538461539\n"
          ]
        },
        {
          "name": "stderr",
          "output_type": "stream",
          "text": [
            "100%|██████████| 78/78 [00:04<00:00, 19.10it/s]\n"
          ]
        },
        {
          "name": "stdout",
          "output_type": "stream",
          "text": [
            "epoch: 364\n",
            "loss: 0.0076006998084873585\n",
            "accuracy: 0.9977964743589743\n"
          ]
        },
        {
          "name": "stderr",
          "output_type": "stream",
          "text": [
            "100%|██████████| 78/78 [00:03<00:00, 19.87it/s]\n"
          ]
        },
        {
          "name": "stdout",
          "output_type": "stream",
          "text": [
            "epoch: 365\n",
            "loss: 0.007097389466556099\n",
            "accuracy: 0.9974959935897436\n"
          ]
        },
        {
          "name": "stderr",
          "output_type": "stream",
          "text": [
            "100%|██████████| 78/78 [00:03<00:00, 20.32it/s]\n"
          ]
        },
        {
          "name": "stdout",
          "output_type": "stream",
          "text": [
            "epoch: 366\n",
            "loss: 0.005533445079867632\n",
            "accuracy: 0.9983974358974359\n"
          ]
        },
        {
          "name": "stderr",
          "output_type": "stream",
          "text": [
            "100%|██████████| 78/78 [00:03<00:00, 21.23it/s]\n"
          ]
        },
        {
          "name": "stdout",
          "output_type": "stream",
          "text": [
            "epoch: 367\n",
            "loss: 0.0052324234058734225\n",
            "accuracy: 0.9983974358974359\n"
          ]
        },
        {
          "name": "stderr",
          "output_type": "stream",
          "text": [
            "100%|██████████| 78/78 [00:03<00:00, 21.53it/s]\n"
          ]
        },
        {
          "name": "stdout",
          "output_type": "stream",
          "text": [
            "epoch: 368\n",
            "loss: 0.008342848485484958\n",
            "accuracy: 0.9972956730769231\n"
          ]
        },
        {
          "name": "stderr",
          "output_type": "stream",
          "text": [
            "100%|██████████| 78/78 [00:03<00:00, 21.04it/s]\n"
          ]
        },
        {
          "name": "stdout",
          "output_type": "stream",
          "text": [
            "epoch: 369\n",
            "loss: 0.006543412212079438\n",
            "accuracy: 0.9980969551282052\n"
          ]
        },
        {
          "name": "stderr",
          "output_type": "stream",
          "text": [
            "100%|██████████| 78/78 [00:03<00:00, 21.56it/s]\n"
          ]
        },
        {
          "name": "stdout",
          "output_type": "stream",
          "text": [
            "epoch: 370\n",
            "loss: 0.006998238711952208\n",
            "accuracy: 0.9980969551282052\n"
          ]
        },
        {
          "name": "stderr",
          "output_type": "stream",
          "text": [
            "100%|██████████| 78/78 [00:03<00:00, 22.00it/s]\n"
          ]
        },
        {
          "name": "stdout",
          "output_type": "stream",
          "text": [
            "epoch: 371\n",
            "loss: 0.005062853844719939\n",
            "accuracy: 0.9983974358974359\n"
          ]
        },
        {
          "name": "stderr",
          "output_type": "stream",
          "text": [
            "100%|██████████| 78/78 [00:03<00:00, 21.35it/s]\n"
          ]
        },
        {
          "name": "stdout",
          "output_type": "stream",
          "text": [
            "epoch: 372\n",
            "loss: 0.0061603632447002335\n",
            "accuracy: 0.9975961538461539\n"
          ]
        },
        {
          "name": "stderr",
          "output_type": "stream",
          "text": [
            "100%|██████████| 78/78 [00:03<00:00, 21.84it/s]\n"
          ]
        },
        {
          "name": "stdout",
          "output_type": "stream",
          "text": [
            "epoch: 373\n",
            "loss: 0.0070550731089987\n",
            "accuracy: 0.9977964743589743\n"
          ]
        },
        {
          "name": "stderr",
          "output_type": "stream",
          "text": [
            "100%|██████████| 78/78 [00:03<00:00, 21.12it/s]\n"
          ]
        },
        {
          "name": "stdout",
          "output_type": "stream",
          "text": [
            "epoch: 374\n",
            "loss: 0.004951101080410016\n",
            "accuracy: 0.9984975961538461\n"
          ]
        },
        {
          "name": "stderr",
          "output_type": "stream",
          "text": [
            "100%|██████████| 78/78 [00:03<00:00, 21.77it/s]\n"
          ]
        },
        {
          "name": "stdout",
          "output_type": "stream",
          "text": [
            "epoch: 375\n",
            "loss: 0.00639014908460339\n",
            "accuracy: 0.9978966346153846\n"
          ]
        },
        {
          "name": "stderr",
          "output_type": "stream",
          "text": [
            "100%|██████████| 78/78 [00:03<00:00, 22.09it/s]\n"
          ]
        },
        {
          "name": "stdout",
          "output_type": "stream",
          "text": [
            "epoch: 376\n",
            "loss: 0.006306672510571587\n",
            "accuracy: 0.9978966346153846\n"
          ]
        },
        {
          "name": "stderr",
          "output_type": "stream",
          "text": [
            "100%|██████████| 78/78 [00:03<00:00, 21.58it/s]\n"
          ]
        },
        {
          "name": "stdout",
          "output_type": "stream",
          "text": [
            "epoch: 377\n",
            "loss: 0.0051664288557964405\n",
            "accuracy: 0.9986979166666666\n"
          ]
        },
        {
          "name": "stderr",
          "output_type": "stream",
          "text": [
            "100%|██████████| 78/78 [00:03<00:00, 20.67it/s]\n"
          ]
        },
        {
          "name": "stdout",
          "output_type": "stream",
          "text": [
            "epoch: 378\n",
            "loss: 0.006342151360093759\n",
            "accuracy: 0.9976963141025641\n"
          ]
        },
        {
          "name": "stderr",
          "output_type": "stream",
          "text": [
            "100%|██████████| 78/78 [00:03<00:00, 20.98it/s]\n"
          ]
        },
        {
          "name": "stdout",
          "output_type": "stream",
          "text": [
            "epoch: 379\n",
            "loss: 0.0064776512112868475\n",
            "accuracy: 0.9979967948717948\n"
          ]
        },
        {
          "name": "stderr",
          "output_type": "stream",
          "text": [
            "100%|██████████| 78/78 [00:04<00:00, 19.30it/s]\n"
          ]
        },
        {
          "name": "stdout",
          "output_type": "stream",
          "text": [
            "epoch: 380\n",
            "loss: 0.00786052877046108\n",
            "accuracy: 0.9970953525641025\n"
          ]
        },
        {
          "name": "stderr",
          "output_type": "stream",
          "text": [
            "100%|██████████| 78/78 [00:04<00:00, 18.23it/s]\n"
          ]
        },
        {
          "name": "stdout",
          "output_type": "stream",
          "text": [
            "epoch: 381\n",
            "loss: 0.005544737654884393\n",
            "accuracy: 0.9984975961538461\n"
          ]
        },
        {
          "name": "stderr",
          "output_type": "stream",
          "text": [
            "100%|██████████| 78/78 [00:04<00:00, 17.32it/s]\n"
          ]
        },
        {
          "name": "stdout",
          "output_type": "stream",
          "text": [
            "epoch: 382\n",
            "loss: 0.006402952168196536\n",
            "accuracy: 0.9976963141025641\n"
          ]
        },
        {
          "name": "stderr",
          "output_type": "stream",
          "text": [
            "100%|██████████| 78/78 [00:04<00:00, 18.33it/s]\n"
          ]
        },
        {
          "name": "stdout",
          "output_type": "stream",
          "text": [
            "epoch: 383\n",
            "loss: 0.005728584263497629\n",
            "accuracy: 0.9986979166666666\n"
          ]
        },
        {
          "name": "stderr",
          "output_type": "stream",
          "text": [
            "100%|██████████| 78/78 [00:04<00:00, 19.07it/s]\n"
          ]
        },
        {
          "name": "stdout",
          "output_type": "stream",
          "text": [
            "epoch: 384\n",
            "loss: 0.006154071233303955\n",
            "accuracy: 0.9977964743589743\n"
          ]
        },
        {
          "name": "stderr",
          "output_type": "stream",
          "text": [
            "100%|██████████| 78/78 [00:04<00:00, 16.70it/s]\n"
          ]
        },
        {
          "name": "stdout",
          "output_type": "stream",
          "text": [
            "epoch: 385\n",
            "loss: 0.00653052248489052\n",
            "accuracy: 0.9977964743589743\n"
          ]
        },
        {
          "name": "stderr",
          "output_type": "stream",
          "text": [
            "100%|██████████| 78/78 [00:04<00:00, 18.08it/s]\n"
          ]
        },
        {
          "name": "stdout",
          "output_type": "stream",
          "text": [
            "epoch: 386\n",
            "loss: 0.0052242852892586365\n",
            "accuracy: 0.9985977564102564\n"
          ]
        },
        {
          "name": "stderr",
          "output_type": "stream",
          "text": [
            "100%|██████████| 78/78 [00:04<00:00, 19.46it/s]\n"
          ]
        },
        {
          "name": "stdout",
          "output_type": "stream",
          "text": [
            "epoch: 387\n",
            "loss: 0.006110921563306011\n",
            "accuracy: 0.9977964743589743\n"
          ]
        },
        {
          "name": "stderr",
          "output_type": "stream",
          "text": [
            "100%|██████████| 78/78 [00:04<00:00, 18.83it/s]\n"
          ]
        },
        {
          "name": "stdout",
          "output_type": "stream",
          "text": [
            "epoch: 388\n",
            "loss: 0.004566400749190973\n",
            "accuracy: 0.9985977564102564\n"
          ]
        },
        {
          "name": "stderr",
          "output_type": "stream",
          "text": [
            "100%|██████████| 78/78 [00:03<00:00, 21.03it/s]\n"
          ]
        },
        {
          "name": "stdout",
          "output_type": "stream",
          "text": [
            "epoch: 389\n",
            "loss: 0.0061701599076443995\n",
            "accuracy: 0.9980969551282052\n"
          ]
        },
        {
          "name": "stderr",
          "output_type": "stream",
          "text": [
            "100%|██████████| 78/78 [00:03<00:00, 20.62it/s]\n"
          ]
        },
        {
          "name": "stdout",
          "output_type": "stream",
          "text": [
            "epoch: 390\n",
            "loss: 0.01210140695464081\n",
            "accuracy: 0.9963942307692307\n"
          ]
        },
        {
          "name": "stderr",
          "output_type": "stream",
          "text": [
            "100%|██████████| 78/78 [00:03<00:00, 21.44it/s]\n"
          ]
        },
        {
          "name": "stdout",
          "output_type": "stream",
          "text": [
            "epoch: 391\n",
            "loss: 0.006914908714884988\n",
            "accuracy: 0.9977964743589743\n"
          ]
        },
        {
          "name": "stderr",
          "output_type": "stream",
          "text": [
            "100%|██████████| 78/78 [00:03<00:00, 21.24it/s]\n"
          ]
        },
        {
          "name": "stdout",
          "output_type": "stream",
          "text": [
            "epoch: 392\n",
            "loss: 0.004766203128570058\n",
            "accuracy: 0.9987980769230769\n"
          ]
        },
        {
          "name": "stderr",
          "output_type": "stream",
          "text": [
            "100%|██████████| 78/78 [00:03<00:00, 20.90it/s]\n"
          ]
        },
        {
          "name": "stdout",
          "output_type": "stream",
          "text": [
            "epoch: 393\n",
            "loss: 0.0059278449114525495\n",
            "accuracy: 0.9984975961538461\n"
          ]
        },
        {
          "name": "stderr",
          "output_type": "stream",
          "text": [
            "100%|██████████| 78/78 [00:04<00:00, 19.18it/s]\n"
          ]
        },
        {
          "name": "stdout",
          "output_type": "stream",
          "text": [
            "epoch: 394\n",
            "loss: 0.005164657011613226\n",
            "accuracy: 0.9984975961538461\n"
          ]
        },
        {
          "name": "stderr",
          "output_type": "stream",
          "text": [
            "100%|██████████| 78/78 [00:03<00:00, 19.90it/s]\n"
          ]
        },
        {
          "name": "stdout",
          "output_type": "stream",
          "text": [
            "epoch: 395\n",
            "loss: 0.00867679016216873\n",
            "accuracy: 0.9966947115384616\n"
          ]
        },
        {
          "name": "stderr",
          "output_type": "stream",
          "text": [
            "100%|██████████| 78/78 [00:03<00:00, 20.74it/s]\n"
          ]
        },
        {
          "name": "stdout",
          "output_type": "stream",
          "text": [
            "epoch: 396\n",
            "loss: 0.005327463473524683\n",
            "accuracy: 0.9983974358974359\n"
          ]
        },
        {
          "name": "stderr",
          "output_type": "stream",
          "text": [
            "100%|██████████| 78/78 [00:03<00:00, 21.49it/s]\n"
          ]
        },
        {
          "name": "stdout",
          "output_type": "stream",
          "text": [
            "epoch: 397\n",
            "loss: 0.006192443640126537\n",
            "accuracy: 0.9983974358974359\n"
          ]
        },
        {
          "name": "stderr",
          "output_type": "stream",
          "text": [
            "100%|██████████| 78/78 [00:03<00:00, 21.66it/s]\n"
          ]
        },
        {
          "name": "stdout",
          "output_type": "stream",
          "text": [
            "epoch: 398\n",
            "loss: 0.007534695286244058\n",
            "accuracy: 0.9971955128205128\n"
          ]
        },
        {
          "name": "stderr",
          "output_type": "stream",
          "text": [
            "100%|██████████| 78/78 [00:03<00:00, 21.73it/s]\n"
          ]
        },
        {
          "name": "stdout",
          "output_type": "stream",
          "text": [
            "epoch: 399\n",
            "loss: 0.006079139602475035\n",
            "accuracy: 0.9979967948717948\n"
          ]
        },
        {
          "name": "stderr",
          "output_type": "stream",
          "text": [
            "100%|██████████| 78/78 [00:03<00:00, 21.91it/s]\n"
          ]
        },
        {
          "name": "stdout",
          "output_type": "stream",
          "text": [
            "epoch: 400\n",
            "loss: 0.008208395443850746\n",
            "accuracy: 0.9973958333333334\n"
          ]
        },
        {
          "name": "stderr",
          "output_type": "stream",
          "text": [
            "100%|██████████| 78/78 [00:03<00:00, 21.73it/s]\n"
          ]
        },
        {
          "name": "stdout",
          "output_type": "stream",
          "text": [
            "epoch: 401\n",
            "loss: 0.007523085314553613\n",
            "accuracy: 0.9976963141025641\n"
          ]
        },
        {
          "name": "stderr",
          "output_type": "stream",
          "text": [
            "100%|██████████| 78/78 [00:03<00:00, 21.67it/s]\n"
          ]
        },
        {
          "name": "stdout",
          "output_type": "stream",
          "text": [
            "epoch: 402\n",
            "loss: 0.005986864652069739\n",
            "accuracy: 0.9977964743589743\n"
          ]
        },
        {
          "name": "stderr",
          "output_type": "stream",
          "text": [
            "100%|██████████| 78/78 [00:03<00:00, 21.48it/s]\n"
          ]
        },
        {
          "name": "stdout",
          "output_type": "stream",
          "text": [
            "epoch: 403\n",
            "loss: 0.005321448221459435\n",
            "accuracy: 0.9980969551282052\n"
          ]
        },
        {
          "name": "stderr",
          "output_type": "stream",
          "text": [
            "100%|██████████| 78/78 [00:03<00:00, 21.61it/s]\n"
          ]
        },
        {
          "name": "stdout",
          "output_type": "stream",
          "text": [
            "epoch: 404\n",
            "loss: 0.006234200154162513\n",
            "accuracy: 0.9983974358974359\n"
          ]
        },
        {
          "name": "stderr",
          "output_type": "stream",
          "text": [
            "100%|██████████| 78/78 [00:03<00:00, 21.70it/s]\n"
          ]
        },
        {
          "name": "stdout",
          "output_type": "stream",
          "text": [
            "epoch: 405\n",
            "loss: 0.004655495208004514\n",
            "accuracy: 0.9986979166666666\n"
          ]
        },
        {
          "name": "stderr",
          "output_type": "stream",
          "text": [
            "100%|██████████| 78/78 [00:03<00:00, 21.69it/s]\n"
          ]
        },
        {
          "name": "stdout",
          "output_type": "stream",
          "text": [
            "epoch: 406\n",
            "loss: 0.0047765438848261675\n",
            "accuracy: 0.9985977564102564\n"
          ]
        },
        {
          "name": "stderr",
          "output_type": "stream",
          "text": [
            "100%|██████████| 78/78 [00:03<00:00, 21.73it/s]\n"
          ]
        },
        {
          "name": "stdout",
          "output_type": "stream",
          "text": [
            "epoch: 407\n",
            "loss: 0.007331591146514536\n",
            "accuracy: 0.9972956730769231\n"
          ]
        },
        {
          "name": "stderr",
          "output_type": "stream",
          "text": [
            "100%|██████████| 78/78 [00:03<00:00, 22.02it/s]\n"
          ]
        },
        {
          "name": "stdout",
          "output_type": "stream",
          "text": [
            "epoch: 408\n",
            "loss: 0.004937609203737408\n",
            "accuracy: 0.9982972756410257\n"
          ]
        },
        {
          "name": "stderr",
          "output_type": "stream",
          "text": [
            "100%|██████████| 78/78 [00:03<00:00, 21.40it/s]\n"
          ]
        },
        {
          "name": "stdout",
          "output_type": "stream",
          "text": [
            "epoch: 409\n",
            "loss: 0.00831943236568268\n",
            "accuracy: 0.9972956730769231\n"
          ]
        },
        {
          "name": "stderr",
          "output_type": "stream",
          "text": [
            "100%|██████████| 78/78 [00:03<00:00, 21.93it/s]\n"
          ]
        },
        {
          "name": "stdout",
          "output_type": "stream",
          "text": [
            "epoch: 410\n",
            "loss: 0.004366328046158649\n",
            "accuracy: 0.9989983974358975\n"
          ]
        },
        {
          "name": "stderr",
          "output_type": "stream",
          "text": [
            "100%|██████████| 78/78 [00:03<00:00, 21.73it/s]\n"
          ]
        },
        {
          "name": "stdout",
          "output_type": "stream",
          "text": [
            "epoch: 411\n",
            "loss: 0.006309618923413114\n",
            "accuracy: 0.9978966346153846\n"
          ]
        },
        {
          "name": "stderr",
          "output_type": "stream",
          "text": [
            "100%|██████████| 78/78 [00:03<00:00, 21.70it/s]\n"
          ]
        },
        {
          "name": "stdout",
          "output_type": "stream",
          "text": [
            "epoch: 412\n",
            "loss: 0.004501808400397213\n",
            "accuracy: 0.9987980769230769\n"
          ]
        },
        {
          "name": "stderr",
          "output_type": "stream",
          "text": [
            "100%|██████████| 78/78 [00:03<00:00, 21.77it/s]\n"
          ]
        },
        {
          "name": "stdout",
          "output_type": "stream",
          "text": [
            "epoch: 413\n",
            "loss: 0.005921163416739243\n",
            "accuracy: 0.9979967948717948\n"
          ]
        },
        {
          "name": "stderr",
          "output_type": "stream",
          "text": [
            "100%|██████████| 78/78 [00:03<00:00, 21.33it/s]\n"
          ]
        },
        {
          "name": "stdout",
          "output_type": "stream",
          "text": [
            "epoch: 414\n",
            "loss: 0.005518503346441624\n",
            "accuracy: 0.9979967948717948\n"
          ]
        },
        {
          "name": "stderr",
          "output_type": "stream",
          "text": [
            "100%|██████████| 78/78 [00:03<00:00, 22.00it/s]\n"
          ]
        },
        {
          "name": "stdout",
          "output_type": "stream",
          "text": [
            "epoch: 415\n",
            "loss: 0.006199815479563908\n",
            "accuracy: 0.9984975961538461\n"
          ]
        },
        {
          "name": "stderr",
          "output_type": "stream",
          "text": [
            "100%|██████████| 78/78 [00:03<00:00, 21.88it/s]\n"
          ]
        },
        {
          "name": "stdout",
          "output_type": "stream",
          "text": [
            "epoch: 416\n",
            "loss: 0.0064926681710251915\n",
            "accuracy: 0.9976963141025641\n"
          ]
        },
        {
          "name": "stderr",
          "output_type": "stream",
          "text": [
            "100%|██████████| 78/78 [00:03<00:00, 19.89it/s]\n"
          ]
        },
        {
          "name": "stdout",
          "output_type": "stream",
          "text": [
            "epoch: 417\n",
            "loss: 0.006735731639753048\n",
            "accuracy: 0.9975961538461539\n"
          ]
        },
        {
          "name": "stderr",
          "output_type": "stream",
          "text": [
            "100%|██████████| 78/78 [00:05<00:00, 13.17it/s]\n"
          ]
        },
        {
          "name": "stdout",
          "output_type": "stream",
          "text": [
            "epoch: 418\n",
            "loss: 0.005862368953202326\n",
            "accuracy: 0.9977964743589743\n"
          ]
        },
        {
          "name": "stderr",
          "output_type": "stream",
          "text": [
            "100%|██████████| 78/78 [00:03<00:00, 20.89it/s]\n"
          ]
        },
        {
          "name": "stdout",
          "output_type": "stream",
          "text": [
            "epoch: 419\n",
            "loss: 0.005276487355914492\n",
            "accuracy: 0.9983974358974359\n"
          ]
        },
        {
          "name": "stderr",
          "output_type": "stream",
          "text": [
            "100%|██████████| 78/78 [00:07<00:00, 11.05it/s]\n"
          ]
        },
        {
          "name": "stdout",
          "output_type": "stream",
          "text": [
            "epoch: 420\n",
            "loss: 0.004870584585333768\n",
            "accuracy: 0.9984975961538461\n"
          ]
        },
        {
          "name": "stderr",
          "output_type": "stream",
          "text": [
            "100%|██████████| 78/78 [00:03<00:00, 20.72it/s]\n"
          ]
        },
        {
          "name": "stdout",
          "output_type": "stream",
          "text": [
            "epoch: 421\n",
            "loss: 0.005273519855482169\n",
            "accuracy: 0.9980969551282052\n"
          ]
        },
        {
          "name": "stderr",
          "output_type": "stream",
          "text": [
            "100%|██████████| 78/78 [00:03<00:00, 21.55it/s]\n"
          ]
        },
        {
          "name": "stdout",
          "output_type": "stream",
          "text": [
            "epoch: 422\n",
            "loss: 0.005822974454368262\n",
            "accuracy: 0.9980969551282052\n"
          ]
        },
        {
          "name": "stderr",
          "output_type": "stream",
          "text": [
            "100%|██████████| 78/78 [00:04<00:00, 17.43it/s]\n"
          ]
        },
        {
          "name": "stdout",
          "output_type": "stream",
          "text": [
            "epoch: 423\n",
            "loss: 0.004793115493390733\n",
            "accuracy: 0.9985977564102564\n"
          ]
        },
        {
          "name": "stderr",
          "output_type": "stream",
          "text": [
            "100%|██████████| 78/78 [00:03<00:00, 21.16it/s]\n"
          ]
        },
        {
          "name": "stdout",
          "output_type": "stream",
          "text": [
            "epoch: 424\n",
            "loss: 0.0067072161805416\n",
            "accuracy: 0.9975961538461539\n"
          ]
        },
        {
          "name": "stderr",
          "output_type": "stream",
          "text": [
            "100%|██████████| 78/78 [00:03<00:00, 21.68it/s]\n"
          ]
        },
        {
          "name": "stdout",
          "output_type": "stream",
          "text": [
            "epoch: 425\n",
            "loss: 0.005646459299523252\n",
            "accuracy: 0.9982972756410257\n"
          ]
        },
        {
          "name": "stderr",
          "output_type": "stream",
          "text": [
            "100%|██████████| 78/78 [00:03<00:00, 19.84it/s]\n"
          ]
        },
        {
          "name": "stdout",
          "output_type": "stream",
          "text": [
            "epoch: 426\n",
            "loss: 0.00580091424284873\n",
            "accuracy: 0.9979967948717948\n"
          ]
        },
        {
          "name": "stderr",
          "output_type": "stream",
          "text": [
            "100%|██████████| 78/78 [00:03<00:00, 19.74it/s]\n"
          ]
        },
        {
          "name": "stdout",
          "output_type": "stream",
          "text": [
            "epoch: 427\n",
            "loss: 0.006571136310902568\n",
            "accuracy: 0.9978966346153846\n"
          ]
        },
        {
          "name": "stderr",
          "output_type": "stream",
          "text": [
            "100%|██████████| 78/78 [00:04<00:00, 18.03it/s]\n"
          ]
        },
        {
          "name": "stdout",
          "output_type": "stream",
          "text": [
            "epoch: 428\n",
            "loss: 0.006160617907134553\n",
            "accuracy: 0.9980969551282052\n"
          ]
        },
        {
          "name": "stderr",
          "output_type": "stream",
          "text": [
            "100%|██████████| 78/78 [00:04<00:00, 16.97it/s]\n"
          ]
        },
        {
          "name": "stdout",
          "output_type": "stream",
          "text": [
            "epoch: 429\n",
            "loss: 0.008024265819142621\n",
            "accuracy: 0.9972956730769231\n"
          ]
        },
        {
          "name": "stderr",
          "output_type": "stream",
          "text": [
            "100%|██████████| 78/78 [00:04<00:00, 18.25it/s]\n"
          ]
        },
        {
          "name": "stdout",
          "output_type": "stream",
          "text": [
            "epoch: 430\n",
            "loss: 0.004632242334385713\n",
            "accuracy: 0.9984975961538461\n"
          ]
        },
        {
          "name": "stderr",
          "output_type": "stream",
          "text": [
            "100%|██████████| 78/78 [00:03<00:00, 19.97it/s]\n"
          ]
        },
        {
          "name": "stdout",
          "output_type": "stream",
          "text": [
            "epoch: 431\n",
            "loss: 0.004672208609125123\n",
            "accuracy: 0.9986979166666666\n"
          ]
        },
        {
          "name": "stderr",
          "output_type": "stream",
          "text": [
            "100%|██████████| 78/78 [00:03<00:00, 20.34it/s]\n"
          ]
        },
        {
          "name": "stdout",
          "output_type": "stream",
          "text": [
            "epoch: 432\n",
            "loss: 0.007144656665891839\n",
            "accuracy: 0.9977964743589743\n"
          ]
        },
        {
          "name": "stderr",
          "output_type": "stream",
          "text": [
            "100%|██████████| 78/78 [00:03<00:00, 21.33it/s]\n"
          ]
        },
        {
          "name": "stdout",
          "output_type": "stream",
          "text": [
            "epoch: 433\n",
            "loss: 0.005448488419344171\n",
            "accuracy: 0.9981971153846154\n"
          ]
        },
        {
          "name": "stderr",
          "output_type": "stream",
          "text": [
            "100%|██████████| 78/78 [00:03<00:00, 20.63it/s]\n"
          ]
        },
        {
          "name": "stdout",
          "output_type": "stream",
          "text": [
            "epoch: 434\n",
            "loss: 0.005319628859489547\n",
            "accuracy: 0.9981971153846154\n"
          ]
        },
        {
          "name": "stderr",
          "output_type": "stream",
          "text": [
            "100%|██████████| 78/78 [00:04<00:00, 19.27it/s]\n"
          ]
        },
        {
          "name": "stdout",
          "output_type": "stream",
          "text": [
            "epoch: 435\n",
            "loss: 0.007216300290168967\n",
            "accuracy: 0.9974959935897436\n"
          ]
        },
        {
          "name": "stderr",
          "output_type": "stream",
          "text": [
            "100%|██████████| 78/78 [00:03<00:00, 20.25it/s]\n"
          ]
        },
        {
          "name": "stdout",
          "output_type": "stream",
          "text": [
            "epoch: 436\n",
            "loss: 0.006429495899609696\n",
            "accuracy: 0.9980969551282052\n"
          ]
        },
        {
          "name": "stderr",
          "output_type": "stream",
          "text": [
            "100%|██████████| 78/78 [00:03<00:00, 21.35it/s]\n"
          ]
        },
        {
          "name": "stdout",
          "output_type": "stream",
          "text": [
            "epoch: 437\n",
            "loss: 0.006512650030065113\n",
            "accuracy: 0.9978966346153846\n"
          ]
        },
        {
          "name": "stderr",
          "output_type": "stream",
          "text": [
            "100%|██████████| 78/78 [00:03<00:00, 21.23it/s]\n"
          ]
        },
        {
          "name": "stdout",
          "output_type": "stream",
          "text": [
            "epoch: 438\n",
            "loss: 0.003617961659657363\n",
            "accuracy: 0.9993990384615384\n"
          ]
        },
        {
          "name": "stderr",
          "output_type": "stream",
          "text": [
            "100%|██████████| 78/78 [00:03<00:00, 21.21it/s]\n"
          ]
        },
        {
          "name": "stdout",
          "output_type": "stream",
          "text": [
            "epoch: 439\n",
            "loss: 0.005724585833004079\n",
            "accuracy: 0.9982972756410257\n"
          ]
        },
        {
          "name": "stderr",
          "output_type": "stream",
          "text": [
            "100%|██████████| 78/78 [00:03<00:00, 21.73it/s]\n"
          ]
        },
        {
          "name": "stdout",
          "output_type": "stream",
          "text": [
            "epoch: 440\n",
            "loss: 0.006611606646821691\n",
            "accuracy: 0.9977964743589743\n"
          ]
        },
        {
          "name": "stderr",
          "output_type": "stream",
          "text": [
            "100%|██████████| 78/78 [00:03<00:00, 20.98it/s]\n"
          ]
        },
        {
          "name": "stdout",
          "output_type": "stream",
          "text": [
            "epoch: 441\n",
            "loss: 0.004583214871206273\n",
            "accuracy: 0.9989983974358975\n"
          ]
        },
        {
          "name": "stderr",
          "output_type": "stream",
          "text": [
            "100%|██████████| 78/78 [00:03<00:00, 21.13it/s]\n"
          ]
        },
        {
          "name": "stdout",
          "output_type": "stream",
          "text": [
            "epoch: 442\n",
            "loss: 0.005480308500596155\n",
            "accuracy: 0.9985977564102564\n"
          ]
        },
        {
          "name": "stderr",
          "output_type": "stream",
          "text": [
            "100%|██████████| 78/78 [00:03<00:00, 21.75it/s]\n"
          ]
        },
        {
          "name": "stdout",
          "output_type": "stream",
          "text": [
            "epoch: 443\n",
            "loss: 0.006727533151906055\n",
            "accuracy: 0.9975961538461539\n"
          ]
        },
        {
          "name": "stderr",
          "output_type": "stream",
          "text": [
            "100%|██████████| 78/78 [00:03<00:00, 21.58it/s]\n"
          ]
        },
        {
          "name": "stdout",
          "output_type": "stream",
          "text": [
            "epoch: 444\n",
            "loss: 0.006557851412649959\n",
            "accuracy: 0.9975961538461539\n"
          ]
        },
        {
          "name": "stderr",
          "output_type": "stream",
          "text": [
            "100%|██████████| 78/78 [00:03<00:00, 21.31it/s]\n"
          ]
        },
        {
          "name": "stdout",
          "output_type": "stream",
          "text": [
            "epoch: 445\n",
            "loss: 0.005891409913788383\n",
            "accuracy: 0.9982972756410257\n"
          ]
        },
        {
          "name": "stderr",
          "output_type": "stream",
          "text": [
            "100%|██████████| 78/78 [00:03<00:00, 21.47it/s]\n"
          ]
        },
        {
          "name": "stdout",
          "output_type": "stream",
          "text": [
            "epoch: 446\n",
            "loss: 0.005010898310828429\n",
            "accuracy: 0.9984975961538461\n"
          ]
        },
        {
          "name": "stderr",
          "output_type": "stream",
          "text": [
            "100%|██████████| 78/78 [00:03<00:00, 21.45it/s]\n"
          ]
        },
        {
          "name": "stdout",
          "output_type": "stream",
          "text": [
            "epoch: 447\n",
            "loss: 0.005832261412601488\n",
            "accuracy: 0.9981971153846154\n"
          ]
        },
        {
          "name": "stderr",
          "output_type": "stream",
          "text": [
            "100%|██████████| 78/78 [00:03<00:00, 21.04it/s]\n"
          ]
        },
        {
          "name": "stdout",
          "output_type": "stream",
          "text": [
            "epoch: 448\n",
            "loss: 0.005923454237628716\n",
            "accuracy: 0.9982972756410257\n"
          ]
        },
        {
          "name": "stderr",
          "output_type": "stream",
          "text": [
            "100%|██████████| 78/78 [00:03<00:00, 21.52it/s]\n"
          ]
        },
        {
          "name": "stdout",
          "output_type": "stream",
          "text": [
            "epoch: 449\n",
            "loss: 0.005504859244982258\n",
            "accuracy: 0.9981971153846154\n"
          ]
        },
        {
          "name": "stderr",
          "output_type": "stream",
          "text": [
            "100%|██████████| 78/78 [00:03<00:00, 21.48it/s]\n"
          ]
        },
        {
          "name": "stdout",
          "output_type": "stream",
          "text": [
            "epoch: 450\n",
            "loss: 0.008630916480354082\n",
            "accuracy: 0.9977964743589743\n"
          ]
        },
        {
          "name": "stderr",
          "output_type": "stream",
          "text": [
            "100%|██████████| 78/78 [00:03<00:00, 21.33it/s]\n"
          ]
        },
        {
          "name": "stdout",
          "output_type": "stream",
          "text": [
            "epoch: 451\n",
            "loss: 0.004223518186615995\n",
            "accuracy: 0.9987980769230769\n"
          ]
        },
        {
          "name": "stderr",
          "output_type": "stream",
          "text": [
            "100%|██████████| 78/78 [00:03<00:00, 21.33it/s]\n"
          ]
        },
        {
          "name": "stdout",
          "output_type": "stream",
          "text": [
            "epoch: 452\n",
            "loss: 0.0067513100064108865\n",
            "accuracy: 0.9979967948717948\n"
          ]
        },
        {
          "name": "stderr",
          "output_type": "stream",
          "text": [
            "100%|██████████| 78/78 [00:03<00:00, 20.17it/s]\n"
          ]
        },
        {
          "name": "stdout",
          "output_type": "stream",
          "text": [
            "epoch: 453\n",
            "loss: 0.005755955418676305\n",
            "accuracy: 0.9980969551282052\n"
          ]
        },
        {
          "name": "stderr",
          "output_type": "stream",
          "text": [
            "100%|██████████| 78/78 [00:03<00:00, 21.45it/s]\n"
          ]
        },
        {
          "name": "stdout",
          "output_type": "stream",
          "text": [
            "epoch: 454\n",
            "loss: 0.0056510607667941935\n",
            "accuracy: 0.9977964743589743\n"
          ]
        },
        {
          "name": "stderr",
          "output_type": "stream",
          "text": [
            "100%|██████████| 78/78 [00:03<00:00, 21.44it/s]\n"
          ]
        },
        {
          "name": "stdout",
          "output_type": "stream",
          "text": [
            "epoch: 455\n",
            "loss: 0.006610182988552902\n",
            "accuracy: 0.9978966346153846\n"
          ]
        },
        {
          "name": "stderr",
          "output_type": "stream",
          "text": [
            "100%|██████████| 78/78 [00:03<00:00, 21.45it/s]\n"
          ]
        },
        {
          "name": "stdout",
          "output_type": "stream",
          "text": [
            "epoch: 456\n",
            "loss: 0.0063807953056545024\n",
            "accuracy: 0.9978966346153846\n"
          ]
        },
        {
          "name": "stderr",
          "output_type": "stream",
          "text": [
            "100%|██████████| 78/78 [00:03<00:00, 21.40it/s]\n"
          ]
        },
        {
          "name": "stdout",
          "output_type": "stream",
          "text": [
            "epoch: 457\n",
            "loss: 0.006357034822427429\n",
            "accuracy: 0.9976963141025641\n"
          ]
        },
        {
          "name": "stderr",
          "output_type": "stream",
          "text": [
            "100%|██████████| 78/78 [00:03<00:00, 21.64it/s]\n"
          ]
        },
        {
          "name": "stdout",
          "output_type": "stream",
          "text": [
            "epoch: 458\n",
            "loss: 0.00865260144965783\n",
            "accuracy: 0.9971955128205128\n"
          ]
        },
        {
          "name": "stderr",
          "output_type": "stream",
          "text": [
            "100%|██████████| 78/78 [00:03<00:00, 21.51it/s]\n"
          ]
        },
        {
          "name": "stdout",
          "output_type": "stream",
          "text": [
            "epoch: 459\n",
            "loss: 0.006524568785187932\n",
            "accuracy: 0.9978966346153846\n"
          ]
        },
        {
          "name": "stderr",
          "output_type": "stream",
          "text": [
            "100%|██████████| 78/78 [00:03<00:00, 21.43it/s]\n"
          ]
        },
        {
          "name": "stdout",
          "output_type": "stream",
          "text": [
            "epoch: 460\n",
            "loss: 0.005330831466171031\n",
            "accuracy: 0.9985977564102564\n"
          ]
        },
        {
          "name": "stderr",
          "output_type": "stream",
          "text": [
            "100%|██████████| 78/78 [00:03<00:00, 21.25it/s]\n"
          ]
        },
        {
          "name": "stdout",
          "output_type": "stream",
          "text": [
            "epoch: 461\n",
            "loss: 0.006153339140627605\n",
            "accuracy: 0.9979967948717948\n"
          ]
        },
        {
          "name": "stderr",
          "output_type": "stream",
          "text": [
            "100%|██████████| 78/78 [00:03<00:00, 21.32it/s]\n"
          ]
        },
        {
          "name": "stdout",
          "output_type": "stream",
          "text": [
            "epoch: 462\n",
            "loss: 0.005494133824145255\n",
            "accuracy: 0.9983974358974359\n"
          ]
        },
        {
          "name": "stderr",
          "output_type": "stream",
          "text": [
            "100%|██████████| 78/78 [00:03<00:00, 21.29it/s]\n"
          ]
        },
        {
          "name": "stdout",
          "output_type": "stream",
          "text": [
            "epoch: 463\n",
            "loss: 0.007813098511318319\n",
            "accuracy: 0.9974959935897436\n"
          ]
        },
        {
          "name": "stderr",
          "output_type": "stream",
          "text": [
            "100%|██████████| 78/78 [00:03<00:00, 21.59it/s]\n"
          ]
        },
        {
          "name": "stdout",
          "output_type": "stream",
          "text": [
            "epoch: 464\n",
            "loss: 0.00555291588721164\n",
            "accuracy: 0.9982972756410257\n"
          ]
        },
        {
          "name": "stderr",
          "output_type": "stream",
          "text": [
            "100%|██████████| 78/78 [00:03<00:00, 21.17it/s]\n"
          ]
        },
        {
          "name": "stdout",
          "output_type": "stream",
          "text": [
            "epoch: 465\n",
            "loss: 0.0062129177841154905\n",
            "accuracy: 0.9978966346153846\n"
          ]
        },
        {
          "name": "stderr",
          "output_type": "stream",
          "text": [
            "100%|██████████| 78/78 [00:03<00:00, 21.57it/s]\n"
          ]
        },
        {
          "name": "stdout",
          "output_type": "stream",
          "text": [
            "epoch: 466\n",
            "loss: 0.005311561049893498\n",
            "accuracy: 0.9983974358974359\n"
          ]
        },
        {
          "name": "stderr",
          "output_type": "stream",
          "text": [
            "100%|██████████| 78/78 [00:03<00:00, 21.21it/s]\n"
          ]
        },
        {
          "name": "stdout",
          "output_type": "stream",
          "text": [
            "epoch: 467\n",
            "loss: 0.00630576283378431\n",
            "accuracy: 0.9982972756410257\n"
          ]
        },
        {
          "name": "stderr",
          "output_type": "stream",
          "text": [
            "100%|██████████| 78/78 [00:03<00:00, 21.41it/s]\n"
          ]
        },
        {
          "name": "stdout",
          "output_type": "stream",
          "text": [
            "epoch: 468\n",
            "loss: 0.005159206154460732\n",
            "accuracy: 0.9983974358974359\n"
          ]
        },
        {
          "name": "stderr",
          "output_type": "stream",
          "text": [
            "100%|██████████| 78/78 [00:03<00:00, 21.17it/s]\n"
          ]
        },
        {
          "name": "stdout",
          "output_type": "stream",
          "text": [
            "epoch: 469\n",
            "loss: 0.005498871229624806\n",
            "accuracy: 0.9985977564102564\n"
          ]
        },
        {
          "name": "stderr",
          "output_type": "stream",
          "text": [
            "100%|██████████| 78/78 [00:03<00:00, 21.02it/s]\n"
          ]
        },
        {
          "name": "stdout",
          "output_type": "stream",
          "text": [
            "epoch: 470\n",
            "loss: 0.010312381306273611\n",
            "accuracy: 0.9962940705128205\n"
          ]
        },
        {
          "name": "stderr",
          "output_type": "stream",
          "text": [
            "100%|██████████| 78/78 [00:03<00:00, 20.96it/s]\n"
          ]
        },
        {
          "name": "stdout",
          "output_type": "stream",
          "text": [
            "epoch: 471\n",
            "loss: 0.010186573479679795\n",
            "accuracy: 0.9966947115384616\n"
          ]
        },
        {
          "name": "stderr",
          "output_type": "stream",
          "text": [
            "100%|██████████| 78/78 [00:03<00:00, 21.45it/s]\n"
          ]
        },
        {
          "name": "stdout",
          "output_type": "stream",
          "text": [
            "epoch: 472\n",
            "loss: 0.006901582361584028\n",
            "accuracy: 0.9977964743589743\n"
          ]
        },
        {
          "name": "stderr",
          "output_type": "stream",
          "text": [
            "100%|██████████| 78/78 [00:03<00:00, 21.36it/s]\n"
          ]
        },
        {
          "name": "stdout",
          "output_type": "stream",
          "text": [
            "epoch: 473\n",
            "loss: 0.004641179902626811\n",
            "accuracy: 0.9981971153846154\n"
          ]
        },
        {
          "name": "stderr",
          "output_type": "stream",
          "text": [
            "100%|██████████| 78/78 [00:03<00:00, 21.52it/s]\n"
          ]
        },
        {
          "name": "stdout",
          "output_type": "stream",
          "text": [
            "epoch: 474\n",
            "loss: 0.005700445840305362\n",
            "accuracy: 0.9980969551282052\n"
          ]
        },
        {
          "name": "stderr",
          "output_type": "stream",
          "text": [
            "100%|██████████| 78/78 [00:03<00:00, 20.95it/s]\n"
          ]
        },
        {
          "name": "stdout",
          "output_type": "stream",
          "text": [
            "epoch: 475\n",
            "loss: 0.007241893538052981\n",
            "accuracy: 0.9976963141025641\n"
          ]
        },
        {
          "name": "stderr",
          "output_type": "stream",
          "text": [
            "100%|██████████| 78/78 [00:03<00:00, 21.22it/s]\n"
          ]
        },
        {
          "name": "stdout",
          "output_type": "stream",
          "text": [
            "epoch: 476\n",
            "loss: 0.006560693436767906\n",
            "accuracy: 0.9977964743589743\n"
          ]
        },
        {
          "name": "stderr",
          "output_type": "stream",
          "text": [
            "100%|██████████| 78/78 [00:03<00:00, 21.32it/s]\n"
          ]
        },
        {
          "name": "stdout",
          "output_type": "stream",
          "text": [
            "epoch: 477\n",
            "loss: 0.005825328949588136\n",
            "accuracy: 0.9980969551282052\n"
          ]
        },
        {
          "name": "stderr",
          "output_type": "stream",
          "text": [
            "100%|██████████| 78/78 [00:03<00:00, 21.41it/s]\n"
          ]
        },
        {
          "name": "stdout",
          "output_type": "stream",
          "text": [
            "epoch: 478\n",
            "loss: 0.007935588546388317\n",
            "accuracy: 0.9974959935897436\n"
          ]
        },
        {
          "name": "stderr",
          "output_type": "stream",
          "text": [
            "100%|██████████| 78/78 [00:03<00:00, 21.38it/s]\n"
          ]
        },
        {
          "name": "stdout",
          "output_type": "stream",
          "text": [
            "epoch: 479\n",
            "loss: 0.003619327054296334\n",
            "accuracy: 0.999198717948718\n"
          ]
        },
        {
          "name": "stderr",
          "output_type": "stream",
          "text": [
            "100%|██████████| 78/78 [00:03<00:00, 21.20it/s]\n"
          ]
        },
        {
          "name": "stdout",
          "output_type": "stream",
          "text": [
            "epoch: 480\n",
            "loss: 0.0062621484983724374\n",
            "accuracy: 0.9982972756410257\n"
          ]
        },
        {
          "name": "stderr",
          "output_type": "stream",
          "text": [
            "100%|██████████| 78/78 [00:03<00:00, 21.42it/s]\n"
          ]
        },
        {
          "name": "stdout",
          "output_type": "stream",
          "text": [
            "epoch: 481\n",
            "loss: 0.0057223824495360115\n",
            "accuracy: 0.9984975961538461\n"
          ]
        },
        {
          "name": "stderr",
          "output_type": "stream",
          "text": [
            "100%|██████████| 78/78 [00:03<00:00, 21.32it/s]\n"
          ]
        },
        {
          "name": "stdout",
          "output_type": "stream",
          "text": [
            "epoch: 482\n",
            "loss: 0.00671064131613373\n",
            "accuracy: 0.9972956730769231\n"
          ]
        },
        {
          "name": "stderr",
          "output_type": "stream",
          "text": [
            "100%|██████████| 78/78 [00:03<00:00, 21.04it/s]\n"
          ]
        },
        {
          "name": "stdout",
          "output_type": "stream",
          "text": [
            "epoch: 483\n",
            "loss: 0.006533028925798881\n",
            "accuracy: 0.9979967948717948\n"
          ]
        },
        {
          "name": "stderr",
          "output_type": "stream",
          "text": [
            "100%|██████████| 78/78 [00:03<00:00, 21.02it/s]\n"
          ]
        },
        {
          "name": "stdout",
          "output_type": "stream",
          "text": [
            "epoch: 484\n",
            "loss: 0.006143123564423802\n",
            "accuracy: 0.9978966346153846\n"
          ]
        },
        {
          "name": "stderr",
          "output_type": "stream",
          "text": [
            "100%|██████████| 78/78 [00:03<00:00, 21.05it/s]\n"
          ]
        },
        {
          "name": "stdout",
          "output_type": "stream",
          "text": [
            "epoch: 485\n",
            "loss: 0.00603042424541528\n",
            "accuracy: 0.9977964743589743\n"
          ]
        },
        {
          "name": "stderr",
          "output_type": "stream",
          "text": [
            "100%|██████████| 78/78 [00:03<00:00, 21.32it/s]\n"
          ]
        },
        {
          "name": "stdout",
          "output_type": "stream",
          "text": [
            "epoch: 486\n",
            "loss: 0.0053429185515060686\n",
            "accuracy: 0.9984975961538461\n"
          ]
        },
        {
          "name": "stderr",
          "output_type": "stream",
          "text": [
            "100%|██████████| 78/78 [00:03<00:00, 21.65it/s]\n"
          ]
        },
        {
          "name": "stdout",
          "output_type": "stream",
          "text": [
            "epoch: 487\n",
            "loss: 0.004206223389468132\n",
            "accuracy: 0.9989983974358975\n"
          ]
        },
        {
          "name": "stderr",
          "output_type": "stream",
          "text": [
            "100%|██████████| 78/78 [00:03<00:00, 21.18it/s]\n"
          ]
        },
        {
          "name": "stdout",
          "output_type": "stream",
          "text": [
            "epoch: 488\n",
            "loss: 0.005936086368120204\n",
            "accuracy: 0.9978966346153846\n"
          ]
        },
        {
          "name": "stderr",
          "output_type": "stream",
          "text": [
            "100%|██████████| 78/78 [00:03<00:00, 21.64it/s]\n"
          ]
        },
        {
          "name": "stdout",
          "output_type": "stream",
          "text": [
            "epoch: 489\n",
            "loss: 0.006775609420751257\n",
            "accuracy: 0.9981971153846154\n"
          ]
        },
        {
          "name": "stderr",
          "output_type": "stream",
          "text": [
            "100%|██████████| 78/78 [00:03<00:00, 21.46it/s]\n"
          ]
        },
        {
          "name": "stdout",
          "output_type": "stream",
          "text": [
            "epoch: 490\n",
            "loss: 0.005744550108852892\n",
            "accuracy: 0.9981971153846154\n"
          ]
        },
        {
          "name": "stderr",
          "output_type": "stream",
          "text": [
            "100%|██████████| 78/78 [00:03<00:00, 21.46it/s]\n"
          ]
        },
        {
          "name": "stdout",
          "output_type": "stream",
          "text": [
            "epoch: 491\n",
            "loss: 0.006213926810932417\n",
            "accuracy: 0.9972956730769231\n"
          ]
        },
        {
          "name": "stderr",
          "output_type": "stream",
          "text": [
            "100%|██████████| 78/78 [00:03<00:00, 21.75it/s]\n"
          ]
        },
        {
          "name": "stdout",
          "output_type": "stream",
          "text": [
            "epoch: 492\n",
            "loss: 0.005743209369635831\n",
            "accuracy: 0.9981971153846154\n"
          ]
        },
        {
          "name": "stderr",
          "output_type": "stream",
          "text": [
            "100%|██████████| 78/78 [00:03<00:00, 21.25it/s]\n"
          ]
        },
        {
          "name": "stdout",
          "output_type": "stream",
          "text": [
            "epoch: 493\n",
            "loss: 0.005348970788942937\n",
            "accuracy: 0.9982972756410257\n"
          ]
        },
        {
          "name": "stderr",
          "output_type": "stream",
          "text": [
            "100%|██████████| 78/78 [00:03<00:00, 21.45it/s]\n"
          ]
        },
        {
          "name": "stdout",
          "output_type": "stream",
          "text": [
            "epoch: 494\n",
            "loss: 0.004743874909204001\n",
            "accuracy: 0.9981971153846154\n"
          ]
        },
        {
          "name": "stderr",
          "output_type": "stream",
          "text": [
            "100%|██████████| 78/78 [00:03<00:00, 21.43it/s]\n"
          ]
        },
        {
          "name": "stdout",
          "output_type": "stream",
          "text": [
            "epoch: 495\n",
            "loss: 0.006385897841074695\n",
            "accuracy: 0.9977964743589743\n"
          ]
        },
        {
          "name": "stderr",
          "output_type": "stream",
          "text": [
            "100%|██████████| 78/78 [00:03<00:00, 21.31it/s]\n"
          ]
        },
        {
          "name": "stdout",
          "output_type": "stream",
          "text": [
            "epoch: 496\n",
            "loss: 0.004940415560924567\n",
            "accuracy: 0.9985977564102564\n"
          ]
        },
        {
          "name": "stderr",
          "output_type": "stream",
          "text": [
            "100%|██████████| 78/78 [00:03<00:00, 20.64it/s]\n"
          ]
        },
        {
          "name": "stdout",
          "output_type": "stream",
          "text": [
            "epoch: 497\n",
            "loss: 0.006342761898010325\n",
            "accuracy: 0.9979967948717948\n"
          ]
        },
        {
          "name": "stderr",
          "output_type": "stream",
          "text": [
            "100%|██████████| 78/78 [00:03<00:00, 21.25it/s]\n"
          ]
        },
        {
          "name": "stdout",
          "output_type": "stream",
          "text": [
            "epoch: 498\n",
            "loss: 0.0061316138464742554\n",
            "accuracy: 0.9978966346153846\n"
          ]
        },
        {
          "name": "stderr",
          "output_type": "stream",
          "text": [
            "100%|██████████| 78/78 [00:03<00:00, 21.77it/s]\n"
          ]
        },
        {
          "name": "stdout",
          "output_type": "stream",
          "text": [
            "epoch: 499\n",
            "loss: 0.005014541560786967\n",
            "accuracy: 0.9985977564102564\n"
          ]
        },
        {
          "name": "stderr",
          "output_type": "stream",
          "text": [
            "100%|██████████| 78/78 [00:03<00:00, 20.95it/s]\n"
          ]
        },
        {
          "name": "stdout",
          "output_type": "stream",
          "text": [
            "epoch: 500\n",
            "loss: 0.00552251051480058\n",
            "accuracy: 0.9983974358974359\n"
          ]
        },
        {
          "name": "stderr",
          "output_type": "stream",
          "text": [
            "100%|██████████| 78/78 [00:03<00:00, 21.34it/s]\n"
          ]
        },
        {
          "name": "stdout",
          "output_type": "stream",
          "text": [
            "epoch: 501\n",
            "loss: 0.005465041218812052\n",
            "accuracy: 0.9979967948717948\n"
          ]
        },
        {
          "name": "stderr",
          "output_type": "stream",
          "text": [
            "100%|██████████| 78/78 [00:03<00:00, 20.45it/s]\n"
          ]
        },
        {
          "name": "stdout",
          "output_type": "stream",
          "text": [
            "epoch: 502\n",
            "loss: 0.004481210025961702\n",
            "accuracy: 0.9985977564102564\n"
          ]
        },
        {
          "name": "stderr",
          "output_type": "stream",
          "text": [
            "100%|██████████| 78/78 [00:03<00:00, 21.38it/s]\n"
          ]
        },
        {
          "name": "stdout",
          "output_type": "stream",
          "text": [
            "epoch: 503\n",
            "loss: 0.007572009027428113\n",
            "accuracy: 0.9975961538461539\n"
          ]
        },
        {
          "name": "stderr",
          "output_type": "stream",
          "text": [
            "100%|██████████| 78/78 [00:03<00:00, 21.37it/s]\n"
          ]
        },
        {
          "name": "stdout",
          "output_type": "stream",
          "text": [
            "epoch: 504\n",
            "loss: 0.0038003981936549865\n",
            "accuracy: 0.9992988782051282\n"
          ]
        },
        {
          "name": "stderr",
          "output_type": "stream",
          "text": [
            "100%|██████████| 78/78 [00:03<00:00, 21.46it/s]\n"
          ]
        },
        {
          "name": "stdout",
          "output_type": "stream",
          "text": [
            "epoch: 505\n",
            "loss: 0.006167975373384065\n",
            "accuracy: 0.9980969551282052\n"
          ]
        },
        {
          "name": "stderr",
          "output_type": "stream",
          "text": [
            "100%|██████████| 78/78 [00:03<00:00, 21.39it/s]\n"
          ]
        },
        {
          "name": "stdout",
          "output_type": "stream",
          "text": [
            "epoch: 506\n",
            "loss: 0.006945813926181589\n",
            "accuracy: 0.9973958333333334\n"
          ]
        },
        {
          "name": "stderr",
          "output_type": "stream",
          "text": [
            "100%|██████████| 78/78 [00:03<00:00, 21.49it/s]\n"
          ]
        },
        {
          "name": "stdout",
          "output_type": "stream",
          "text": [
            "epoch: 507\n",
            "loss: 0.005485755977226803\n",
            "accuracy: 0.9990985576923077\n"
          ]
        },
        {
          "name": "stderr",
          "output_type": "stream",
          "text": [
            "100%|██████████| 78/78 [00:03<00:00, 20.50it/s]\n"
          ]
        },
        {
          "name": "stdout",
          "output_type": "stream",
          "text": [
            "epoch: 508\n",
            "loss: 0.004333857845034426\n",
            "accuracy: 0.9986979166666666\n"
          ]
        },
        {
          "name": "stderr",
          "output_type": "stream",
          "text": [
            "100%|██████████| 78/78 [00:03<00:00, 21.45it/s]\n"
          ]
        },
        {
          "name": "stdout",
          "output_type": "stream",
          "text": [
            "epoch: 509\n",
            "loss: 0.005999510914149981\n",
            "accuracy: 0.9979967948717948\n"
          ]
        },
        {
          "name": "stderr",
          "output_type": "stream",
          "text": [
            "100%|██████████| 78/78 [00:03<00:00, 21.27it/s]\n"
          ]
        },
        {
          "name": "stdout",
          "output_type": "stream",
          "text": [
            "epoch: 510\n",
            "loss: 0.005711989271684359\n",
            "accuracy: 0.9976963141025641\n"
          ]
        },
        {
          "name": "stderr",
          "output_type": "stream",
          "text": [
            "100%|██████████| 78/78 [00:03<00:00, 21.65it/s]\n"
          ]
        },
        {
          "name": "stdout",
          "output_type": "stream",
          "text": [
            "epoch: 511\n",
            "loss: 0.005890945134944139\n",
            "accuracy: 0.9979967948717948\n"
          ]
        },
        {
          "name": "stderr",
          "output_type": "stream",
          "text": [
            "100%|██████████| 78/78 [00:03<00:00, 21.29it/s]\n"
          ]
        },
        {
          "name": "stdout",
          "output_type": "stream",
          "text": [
            "epoch: 512\n",
            "loss: 0.005387130394527235\n",
            "accuracy: 0.9984975961538461\n"
          ]
        },
        {
          "name": "stderr",
          "output_type": "stream",
          "text": [
            "100%|██████████| 78/78 [00:03<00:00, 21.67it/s]\n"
          ]
        },
        {
          "name": "stdout",
          "output_type": "stream",
          "text": [
            "epoch: 513\n",
            "loss: 0.005674549489646243\n",
            "accuracy: 0.9978966346153846\n"
          ]
        },
        {
          "name": "stderr",
          "output_type": "stream",
          "text": [
            "100%|██████████| 78/78 [00:03<00:00, 21.44it/s]\n"
          ]
        },
        {
          "name": "stdout",
          "output_type": "stream",
          "text": [
            "epoch: 514\n",
            "loss: 0.004821454724804379\n",
            "accuracy: 0.9983974358974359\n"
          ]
        },
        {
          "name": "stderr",
          "output_type": "stream",
          "text": [
            "100%|██████████| 78/78 [00:03<00:00, 21.42it/s]\n"
          ]
        },
        {
          "name": "stdout",
          "output_type": "stream",
          "text": [
            "epoch: 515\n",
            "loss: 0.004635963507984669\n",
            "accuracy: 0.9987980769230769\n"
          ]
        },
        {
          "name": "stderr",
          "output_type": "stream",
          "text": [
            "100%|██████████| 78/78 [00:03<00:00, 21.26it/s]\n"
          ]
        },
        {
          "name": "stdout",
          "output_type": "stream",
          "text": [
            "epoch: 516\n",
            "loss: 0.0048287406168991505\n",
            "accuracy: 0.9983974358974359\n"
          ]
        },
        {
          "name": "stderr",
          "output_type": "stream",
          "text": [
            "100%|██████████| 78/78 [00:03<00:00, 21.00it/s]\n"
          ]
        },
        {
          "name": "stdout",
          "output_type": "stream",
          "text": [
            "epoch: 517\n",
            "loss: 0.006152995821769134\n",
            "accuracy: 0.9983974358974359\n"
          ]
        },
        {
          "name": "stderr",
          "output_type": "stream",
          "text": [
            "100%|██████████| 78/78 [00:03<00:00, 21.29it/s]\n"
          ]
        },
        {
          "name": "stdout",
          "output_type": "stream",
          "text": [
            "epoch: 518\n",
            "loss: 0.0050866935556629096\n",
            "accuracy: 0.9986979166666666\n"
          ]
        },
        {
          "name": "stderr",
          "output_type": "stream",
          "text": [
            "100%|██████████| 78/78 [00:03<00:00, 21.36it/s]\n"
          ]
        },
        {
          "name": "stdout",
          "output_type": "stream",
          "text": [
            "epoch: 519\n",
            "loss: 0.005210796569232256\n",
            "accuracy: 0.9980969551282052\n"
          ]
        },
        {
          "name": "stderr",
          "output_type": "stream",
          "text": [
            "100%|██████████| 78/78 [00:03<00:00, 21.53it/s]\n"
          ]
        },
        {
          "name": "stdout",
          "output_type": "stream",
          "text": [
            "epoch: 520\n",
            "loss: 0.005369017269307126\n",
            "accuracy: 0.9982972756410257\n"
          ]
        },
        {
          "name": "stderr",
          "output_type": "stream",
          "text": [
            "100%|██████████| 78/78 [00:03<00:00, 21.37it/s]\n"
          ]
        },
        {
          "name": "stdout",
          "output_type": "stream",
          "text": [
            "epoch: 521\n",
            "loss: 0.004758262593382731\n",
            "accuracy: 0.9986979166666666\n"
          ]
        },
        {
          "name": "stderr",
          "output_type": "stream",
          "text": [
            "100%|██████████| 78/78 [00:03<00:00, 21.53it/s]\n"
          ]
        },
        {
          "name": "stdout",
          "output_type": "stream",
          "text": [
            "epoch: 522\n",
            "loss: 0.0057336586928263735\n",
            "accuracy: 0.9981971153846154\n"
          ]
        },
        {
          "name": "stderr",
          "output_type": "stream",
          "text": [
            "100%|██████████| 78/78 [00:03<00:00, 21.28it/s]\n"
          ]
        },
        {
          "name": "stdout",
          "output_type": "stream",
          "text": [
            "epoch: 523\n",
            "loss: 0.005747981319496504\n",
            "accuracy: 0.9980969551282052\n"
          ]
        },
        {
          "name": "stderr",
          "output_type": "stream",
          "text": [
            "100%|██████████| 78/78 [00:03<00:00, 21.65it/s]\n"
          ]
        },
        {
          "name": "stdout",
          "output_type": "stream",
          "text": [
            "epoch: 524\n",
            "loss: 0.00834874857630497\n",
            "accuracy: 0.9973958333333334\n"
          ]
        },
        {
          "name": "stderr",
          "output_type": "stream",
          "text": [
            "100%|██████████| 78/78 [00:03<00:00, 21.38it/s]\n"
          ]
        },
        {
          "name": "stdout",
          "output_type": "stream",
          "text": [
            "epoch: 525\n",
            "loss: 0.006041653660642437\n",
            "accuracy: 0.9983974358974359\n"
          ]
        },
        {
          "name": "stderr",
          "output_type": "stream",
          "text": [
            "100%|██████████| 78/78 [00:03<00:00, 21.55it/s]\n"
          ]
        },
        {
          "name": "stdout",
          "output_type": "stream",
          "text": [
            "epoch: 526\n",
            "loss: 0.005892170029722202\n",
            "accuracy: 0.9979967948717948\n"
          ]
        },
        {
          "name": "stderr",
          "output_type": "stream",
          "text": [
            "100%|██████████| 78/78 [00:03<00:00, 21.29it/s]\n"
          ]
        },
        {
          "name": "stdout",
          "output_type": "stream",
          "text": [
            "epoch: 527\n",
            "loss: 0.005892269195054467\n",
            "accuracy: 0.9983974358974359\n"
          ]
        },
        {
          "name": "stderr",
          "output_type": "stream",
          "text": [
            "100%|██████████| 78/78 [00:03<00:00, 21.64it/s]\n"
          ]
        },
        {
          "name": "stdout",
          "output_type": "stream",
          "text": [
            "epoch: 528\n",
            "loss: 0.007680886354930221\n",
            "accuracy: 0.996895032051282\n"
          ]
        },
        {
          "name": "stderr",
          "output_type": "stream",
          "text": [
            "100%|██████████| 78/78 [00:03<00:00, 21.38it/s]\n"
          ]
        },
        {
          "name": "stdout",
          "output_type": "stream",
          "text": [
            "epoch: 529\n",
            "loss: 0.004927147688599339\n",
            "accuracy: 0.9982972756410257\n"
          ]
        },
        {
          "name": "stderr",
          "output_type": "stream",
          "text": [
            "100%|██████████| 78/78 [00:03<00:00, 21.28it/s]\n"
          ]
        },
        {
          "name": "stdout",
          "output_type": "stream",
          "text": [
            "epoch: 530\n",
            "loss: 0.006606413405582619\n",
            "accuracy: 0.9980969551282052\n"
          ]
        },
        {
          "name": "stderr",
          "output_type": "stream",
          "text": [
            "100%|██████████| 78/78 [00:03<00:00, 21.81it/s]\n"
          ]
        },
        {
          "name": "stdout",
          "output_type": "stream",
          "text": [
            "epoch: 531\n",
            "loss: 0.005693570432926301\n",
            "accuracy: 0.9982972756410257\n"
          ]
        },
        {
          "name": "stderr",
          "output_type": "stream",
          "text": [
            "100%|██████████| 78/78 [00:03<00:00, 21.27it/s]\n"
          ]
        },
        {
          "name": "stdout",
          "output_type": "stream",
          "text": [
            "epoch: 532\n",
            "loss: 0.005689434310158667\n",
            "accuracy: 0.9979967948717948\n"
          ]
        },
        {
          "name": "stderr",
          "output_type": "stream",
          "text": [
            "100%|██████████| 78/78 [00:03<00:00, 21.64it/s]\n"
          ]
        },
        {
          "name": "stdout",
          "output_type": "stream",
          "text": [
            "epoch: 533\n",
            "loss: 0.006304687464039606\n",
            "accuracy: 0.9973958333333334\n"
          ]
        },
        {
          "name": "stderr",
          "output_type": "stream",
          "text": [
            "100%|██████████| 78/78 [00:03<00:00, 21.18it/s]\n"
          ]
        },
        {
          "name": "stdout",
          "output_type": "stream",
          "text": [
            "epoch: 534\n",
            "loss: 0.005264255673421594\n",
            "accuracy: 0.9983974358974359\n"
          ]
        },
        {
          "name": "stderr",
          "output_type": "stream",
          "text": [
            "100%|██████████| 78/78 [00:03<00:00, 21.87it/s]\n"
          ]
        },
        {
          "name": "stdout",
          "output_type": "stream",
          "text": [
            "epoch: 535\n",
            "loss: 0.004894071468301356\n",
            "accuracy: 0.9987980769230769\n"
          ]
        },
        {
          "name": "stderr",
          "output_type": "stream",
          "text": [
            "100%|██████████| 78/78 [00:03<00:00, 21.48it/s]\n"
          ]
        },
        {
          "name": "stdout",
          "output_type": "stream",
          "text": [
            "epoch: 536\n",
            "loss: 0.006399023305932179\n",
            "accuracy: 0.9977964743589743\n"
          ]
        },
        {
          "name": "stderr",
          "output_type": "stream",
          "text": [
            "100%|██████████| 78/78 [00:03<00:00, 21.44it/s]\n"
          ]
        },
        {
          "name": "stdout",
          "output_type": "stream",
          "text": [
            "epoch: 537\n",
            "loss: 0.007180634808602731\n",
            "accuracy: 0.9978966346153846\n"
          ]
        },
        {
          "name": "stderr",
          "output_type": "stream",
          "text": [
            "100%|██████████| 78/78 [00:03<00:00, 21.28it/s]\n"
          ]
        },
        {
          "name": "stdout",
          "output_type": "stream",
          "text": [
            "epoch: 538\n",
            "loss: 0.005763446900602549\n",
            "accuracy: 0.9982972756410257\n"
          ]
        },
        {
          "name": "stderr",
          "output_type": "stream",
          "text": [
            "100%|██████████| 78/78 [00:03<00:00, 21.55it/s]\n"
          ]
        },
        {
          "name": "stdout",
          "output_type": "stream",
          "text": [
            "epoch: 539\n",
            "loss: 0.005897590979703893\n",
            "accuracy: 0.9978966346153846\n"
          ]
        },
        {
          "name": "stderr",
          "output_type": "stream",
          "text": [
            "100%|██████████| 78/78 [00:03<00:00, 21.76it/s]\n"
          ]
        },
        {
          "name": "stdout",
          "output_type": "stream",
          "text": [
            "epoch: 540\n",
            "loss: 0.007009811296041171\n",
            "accuracy: 0.9978966346153846\n"
          ]
        },
        {
          "name": "stderr",
          "output_type": "stream",
          "text": [
            "100%|██████████| 78/78 [00:03<00:00, 21.67it/s]\n"
          ]
        },
        {
          "name": "stdout",
          "output_type": "stream",
          "text": [
            "epoch: 541\n",
            "loss: 0.005617870274969998\n",
            "accuracy: 0.9981971153846154\n"
          ]
        },
        {
          "name": "stderr",
          "output_type": "stream",
          "text": [
            "100%|██████████| 78/78 [00:03<00:00, 21.38it/s]\n"
          ]
        },
        {
          "name": "stdout",
          "output_type": "stream",
          "text": [
            "epoch: 542\n",
            "loss: 0.005396608341983758\n",
            "accuracy: 0.9986979166666666\n"
          ]
        },
        {
          "name": "stderr",
          "output_type": "stream",
          "text": [
            "100%|██████████| 78/78 [00:03<00:00, 21.58it/s]\n"
          ]
        },
        {
          "name": "stdout",
          "output_type": "stream",
          "text": [
            "epoch: 543\n",
            "loss: 0.004394365418612814\n",
            "accuracy: 0.9988982371794872\n"
          ]
        },
        {
          "name": "stderr",
          "output_type": "stream",
          "text": [
            "100%|██████████| 78/78 [00:03<00:00, 21.46it/s]\n"
          ]
        },
        {
          "name": "stdout",
          "output_type": "stream",
          "text": [
            "epoch: 544\n",
            "loss: 0.004473569089896046\n",
            "accuracy: 0.9986979166666666\n"
          ]
        },
        {
          "name": "stderr",
          "output_type": "stream",
          "text": [
            "100%|██████████| 78/78 [00:03<00:00, 21.25it/s]\n"
          ]
        },
        {
          "name": "stdout",
          "output_type": "stream",
          "text": [
            "epoch: 545\n",
            "loss: 0.007133503228639408\n",
            "accuracy: 0.9982972756410257\n"
          ]
        },
        {
          "name": "stderr",
          "output_type": "stream",
          "text": [
            "100%|██████████| 78/78 [00:03<00:00, 21.33it/s]\n"
          ]
        },
        {
          "name": "stdout",
          "output_type": "stream",
          "text": [
            "epoch: 546\n",
            "loss: 0.0047784497012169315\n",
            "accuracy: 0.9985977564102564\n"
          ]
        },
        {
          "name": "stderr",
          "output_type": "stream",
          "text": [
            "100%|██████████| 78/78 [00:03<00:00, 21.68it/s]\n"
          ]
        },
        {
          "name": "stdout",
          "output_type": "stream",
          "text": [
            "epoch: 547\n",
            "loss: 0.004855889774029119\n",
            "accuracy: 0.9986979166666666\n"
          ]
        },
        {
          "name": "stderr",
          "output_type": "stream",
          "text": [
            "100%|██████████| 78/78 [00:03<00:00, 21.52it/s]\n"
          ]
        },
        {
          "name": "stdout",
          "output_type": "stream",
          "text": [
            "epoch: 548\n",
            "loss: 0.005630123146170846\n",
            "accuracy: 0.9981971153846154\n"
          ]
        },
        {
          "name": "stderr",
          "output_type": "stream",
          "text": [
            "100%|██████████| 78/78 [00:03<00:00, 21.43it/s]\n"
          ]
        },
        {
          "name": "stdout",
          "output_type": "stream",
          "text": [
            "epoch: 549\n",
            "loss: 0.006210211109599839\n",
            "accuracy: 0.9979967948717948\n"
          ]
        },
        {
          "name": "stderr",
          "output_type": "stream",
          "text": [
            "100%|██████████| 78/78 [00:03<00:00, 21.19it/s]\n"
          ]
        },
        {
          "name": "stdout",
          "output_type": "stream",
          "text": [
            "epoch: 550\n",
            "loss: 0.005763031514876415\n",
            "accuracy: 0.9978966346153846\n"
          ]
        },
        {
          "name": "stderr",
          "output_type": "stream",
          "text": [
            "100%|██████████| 78/78 [00:03<00:00, 21.60it/s]\n"
          ]
        },
        {
          "name": "stdout",
          "output_type": "stream",
          "text": [
            "epoch: 551\n",
            "loss: 0.00529213425239178\n",
            "accuracy: 0.9981971153846154\n"
          ]
        },
        {
          "name": "stderr",
          "output_type": "stream",
          "text": [
            "100%|██████████| 78/78 [00:03<00:00, 21.30it/s]\n"
          ]
        },
        {
          "name": "stdout",
          "output_type": "stream",
          "text": [
            "epoch: 552\n",
            "loss: 0.006766389421850013\n",
            "accuracy: 0.9976963141025641\n"
          ]
        },
        {
          "name": "stderr",
          "output_type": "stream",
          "text": [
            "100%|██████████| 78/78 [00:03<00:00, 21.73it/s]\n"
          ]
        },
        {
          "name": "stdout",
          "output_type": "stream",
          "text": [
            "epoch: 553\n",
            "loss: 0.004965067096353055\n",
            "accuracy: 0.9986979166666666\n"
          ]
        },
        {
          "name": "stderr",
          "output_type": "stream",
          "text": [
            "100%|██████████| 78/78 [00:03<00:00, 21.36it/s]\n"
          ]
        },
        {
          "name": "stdout",
          "output_type": "stream",
          "text": [
            "epoch: 554\n",
            "loss: 0.0045691285724900905\n",
            "accuracy: 0.9988982371794872\n"
          ]
        },
        {
          "name": "stderr",
          "output_type": "stream",
          "text": [
            "100%|██████████| 78/78 [00:03<00:00, 21.45it/s]\n"
          ]
        },
        {
          "name": "stdout",
          "output_type": "stream",
          "text": [
            "epoch: 555\n",
            "loss: 0.005031438041045569\n",
            "accuracy: 0.9982972756410257\n"
          ]
        },
        {
          "name": "stderr",
          "output_type": "stream",
          "text": [
            "100%|██████████| 78/78 [00:03<00:00, 21.81it/s]\n"
          ]
        },
        {
          "name": "stdout",
          "output_type": "stream",
          "text": [
            "epoch: 556\n",
            "loss: 0.004471896504326604\n",
            "accuracy: 0.9984975961538461\n"
          ]
        },
        {
          "name": "stderr",
          "output_type": "stream",
          "text": [
            "100%|██████████| 78/78 [00:03<00:00, 21.76it/s]\n"
          ]
        },
        {
          "name": "stdout",
          "output_type": "stream",
          "text": [
            "epoch: 557\n",
            "loss: 0.0055308511282186\n",
            "accuracy: 0.9984975961538461\n"
          ]
        },
        {
          "name": "stderr",
          "output_type": "stream",
          "text": [
            "100%|██████████| 78/78 [00:03<00:00, 21.32it/s]\n"
          ]
        },
        {
          "name": "stdout",
          "output_type": "stream",
          "text": [
            "epoch: 558\n",
            "loss: 0.0051086635745984195\n",
            "accuracy: 0.9980969551282052\n"
          ]
        },
        {
          "name": "stderr",
          "output_type": "stream",
          "text": [
            "100%|██████████| 78/78 [00:03<00:00, 21.50it/s]\n"
          ]
        },
        {
          "name": "stdout",
          "output_type": "stream",
          "text": [
            "epoch: 559\n",
            "loss: 0.0058613785080617676\n",
            "accuracy: 0.9975961538461539\n"
          ]
        },
        {
          "name": "stderr",
          "output_type": "stream",
          "text": [
            "100%|██████████| 78/78 [00:03<00:00, 21.37it/s]\n"
          ]
        },
        {
          "name": "stdout",
          "output_type": "stream",
          "text": [
            "epoch: 560\n",
            "loss: 0.004880497897549783\n",
            "accuracy: 0.9988982371794872\n"
          ]
        },
        {
          "name": "stderr",
          "output_type": "stream",
          "text": [
            "100%|██████████| 78/78 [00:03<00:00, 21.65it/s]\n"
          ]
        },
        {
          "name": "stdout",
          "output_type": "stream",
          "text": [
            "epoch: 561\n",
            "loss: 0.004135183647658545\n",
            "accuracy: 0.9988982371794872\n"
          ]
        },
        {
          "name": "stderr",
          "output_type": "stream",
          "text": [
            "100%|██████████| 78/78 [00:03<00:00, 21.59it/s]\n"
          ]
        },
        {
          "name": "stdout",
          "output_type": "stream",
          "text": [
            "epoch: 562\n",
            "loss: 0.00703603242082187\n",
            "accuracy: 0.9980969551282052\n"
          ]
        },
        {
          "name": "stderr",
          "output_type": "stream",
          "text": [
            "100%|██████████| 78/78 [00:03<00:00, 21.62it/s]\n"
          ]
        },
        {
          "name": "stdout",
          "output_type": "stream",
          "text": [
            "epoch: 563\n",
            "loss: 0.004190074287553449\n",
            "accuracy: 0.9988982371794872\n"
          ]
        },
        {
          "name": "stderr",
          "output_type": "stream",
          "text": [
            "100%|██████████| 78/78 [00:03<00:00, 21.54it/s]\n"
          ]
        },
        {
          "name": "stdout",
          "output_type": "stream",
          "text": [
            "epoch: 564\n",
            "loss: 0.006086729596389864\n",
            "accuracy: 0.9977964743589743\n"
          ]
        },
        {
          "name": "stderr",
          "output_type": "stream",
          "text": [
            "100%|██████████| 78/78 [00:03<00:00, 21.78it/s]\n"
          ]
        },
        {
          "name": "stdout",
          "output_type": "stream",
          "text": [
            "epoch: 565\n",
            "loss: 0.0043427092886980595\n",
            "accuracy: 0.999198717948718\n"
          ]
        },
        {
          "name": "stderr",
          "output_type": "stream",
          "text": [
            "100%|██████████| 78/78 [00:03<00:00, 20.73it/s]\n"
          ]
        },
        {
          "name": "stdout",
          "output_type": "stream",
          "text": [
            "epoch: 566\n",
            "loss: 0.00526725078965776\n",
            "accuracy: 0.9981971153846154\n"
          ]
        },
        {
          "name": "stderr",
          "output_type": "stream",
          "text": [
            "100%|██████████| 78/78 [00:03<00:00, 21.33it/s]\n"
          ]
        },
        {
          "name": "stdout",
          "output_type": "stream",
          "text": [
            "epoch: 567\n",
            "loss: 0.005051790710683399\n",
            "accuracy: 0.9988982371794872\n"
          ]
        },
        {
          "name": "stderr",
          "output_type": "stream",
          "text": [
            "100%|██████████| 78/78 [00:03<00:00, 21.17it/s]\n"
          ]
        },
        {
          "name": "stdout",
          "output_type": "stream",
          "text": [
            "epoch: 568\n",
            "loss: 0.007163659475060204\n",
            "accuracy: 0.9975961538461539\n"
          ]
        },
        {
          "name": "stderr",
          "output_type": "stream",
          "text": [
            "100%|██████████| 78/78 [00:03<00:00, 21.59it/s]\n"
          ]
        },
        {
          "name": "stdout",
          "output_type": "stream",
          "text": [
            "epoch: 569\n",
            "loss: 0.005192382991551243\n",
            "accuracy: 0.9982972756410257\n"
          ]
        },
        {
          "name": "stderr",
          "output_type": "stream",
          "text": [
            "100%|██████████| 78/78 [00:03<00:00, 21.62it/s]\n"
          ]
        },
        {
          "name": "stdout",
          "output_type": "stream",
          "text": [
            "epoch: 570\n",
            "loss: 0.005672966667379324\n",
            "accuracy: 0.9981971153846154\n"
          ]
        },
        {
          "name": "stderr",
          "output_type": "stream",
          "text": [
            "100%|██████████| 78/78 [00:03<00:00, 21.48it/s]\n"
          ]
        },
        {
          "name": "stdout",
          "output_type": "stream",
          "text": [
            "epoch: 571\n",
            "loss: 0.006441076759260912\n",
            "accuracy: 0.9979967948717948\n"
          ]
        },
        {
          "name": "stderr",
          "output_type": "stream",
          "text": [
            "100%|██████████| 78/78 [00:03<00:00, 21.43it/s]\n"
          ]
        },
        {
          "name": "stdout",
          "output_type": "stream",
          "text": [
            "epoch: 572\n",
            "loss: 0.00517904795318221\n",
            "accuracy: 0.9982972756410257\n"
          ]
        },
        {
          "name": "stderr",
          "output_type": "stream",
          "text": [
            "100%|██████████| 78/78 [00:03<00:00, 21.79it/s]\n"
          ]
        },
        {
          "name": "stdout",
          "output_type": "stream",
          "text": [
            "epoch: 573\n",
            "loss: 0.006198458854879181\n",
            "accuracy: 0.9977964743589743\n"
          ]
        },
        {
          "name": "stderr",
          "output_type": "stream",
          "text": [
            "100%|██████████| 78/78 [00:03<00:00, 21.76it/s]\n"
          ]
        },
        {
          "name": "stdout",
          "output_type": "stream",
          "text": [
            "epoch: 574\n",
            "loss: 0.005720191132590676\n",
            "accuracy: 0.9984975961538461\n"
          ]
        },
        {
          "name": "stderr",
          "output_type": "stream",
          "text": [
            "100%|██████████| 78/78 [00:03<00:00, 21.18it/s]\n"
          ]
        },
        {
          "name": "stdout",
          "output_type": "stream",
          "text": [
            "epoch: 575\n",
            "loss: 0.005147076375672044\n",
            "accuracy: 0.9981971153846154\n"
          ]
        },
        {
          "name": "stderr",
          "output_type": "stream",
          "text": [
            "100%|██████████| 78/78 [00:03<00:00, 21.70it/s]\n"
          ]
        },
        {
          "name": "stdout",
          "output_type": "stream",
          "text": [
            "epoch: 576\n",
            "loss: 0.0050774359518142706\n",
            "accuracy: 0.9981971153846154\n"
          ]
        },
        {
          "name": "stderr",
          "output_type": "stream",
          "text": [
            "100%|██████████| 78/78 [00:03<00:00, 21.38it/s]\n"
          ]
        },
        {
          "name": "stdout",
          "output_type": "stream",
          "text": [
            "epoch: 577\n",
            "loss: 0.006317060032578854\n",
            "accuracy: 0.9976963141025641\n"
          ]
        },
        {
          "name": "stderr",
          "output_type": "stream",
          "text": [
            "100%|██████████| 78/78 [00:03<00:00, 21.42it/s]\n"
          ]
        },
        {
          "name": "stdout",
          "output_type": "stream",
          "text": [
            "epoch: 578\n",
            "loss: 0.005310512782531218\n",
            "accuracy: 0.9984975961538461\n"
          ]
        },
        {
          "name": "stderr",
          "output_type": "stream",
          "text": [
            "100%|██████████| 78/78 [00:03<00:00, 21.22it/s]\n"
          ]
        },
        {
          "name": "stdout",
          "output_type": "stream",
          "text": [
            "epoch: 579\n",
            "loss: 0.006208945867584612\n",
            "accuracy: 0.9981971153846154\n"
          ]
        },
        {
          "name": "stderr",
          "output_type": "stream",
          "text": [
            "100%|██████████| 78/78 [00:03<00:00, 21.18it/s]\n"
          ]
        },
        {
          "name": "stdout",
          "output_type": "stream",
          "text": [
            "epoch: 580\n",
            "loss: 0.005691294824758258\n",
            "accuracy: 0.9984975961538461\n"
          ]
        },
        {
          "name": "stderr",
          "output_type": "stream",
          "text": [
            "100%|██████████| 78/78 [00:03<00:00, 21.51it/s]\n"
          ]
        },
        {
          "name": "stdout",
          "output_type": "stream",
          "text": [
            "epoch: 581\n",
            "loss: 0.0061586378291488076\n",
            "accuracy: 0.9980969551282052\n"
          ]
        },
        {
          "name": "stderr",
          "output_type": "stream",
          "text": [
            "100%|██████████| 78/78 [00:03<00:00, 21.62it/s]\n"
          ]
        },
        {
          "name": "stdout",
          "output_type": "stream",
          "text": [
            "epoch: 582\n",
            "loss: 0.004976628968739906\n",
            "accuracy: 0.9983974358974359\n"
          ]
        },
        {
          "name": "stderr",
          "output_type": "stream",
          "text": [
            "100%|██████████| 78/78 [00:03<00:00, 21.03it/s]\n"
          ]
        },
        {
          "name": "stdout",
          "output_type": "stream",
          "text": [
            "epoch: 583\n",
            "loss: 0.0039937101201548315\n",
            "accuracy: 0.9985977564102564\n"
          ]
        },
        {
          "name": "stderr",
          "output_type": "stream",
          "text": [
            "100%|██████████| 78/78 [00:03<00:00, 21.31it/s]\n"
          ]
        },
        {
          "name": "stdout",
          "output_type": "stream",
          "text": [
            "epoch: 584\n",
            "loss: 0.004707769801965556\n",
            "accuracy: 0.9990985576923077\n"
          ]
        },
        {
          "name": "stderr",
          "output_type": "stream",
          "text": [
            "100%|██████████| 78/78 [00:03<00:00, 21.33it/s]\n"
          ]
        },
        {
          "name": "stdout",
          "output_type": "stream",
          "text": [
            "epoch: 585\n",
            "loss: 0.004533440963803934\n",
            "accuracy: 0.9983974358974359\n"
          ]
        },
        {
          "name": "stderr",
          "output_type": "stream",
          "text": [
            "100%|██████████| 78/78 [00:03<00:00, 20.35it/s]\n"
          ]
        },
        {
          "name": "stdout",
          "output_type": "stream",
          "text": [
            "epoch: 586\n",
            "loss: 0.005662273128669208\n",
            "accuracy: 0.9979967948717948\n"
          ]
        },
        {
          "name": "stderr",
          "output_type": "stream",
          "text": [
            "100%|██████████| 78/78 [00:04<00:00, 18.81it/s]\n"
          ]
        },
        {
          "name": "stdout",
          "output_type": "stream",
          "text": [
            "epoch: 587\n",
            "loss: 0.0053300997943808446\n",
            "accuracy: 0.9984975961538461\n"
          ]
        },
        {
          "name": "stderr",
          "output_type": "stream",
          "text": [
            "100%|██████████| 78/78 [00:04<00:00, 18.92it/s]\n"
          ]
        },
        {
          "name": "stdout",
          "output_type": "stream",
          "text": [
            "epoch: 588\n",
            "loss: 0.005694804733651929\n",
            "accuracy: 0.9980969551282052\n"
          ]
        },
        {
          "name": "stderr",
          "output_type": "stream",
          "text": [
            "100%|██████████| 78/78 [00:03<00:00, 20.36it/s]\n"
          ]
        },
        {
          "name": "stdout",
          "output_type": "stream",
          "text": [
            "epoch: 589\n",
            "loss: 0.006362044749832234\n",
            "accuracy: 0.9976963141025641\n"
          ]
        },
        {
          "name": "stderr",
          "output_type": "stream",
          "text": [
            "100%|██████████| 78/78 [00:03<00:00, 20.32it/s]\n"
          ]
        },
        {
          "name": "stdout",
          "output_type": "stream",
          "text": [
            "epoch: 590\n",
            "loss: 0.005560797361212257\n",
            "accuracy: 0.9978966346153846\n"
          ]
        },
        {
          "name": "stderr",
          "output_type": "stream",
          "text": [
            "100%|██████████| 78/78 [00:03<00:00, 20.92it/s]\n"
          ]
        },
        {
          "name": "stdout",
          "output_type": "stream",
          "text": [
            "epoch: 591\n",
            "loss: 0.00480009573407304\n",
            "accuracy: 0.9992988782051282\n"
          ]
        },
        {
          "name": "stderr",
          "output_type": "stream",
          "text": [
            "100%|██████████| 78/78 [00:03<00:00, 21.84it/s]\n"
          ]
        },
        {
          "name": "stdout",
          "output_type": "stream",
          "text": [
            "epoch: 592\n",
            "loss: 0.0056963758535671215\n",
            "accuracy: 0.9980969551282052\n"
          ]
        },
        {
          "name": "stderr",
          "output_type": "stream",
          "text": [
            "100%|██████████| 78/78 [00:03<00:00, 21.52it/s]\n"
          ]
        },
        {
          "name": "stdout",
          "output_type": "stream",
          "text": [
            "epoch: 593\n",
            "loss: 0.004951838917734746\n",
            "accuracy: 0.9983974358974359\n"
          ]
        },
        {
          "name": "stderr",
          "output_type": "stream",
          "text": [
            "100%|██████████| 78/78 [00:03<00:00, 21.73it/s]\n"
          ]
        },
        {
          "name": "stdout",
          "output_type": "stream",
          "text": [
            "epoch: 594\n",
            "loss: 0.004821424642637468\n",
            "accuracy: 0.9983974358974359\n"
          ]
        },
        {
          "name": "stderr",
          "output_type": "stream",
          "text": [
            "100%|██████████| 78/78 [00:03<00:00, 21.47it/s]\n"
          ]
        },
        {
          "name": "stdout",
          "output_type": "stream",
          "text": [
            "epoch: 595\n",
            "loss: 0.00578576749681722\n",
            "accuracy: 0.9980969551282052\n"
          ]
        },
        {
          "name": "stderr",
          "output_type": "stream",
          "text": [
            "100%|██████████| 78/78 [00:03<00:00, 21.38it/s]\n"
          ]
        },
        {
          "name": "stdout",
          "output_type": "stream",
          "text": [
            "epoch: 596\n",
            "loss: 0.005569930559245105\n",
            "accuracy: 0.9983974358974359\n"
          ]
        },
        {
          "name": "stderr",
          "output_type": "stream",
          "text": [
            "100%|██████████| 78/78 [00:03<00:00, 21.57it/s]\n"
          ]
        },
        {
          "name": "stdout",
          "output_type": "stream",
          "text": [
            "epoch: 597\n",
            "loss: 0.0040903322317321095\n",
            "accuracy: 0.9988982371794872\n"
          ]
        },
        {
          "name": "stderr",
          "output_type": "stream",
          "text": [
            "100%|██████████| 78/78 [00:03<00:00, 21.69it/s]\n"
          ]
        },
        {
          "name": "stdout",
          "output_type": "stream",
          "text": [
            "epoch: 598\n",
            "loss: 0.003720384896717942\n",
            "accuracy: 0.9988982371794872\n"
          ]
        },
        {
          "name": "stderr",
          "output_type": "stream",
          "text": [
            "100%|██████████| 78/78 [00:03<00:00, 21.08it/s]\n"
          ]
        },
        {
          "name": "stdout",
          "output_type": "stream",
          "text": [
            "epoch: 599\n",
            "loss: 0.0057602532454975285\n",
            "accuracy: 0.9982972756410257\n"
          ]
        },
        {
          "name": "stderr",
          "output_type": "stream",
          "text": [
            "100%|██████████| 78/78 [00:03<00:00, 21.67it/s]\n"
          ]
        },
        {
          "name": "stdout",
          "output_type": "stream",
          "text": [
            "epoch: 600\n",
            "loss: 0.005811382569402504\n",
            "accuracy: 0.9978966346153846\n"
          ]
        },
        {
          "name": "stderr",
          "output_type": "stream",
          "text": [
            "100%|██████████| 78/78 [00:03<00:00, 21.59it/s]\n"
          ]
        },
        {
          "name": "stdout",
          "output_type": "stream",
          "text": [
            "epoch: 601\n",
            "loss: 0.003967658818463604\n",
            "accuracy: 0.9987980769230769\n"
          ]
        },
        {
          "name": "stderr",
          "output_type": "stream",
          "text": [
            "100%|██████████| 78/78 [00:03<00:00, 21.22it/s]\n"
          ]
        },
        {
          "name": "stdout",
          "output_type": "stream",
          "text": [
            "epoch: 602\n",
            "loss: 0.0037547921114869844\n",
            "accuracy: 0.9989983974358975\n"
          ]
        },
        {
          "name": "stderr",
          "output_type": "stream",
          "text": [
            "100%|██████████| 78/78 [00:03<00:00, 21.65it/s]\n"
          ]
        },
        {
          "name": "stdout",
          "output_type": "stream",
          "text": [
            "epoch: 603\n",
            "loss: 0.006078307022854017\n",
            "accuracy: 0.9981971153846154\n"
          ]
        },
        {
          "name": "stderr",
          "output_type": "stream",
          "text": [
            "100%|██████████| 78/78 [00:03<00:00, 21.34it/s]\n"
          ]
        },
        {
          "name": "stdout",
          "output_type": "stream",
          "text": [
            "epoch: 604\n",
            "loss: 0.006385176888822268\n",
            "accuracy: 0.9975961538461539\n"
          ]
        },
        {
          "name": "stderr",
          "output_type": "stream",
          "text": [
            "100%|██████████| 78/78 [00:03<00:00, 21.52it/s]\n"
          ]
        },
        {
          "name": "stdout",
          "output_type": "stream",
          "text": [
            "epoch: 605\n",
            "loss: 0.004738323465109062\n",
            "accuracy: 0.9984975961538461\n"
          ]
        },
        {
          "name": "stderr",
          "output_type": "stream",
          "text": [
            "100%|██████████| 78/78 [00:03<00:00, 21.81it/s]\n"
          ]
        },
        {
          "name": "stdout",
          "output_type": "stream",
          "text": [
            "epoch: 606\n",
            "loss: 0.00491320542492665\n",
            "accuracy: 0.9982972756410257\n"
          ]
        },
        {
          "name": "stderr",
          "output_type": "stream",
          "text": [
            "100%|██████████| 78/78 [00:03<00:00, 21.67it/s]\n"
          ]
        },
        {
          "name": "stdout",
          "output_type": "stream",
          "text": [
            "epoch: 607\n",
            "loss: 0.006838466272501347\n",
            "accuracy: 0.9974959935897436\n"
          ]
        },
        {
          "name": "stderr",
          "output_type": "stream",
          "text": [
            "100%|██████████| 78/78 [00:03<00:00, 21.82it/s]\n"
          ]
        },
        {
          "name": "stdout",
          "output_type": "stream",
          "text": [
            "epoch: 608\n",
            "loss: 0.006725413569186527\n",
            "accuracy: 0.9980969551282052\n"
          ]
        },
        {
          "name": "stderr",
          "output_type": "stream",
          "text": [
            "100%|██████████| 78/78 [00:03<00:00, 21.62it/s]\n"
          ]
        },
        {
          "name": "stdout",
          "output_type": "stream",
          "text": [
            "epoch: 609\n",
            "loss: 0.005342180626869846\n",
            "accuracy: 0.9982972756410257\n"
          ]
        },
        {
          "name": "stderr",
          "output_type": "stream",
          "text": [
            "100%|██████████| 78/78 [00:03<00:00, 21.85it/s]\n"
          ]
        },
        {
          "name": "stdout",
          "output_type": "stream",
          "text": [
            "epoch: 610\n",
            "loss: 0.008543138065038081\n",
            "accuracy: 0.9970953525641025\n"
          ]
        },
        {
          "name": "stderr",
          "output_type": "stream",
          "text": [
            "100%|██████████| 78/78 [00:03<00:00, 21.42it/s]\n"
          ]
        },
        {
          "name": "stdout",
          "output_type": "stream",
          "text": [
            "epoch: 611\n",
            "loss: 0.005183871239961053\n",
            "accuracy: 0.9982972756410257\n"
          ]
        },
        {
          "name": "stderr",
          "output_type": "stream",
          "text": [
            "100%|██████████| 78/78 [00:03<00:00, 21.61it/s]\n"
          ]
        },
        {
          "name": "stdout",
          "output_type": "stream",
          "text": [
            "epoch: 612\n",
            "loss: 0.0058351164513554135\n",
            "accuracy: 0.9982972756410257\n"
          ]
        },
        {
          "name": "stderr",
          "output_type": "stream",
          "text": [
            "100%|██████████| 78/78 [00:03<00:00, 21.29it/s]\n"
          ]
        },
        {
          "name": "stdout",
          "output_type": "stream",
          "text": [
            "epoch: 613\n",
            "loss: 0.005527474658895069\n",
            "accuracy: 0.9981971153846154\n"
          ]
        },
        {
          "name": "stderr",
          "output_type": "stream",
          "text": [
            "100%|██████████| 78/78 [00:03<00:00, 21.00it/s]\n"
          ]
        },
        {
          "name": "stdout",
          "output_type": "stream",
          "text": [
            "epoch: 614\n",
            "loss: 0.004490292044908692\n",
            "accuracy: 0.9984975961538461\n"
          ]
        },
        {
          "name": "stderr",
          "output_type": "stream",
          "text": [
            "100%|██████████| 78/78 [00:03<00:00, 21.51it/s]\n"
          ]
        },
        {
          "name": "stdout",
          "output_type": "stream",
          "text": [
            "epoch: 615\n",
            "loss: 0.006047755415634945\n",
            "accuracy: 0.9980969551282052\n"
          ]
        },
        {
          "name": "stderr",
          "output_type": "stream",
          "text": [
            "100%|██████████| 78/78 [00:03<00:00, 21.27it/s]\n"
          ]
        },
        {
          "name": "stdout",
          "output_type": "stream",
          "text": [
            "epoch: 616\n",
            "loss: 0.00552761870923673\n",
            "accuracy: 0.9982972756410257\n"
          ]
        },
        {
          "name": "stderr",
          "output_type": "stream",
          "text": [
            "100%|██████████| 78/78 [00:03<00:00, 21.75it/s]\n"
          ]
        },
        {
          "name": "stdout",
          "output_type": "stream",
          "text": [
            "epoch: 617\n",
            "loss: 0.006721415925988903\n",
            "accuracy: 0.9974959935897436\n"
          ]
        },
        {
          "name": "stderr",
          "output_type": "stream",
          "text": [
            "100%|██████████| 78/78 [00:03<00:00, 21.87it/s]\n"
          ]
        },
        {
          "name": "stdout",
          "output_type": "stream",
          "text": [
            "epoch: 618\n",
            "loss: 0.005380467612084407\n",
            "accuracy: 0.9982972756410257\n"
          ]
        },
        {
          "name": "stderr",
          "output_type": "stream",
          "text": [
            "100%|██████████| 78/78 [00:03<00:00, 20.69it/s]\n"
          ]
        },
        {
          "name": "stdout",
          "output_type": "stream",
          "text": [
            "epoch: 619\n",
            "loss: 0.0046468387963847285\n",
            "accuracy: 0.9984975961538461\n"
          ]
        },
        {
          "name": "stderr",
          "output_type": "stream",
          "text": [
            "100%|██████████| 78/78 [00:03<00:00, 20.84it/s]\n"
          ]
        },
        {
          "name": "stdout",
          "output_type": "stream",
          "text": [
            "epoch: 620\n",
            "loss: 0.004264919018635574\n",
            "accuracy: 0.9985977564102564\n"
          ]
        },
        {
          "name": "stderr",
          "output_type": "stream",
          "text": [
            "100%|██████████| 78/78 [00:03<00:00, 21.36it/s]\n"
          ]
        },
        {
          "name": "stdout",
          "output_type": "stream",
          "text": [
            "epoch: 621\n",
            "loss: 0.006664157737619602\n",
            "accuracy: 0.9969951923076923\n"
          ]
        },
        {
          "name": "stderr",
          "output_type": "stream",
          "text": [
            "100%|██████████| 78/78 [00:03<00:00, 21.65it/s]\n"
          ]
        },
        {
          "name": "stdout",
          "output_type": "stream",
          "text": [
            "epoch: 622\n",
            "loss: 0.007618842547601208\n",
            "accuracy: 0.9975961538461539\n"
          ]
        },
        {
          "name": "stderr",
          "output_type": "stream",
          "text": [
            "100%|██████████| 78/78 [00:03<00:00, 21.39it/s]\n"
          ]
        },
        {
          "name": "stdout",
          "output_type": "stream",
          "text": [
            "epoch: 623\n",
            "loss: 0.005185569170862436\n",
            "accuracy: 0.9986979166666666\n"
          ]
        },
        {
          "name": "stderr",
          "output_type": "stream",
          "text": [
            "100%|██████████| 78/78 [00:03<00:00, 21.61it/s]\n"
          ]
        },
        {
          "name": "stdout",
          "output_type": "stream",
          "text": [
            "epoch: 624\n",
            "loss: 0.007114304898632093\n",
            "accuracy: 0.9980969551282052\n"
          ]
        },
        {
          "name": "stderr",
          "output_type": "stream",
          "text": [
            "100%|██████████| 78/78 [00:03<00:00, 21.44it/s]\n"
          ]
        },
        {
          "name": "stdout",
          "output_type": "stream",
          "text": [
            "epoch: 625\n",
            "loss: 0.0045477556193826525\n",
            "accuracy: 0.9983974358974359\n"
          ]
        },
        {
          "name": "stderr",
          "output_type": "stream",
          "text": [
            "100%|██████████| 78/78 [00:03<00:00, 21.55it/s]\n"
          ]
        },
        {
          "name": "stdout",
          "output_type": "stream",
          "text": [
            "epoch: 626\n",
            "loss: 0.007083136526209553\n",
            "accuracy: 0.9976963141025641\n"
          ]
        },
        {
          "name": "stderr",
          "output_type": "stream",
          "text": [
            "100%|██████████| 78/78 [00:03<00:00, 21.56it/s]\n"
          ]
        },
        {
          "name": "stdout",
          "output_type": "stream",
          "text": [
            "epoch: 627\n",
            "loss: 0.006256633867264892\n",
            "accuracy: 0.9976963141025641\n"
          ]
        },
        {
          "name": "stderr",
          "output_type": "stream",
          "text": [
            "100%|██████████| 78/78 [00:03<00:00, 21.42it/s]\n"
          ]
        },
        {
          "name": "stdout",
          "output_type": "stream",
          "text": [
            "epoch: 628\n",
            "loss: 0.006083794172109964\n",
            "accuracy: 0.9981971153846154\n"
          ]
        },
        {
          "name": "stderr",
          "output_type": "stream",
          "text": [
            "100%|██████████| 78/78 [00:03<00:00, 21.23it/s]\n"
          ]
        },
        {
          "name": "stdout",
          "output_type": "stream",
          "text": [
            "epoch: 629\n",
            "loss: 0.005059743905290723\n",
            "accuracy: 0.9986979166666666\n"
          ]
        },
        {
          "name": "stderr",
          "output_type": "stream",
          "text": [
            "100%|██████████| 78/78 [00:03<00:00, 21.72it/s]\n"
          ]
        },
        {
          "name": "stdout",
          "output_type": "stream",
          "text": [
            "epoch: 630\n",
            "loss: 0.003729628148646906\n",
            "accuracy: 0.9988982371794872\n"
          ]
        },
        {
          "name": "stderr",
          "output_type": "stream",
          "text": [
            "100%|██████████| 78/78 [00:03<00:00, 21.52it/s]\n"
          ]
        },
        {
          "name": "stdout",
          "output_type": "stream",
          "text": [
            "epoch: 631\n",
            "loss: 0.004087367545416316\n",
            "accuracy: 0.9985977564102564\n"
          ]
        },
        {
          "name": "stderr",
          "output_type": "stream",
          "text": [
            "100%|██████████| 78/78 [00:03<00:00, 21.60it/s]\n"
          ]
        },
        {
          "name": "stdout",
          "output_type": "stream",
          "text": [
            "epoch: 632\n",
            "loss: 0.005783683143538208\n",
            "accuracy: 0.9980969551282052\n"
          ]
        },
        {
          "name": "stderr",
          "output_type": "stream",
          "text": [
            "100%|██████████| 78/78 [00:03<00:00, 21.40it/s]\n"
          ]
        },
        {
          "name": "stdout",
          "output_type": "stream",
          "text": [
            "epoch: 633\n",
            "loss: 0.005847719330071973\n",
            "accuracy: 0.9981971153846154\n"
          ]
        },
        {
          "name": "stderr",
          "output_type": "stream",
          "text": [
            "100%|██████████| 78/78 [00:03<00:00, 21.61it/s]\n"
          ]
        },
        {
          "name": "stdout",
          "output_type": "stream",
          "text": [
            "epoch: 634\n",
            "loss: 0.004470611398947091\n",
            "accuracy: 0.9986979166666666\n"
          ]
        },
        {
          "name": "stderr",
          "output_type": "stream",
          "text": [
            "100%|██████████| 78/78 [00:03<00:00, 21.59it/s]\n"
          ]
        },
        {
          "name": "stdout",
          "output_type": "stream",
          "text": [
            "epoch: 635\n",
            "loss: 0.00557835777857317\n",
            "accuracy: 0.9977964743589743\n"
          ]
        },
        {
          "name": "stderr",
          "output_type": "stream",
          "text": [
            "100%|██████████| 78/78 [00:03<00:00, 21.52it/s]\n"
          ]
        },
        {
          "name": "stdout",
          "output_type": "stream",
          "text": [
            "epoch: 636\n",
            "loss: 0.005523020707933495\n",
            "accuracy: 0.9981971153846154\n"
          ]
        },
        {
          "name": "stderr",
          "output_type": "stream",
          "text": [
            "100%|██████████| 78/78 [00:03<00:00, 20.93it/s]\n"
          ]
        },
        {
          "name": "stdout",
          "output_type": "stream",
          "text": [
            "epoch: 637\n",
            "loss: 0.005904370522610127\n",
            "accuracy: 0.9980969551282052\n"
          ]
        },
        {
          "name": "stderr",
          "output_type": "stream",
          "text": [
            "100%|██████████| 78/78 [00:03<00:00, 21.70it/s]\n"
          ]
        },
        {
          "name": "stdout",
          "output_type": "stream",
          "text": [
            "epoch: 638\n",
            "loss: 0.006373729623588495\n",
            "accuracy: 0.9980969551282052\n"
          ]
        },
        {
          "name": "stderr",
          "output_type": "stream",
          "text": [
            "100%|██████████| 78/78 [00:03<00:00, 21.54it/s]\n"
          ]
        },
        {
          "name": "stdout",
          "output_type": "stream",
          "text": [
            "epoch: 639\n",
            "loss: 0.004786171639585892\n",
            "accuracy: 0.9983974358974359\n"
          ]
        },
        {
          "name": "stderr",
          "output_type": "stream",
          "text": [
            "100%|██████████| 78/78 [00:03<00:00, 21.48it/s]\n"
          ]
        },
        {
          "name": "stdout",
          "output_type": "stream",
          "text": [
            "epoch: 640\n",
            "loss: 0.0051977493246503845\n",
            "accuracy: 0.9981971153846154\n"
          ]
        },
        {
          "name": "stderr",
          "output_type": "stream",
          "text": [
            "100%|██████████| 78/78 [00:03<00:00, 21.69it/s]\n"
          ]
        },
        {
          "name": "stdout",
          "output_type": "stream",
          "text": [
            "epoch: 641\n",
            "loss: 0.005200366917937898\n",
            "accuracy: 0.9980969551282052\n"
          ]
        },
        {
          "name": "stderr",
          "output_type": "stream",
          "text": [
            "100%|██████████| 78/78 [00:03<00:00, 21.75it/s]\n"
          ]
        },
        {
          "name": "stdout",
          "output_type": "stream",
          "text": [
            "epoch: 642\n",
            "loss: 0.007024477484847944\n",
            "accuracy: 0.9979967948717948\n"
          ]
        },
        {
          "name": "stderr",
          "output_type": "stream",
          "text": [
            "100%|██████████| 78/78 [00:03<00:00, 21.52it/s]\n"
          ]
        },
        {
          "name": "stdout",
          "output_type": "stream",
          "text": [
            "epoch: 643\n",
            "loss: 0.0041723497785054724\n",
            "accuracy: 0.9989983974358975\n"
          ]
        },
        {
          "name": "stderr",
          "output_type": "stream",
          "text": [
            "100%|██████████| 78/78 [00:03<00:00, 21.59it/s]\n"
          ]
        },
        {
          "name": "stdout",
          "output_type": "stream",
          "text": [
            "epoch: 644\n",
            "loss: 0.0037404634896143437\n",
            "accuracy: 0.9987980769230769\n"
          ]
        },
        {
          "name": "stderr",
          "output_type": "stream",
          "text": [
            "100%|██████████| 78/78 [00:03<00:00, 20.89it/s]\n"
          ]
        },
        {
          "name": "stdout",
          "output_type": "stream",
          "text": [
            "epoch: 645\n",
            "loss: 0.004239965875734551\n",
            "accuracy: 0.9989983974358975\n"
          ]
        },
        {
          "name": "stderr",
          "output_type": "stream",
          "text": [
            "100%|██████████| 78/78 [00:03<00:00, 21.64it/s]\n"
          ]
        },
        {
          "name": "stdout",
          "output_type": "stream",
          "text": [
            "epoch: 646\n",
            "loss: 0.0051735035492292344\n",
            "accuracy: 0.9986979166666666\n"
          ]
        },
        {
          "name": "stderr",
          "output_type": "stream",
          "text": [
            "100%|██████████| 78/78 [00:03<00:00, 21.54it/s]\n"
          ]
        },
        {
          "name": "stdout",
          "output_type": "stream",
          "text": [
            "epoch: 647\n",
            "loss: 0.005130366468690157\n",
            "accuracy: 0.9982972756410257\n"
          ]
        },
        {
          "name": "stderr",
          "output_type": "stream",
          "text": [
            "100%|██████████| 78/78 [00:03<00:00, 21.61it/s]\n"
          ]
        },
        {
          "name": "stdout",
          "output_type": "stream",
          "text": [
            "epoch: 648\n",
            "loss: 0.005510128037526439\n",
            "accuracy: 0.9980969551282052\n"
          ]
        },
        {
          "name": "stderr",
          "output_type": "stream",
          "text": [
            "100%|██████████| 78/78 [00:03<00:00, 21.02it/s]\n"
          ]
        },
        {
          "name": "stdout",
          "output_type": "stream",
          "text": [
            "epoch: 649\n",
            "loss: 0.003740514755078878\n",
            "accuracy: 0.9986979166666666\n"
          ]
        },
        {
          "name": "stderr",
          "output_type": "stream",
          "text": [
            "100%|██████████| 78/78 [00:03<00:00, 21.67it/s]\n"
          ]
        },
        {
          "name": "stdout",
          "output_type": "stream",
          "text": [
            "epoch: 650\n",
            "loss: 0.004880243947413057\n",
            "accuracy: 0.9981971153846154\n"
          ]
        },
        {
          "name": "stderr",
          "output_type": "stream",
          "text": [
            "100%|██████████| 78/78 [00:03<00:00, 21.43it/s]\n"
          ]
        },
        {
          "name": "stdout",
          "output_type": "stream",
          "text": [
            "epoch: 651\n",
            "loss: 0.00494697783925893\n",
            "accuracy: 0.9987980769230769\n"
          ]
        },
        {
          "name": "stderr",
          "output_type": "stream",
          "text": [
            "100%|██████████| 78/78 [00:03<00:00, 21.32it/s]\n"
          ]
        },
        {
          "name": "stdout",
          "output_type": "stream",
          "text": [
            "epoch: 652\n",
            "loss: 0.005633413009024643\n",
            "accuracy: 0.9979967948717948\n"
          ]
        },
        {
          "name": "stderr",
          "output_type": "stream",
          "text": [
            "100%|██████████| 78/78 [00:03<00:00, 21.38it/s]\n"
          ]
        },
        {
          "name": "stdout",
          "output_type": "stream",
          "text": [
            "epoch: 653\n",
            "loss: 0.005465572574347532\n",
            "accuracy: 0.9986979166666666\n"
          ]
        },
        {
          "name": "stderr",
          "output_type": "stream",
          "text": [
            "100%|██████████| 78/78 [00:03<00:00, 21.52it/s]\n"
          ]
        },
        {
          "name": "stdout",
          "output_type": "stream",
          "text": [
            "epoch: 654\n",
            "loss: 0.005601101967794164\n",
            "accuracy: 0.9983974358974359\n"
          ]
        },
        {
          "name": "stderr",
          "output_type": "stream",
          "text": [
            "100%|██████████| 78/78 [00:03<00:00, 21.33it/s]\n"
          ]
        },
        {
          "name": "stdout",
          "output_type": "stream",
          "text": [
            "epoch: 655\n",
            "loss: 0.005334583748033485\n",
            "accuracy: 0.9986979166666666\n"
          ]
        },
        {
          "name": "stderr",
          "output_type": "stream",
          "text": [
            "100%|██████████| 78/78 [00:03<00:00, 21.77it/s]\n"
          ]
        },
        {
          "name": "stdout",
          "output_type": "stream",
          "text": [
            "epoch: 656\n",
            "loss: 0.005021812337546203\n",
            "accuracy: 0.9987980769230769\n"
          ]
        },
        {
          "name": "stderr",
          "output_type": "stream",
          "text": [
            "100%|██████████| 78/78 [00:03<00:00, 21.13it/s]\n"
          ]
        },
        {
          "name": "stdout",
          "output_type": "stream",
          "text": [
            "epoch: 657\n",
            "loss: 0.004750420486044067\n",
            "accuracy: 0.9989983974358975\n"
          ]
        },
        {
          "name": "stderr",
          "output_type": "stream",
          "text": [
            "100%|██████████| 78/78 [00:03<00:00, 21.66it/s]\n"
          ]
        },
        {
          "name": "stdout",
          "output_type": "stream",
          "text": [
            "epoch: 658\n",
            "loss: 0.006439540259844552\n",
            "accuracy: 0.9978966346153846\n"
          ]
        },
        {
          "name": "stderr",
          "output_type": "stream",
          "text": [
            "100%|██████████| 78/78 [00:03<00:00, 21.52it/s]\n"
          ]
        },
        {
          "name": "stdout",
          "output_type": "stream",
          "text": [
            "epoch: 659\n",
            "loss: 0.006360088232703185\n",
            "accuracy: 0.9977964743589743\n"
          ]
        },
        {
          "name": "stderr",
          "output_type": "stream",
          "text": [
            "100%|██████████| 78/78 [00:03<00:00, 21.09it/s]\n"
          ]
        },
        {
          "name": "stdout",
          "output_type": "stream",
          "text": [
            "epoch: 660\n",
            "loss: 0.003930140417278147\n",
            "accuracy: 0.9983974358974359\n"
          ]
        },
        {
          "name": "stderr",
          "output_type": "stream",
          "text": [
            "100%|██████████| 78/78 [00:05<00:00, 13.98it/s]\n"
          ]
        },
        {
          "name": "stdout",
          "output_type": "stream",
          "text": [
            "epoch: 661\n",
            "loss: 0.005155720229735239\n",
            "accuracy: 0.9984975961538461\n"
          ]
        },
        {
          "name": "stderr",
          "output_type": "stream",
          "text": [
            "100%|██████████| 78/78 [00:04<00:00, 16.47it/s]\n"
          ]
        },
        {
          "name": "stdout",
          "output_type": "stream",
          "text": [
            "epoch: 662\n",
            "loss: 0.005109623239453261\n",
            "accuracy: 0.9984975961538461\n"
          ]
        },
        {
          "name": "stderr",
          "output_type": "stream",
          "text": [
            "100%|██████████| 78/78 [00:06<00:00, 12.20it/s]\n"
          ]
        },
        {
          "name": "stdout",
          "output_type": "stream",
          "text": [
            "epoch: 663\n",
            "loss: 0.004325816720106209\n",
            "accuracy: 0.9985977564102564\n"
          ]
        },
        {
          "name": "stderr",
          "output_type": "stream",
          "text": [
            "100%|██████████| 78/78 [00:04<00:00, 16.95it/s]\n"
          ]
        },
        {
          "name": "stdout",
          "output_type": "stream",
          "text": [
            "epoch: 664\n",
            "loss: 0.005349171571605182\n",
            "accuracy: 0.9981971153846154\n"
          ]
        },
        {
          "name": "stderr",
          "output_type": "stream",
          "text": [
            "100%|██████████| 78/78 [00:03<00:00, 21.48it/s]\n"
          ]
        },
        {
          "name": "stdout",
          "output_type": "stream",
          "text": [
            "epoch: 665\n",
            "loss: 0.004366782845374053\n",
            "accuracy: 0.9989983974358975\n"
          ]
        },
        {
          "name": "stderr",
          "output_type": "stream",
          "text": [
            "100%|██████████| 78/78 [00:04<00:00, 16.08it/s]\n"
          ]
        },
        {
          "name": "stdout",
          "output_type": "stream",
          "text": [
            "epoch: 666\n",
            "loss: 0.006643676589308784\n",
            "accuracy: 0.9973958333333334\n"
          ]
        },
        {
          "name": "stderr",
          "output_type": "stream",
          "text": [
            "100%|██████████| 78/78 [00:03<00:00, 20.40it/s]\n"
          ]
        },
        {
          "name": "stdout",
          "output_type": "stream",
          "text": [
            "epoch: 667\n",
            "loss: 0.005280228738765567\n",
            "accuracy: 0.9983974358974359\n"
          ]
        },
        {
          "name": "stderr",
          "output_type": "stream",
          "text": [
            "100%|██████████| 78/78 [00:03<00:00, 21.45it/s]\n"
          ]
        },
        {
          "name": "stdout",
          "output_type": "stream",
          "text": [
            "epoch: 668\n",
            "loss: 0.005190416648148153\n",
            "accuracy: 0.9984975961538461\n"
          ]
        },
        {
          "name": "stderr",
          "output_type": "stream",
          "text": [
            "100%|██████████| 78/78 [00:03<00:00, 21.59it/s]\n"
          ]
        },
        {
          "name": "stdout",
          "output_type": "stream",
          "text": [
            "epoch: 669\n",
            "loss: 0.004994372177558641\n",
            "accuracy: 0.9981971153846154\n"
          ]
        },
        {
          "name": "stderr",
          "output_type": "stream",
          "text": [
            "100%|██████████| 78/78 [00:03<00:00, 21.67it/s]\n"
          ]
        },
        {
          "name": "stdout",
          "output_type": "stream",
          "text": [
            "epoch: 670\n",
            "loss: 0.005300151459568252\n",
            "accuracy: 0.9985977564102564\n"
          ]
        },
        {
          "name": "stderr",
          "output_type": "stream",
          "text": [
            "100%|██████████| 78/78 [00:03<00:00, 21.32it/s]\n"
          ]
        },
        {
          "name": "stdout",
          "output_type": "stream",
          "text": [
            "epoch: 671\n",
            "loss: 0.005751453138192375\n",
            "accuracy: 0.9983974358974359\n"
          ]
        },
        {
          "name": "stderr",
          "output_type": "stream",
          "text": [
            "100%|██████████| 78/78 [00:03<00:00, 21.48it/s]\n"
          ]
        },
        {
          "name": "stdout",
          "output_type": "stream",
          "text": [
            "epoch: 672\n",
            "loss: 0.004049506414351829\n",
            "accuracy: 0.9987980769230769\n"
          ]
        },
        {
          "name": "stderr",
          "output_type": "stream",
          "text": [
            "100%|██████████| 78/78 [00:04<00:00, 18.90it/s]\n"
          ]
        },
        {
          "name": "stdout",
          "output_type": "stream",
          "text": [
            "epoch: 673\n",
            "loss: 0.00480660456023776\n",
            "accuracy: 0.9982972756410257\n"
          ]
        },
        {
          "name": "stderr",
          "output_type": "stream",
          "text": [
            "100%|██████████| 78/78 [00:03<00:00, 20.96it/s]\n"
          ]
        },
        {
          "name": "stdout",
          "output_type": "stream",
          "text": [
            "epoch: 674\n",
            "loss: 0.005359208564653109\n",
            "accuracy: 0.9987980769230769\n"
          ]
        },
        {
          "name": "stderr",
          "output_type": "stream",
          "text": [
            "100%|██████████| 78/78 [00:03<00:00, 20.62it/s]\n"
          ]
        },
        {
          "name": "stdout",
          "output_type": "stream",
          "text": [
            "epoch: 675\n",
            "loss: 0.004262675469269594\n",
            "accuracy: 0.9986979166666666\n"
          ]
        },
        {
          "name": "stderr",
          "output_type": "stream",
          "text": [
            "100%|██████████| 78/78 [00:04<00:00, 19.02it/s]\n"
          ]
        },
        {
          "name": "stdout",
          "output_type": "stream",
          "text": [
            "epoch: 676\n",
            "loss: 0.0038910920642919312\n",
            "accuracy: 0.9992988782051282\n"
          ]
        },
        {
          "name": "stderr",
          "output_type": "stream",
          "text": [
            "100%|██████████| 78/78 [00:03<00:00, 19.66it/s]\n"
          ]
        },
        {
          "name": "stdout",
          "output_type": "stream",
          "text": [
            "epoch: 677\n",
            "loss: 0.006563969623619834\n",
            "accuracy: 0.9977964743589743\n"
          ]
        },
        {
          "name": "stderr",
          "output_type": "stream",
          "text": [
            "100%|██████████| 78/78 [00:03<00:00, 21.62it/s]\n"
          ]
        },
        {
          "name": "stdout",
          "output_type": "stream",
          "text": [
            "epoch: 678\n",
            "loss: 0.00613950382401713\n",
            "accuracy: 0.9978966346153846\n"
          ]
        },
        {
          "name": "stderr",
          "output_type": "stream",
          "text": [
            "100%|██████████| 78/78 [00:03<00:00, 20.04it/s]\n"
          ]
        },
        {
          "name": "stdout",
          "output_type": "stream",
          "text": [
            "epoch: 679\n",
            "loss: 0.0053971568969502235\n",
            "accuracy: 0.9984975961538461\n"
          ]
        },
        {
          "name": "stderr",
          "output_type": "stream",
          "text": [
            "100%|██████████| 78/78 [00:03<00:00, 20.06it/s]\n"
          ]
        },
        {
          "name": "stdout",
          "output_type": "stream",
          "text": [
            "epoch: 680\n",
            "loss: 0.005529179700459234\n",
            "accuracy: 0.9980969551282052\n"
          ]
        },
        {
          "name": "stderr",
          "output_type": "stream",
          "text": [
            "100%|██████████| 78/78 [00:03<00:00, 19.91it/s]\n"
          ]
        },
        {
          "name": "stdout",
          "output_type": "stream",
          "text": [
            "epoch: 681\n",
            "loss: 0.005050151685002045\n",
            "accuracy: 0.9985977564102564\n"
          ]
        },
        {
          "name": "stderr",
          "output_type": "stream",
          "text": [
            "100%|██████████| 78/78 [00:03<00:00, 20.96it/s]\n"
          ]
        },
        {
          "name": "stdout",
          "output_type": "stream",
          "text": [
            "epoch: 682\n",
            "loss: 0.005483873406028112\n",
            "accuracy: 0.9982972756410257\n"
          ]
        },
        {
          "name": "stderr",
          "output_type": "stream",
          "text": [
            "100%|██████████| 78/78 [00:03<00:00, 20.99it/s]\n"
          ]
        },
        {
          "name": "stdout",
          "output_type": "stream",
          "text": [
            "epoch: 683\n",
            "loss: 0.004261288903459596\n",
            "accuracy: 0.9983974358974359\n"
          ]
        },
        {
          "name": "stderr",
          "output_type": "stream",
          "text": [
            "100%|██████████| 78/78 [00:04<00:00, 18.87it/s]\n"
          ]
        },
        {
          "name": "stdout",
          "output_type": "stream",
          "text": [
            "epoch: 684\n",
            "loss: 0.00516869741691969\n",
            "accuracy: 0.9986979166666666\n"
          ]
        },
        {
          "name": "stderr",
          "output_type": "stream",
          "text": [
            "100%|██████████| 78/78 [00:03<00:00, 21.13it/s]\n"
          ]
        },
        {
          "name": "stdout",
          "output_type": "stream",
          "text": [
            "epoch: 685\n",
            "loss: 0.005197047183546835\n",
            "accuracy: 0.9982972756410257\n"
          ]
        },
        {
          "name": "stderr",
          "output_type": "stream",
          "text": [
            "100%|██████████| 78/78 [00:03<00:00, 21.46it/s]\n"
          ]
        },
        {
          "name": "stdout",
          "output_type": "stream",
          "text": [
            "epoch: 686\n",
            "loss: 0.00702069738382796\n",
            "accuracy: 0.9975961538461539\n"
          ]
        },
        {
          "name": "stderr",
          "output_type": "stream",
          "text": [
            "100%|██████████| 78/78 [00:03<00:00, 21.46it/s]\n"
          ]
        },
        {
          "name": "stdout",
          "output_type": "stream",
          "text": [
            "epoch: 687\n",
            "loss: 0.004552734142261892\n",
            "accuracy: 0.9986979166666666\n"
          ]
        },
        {
          "name": "stderr",
          "output_type": "stream",
          "text": [
            "100%|██████████| 78/78 [00:03<00:00, 21.61it/s]\n"
          ]
        },
        {
          "name": "stdout",
          "output_type": "stream",
          "text": [
            "epoch: 688\n",
            "loss: 0.004816410598906282\n",
            "accuracy: 0.9984975961538461\n"
          ]
        },
        {
          "name": "stderr",
          "output_type": "stream",
          "text": [
            "100%|██████████| 78/78 [00:03<00:00, 21.91it/s]\n"
          ]
        },
        {
          "name": "stdout",
          "output_type": "stream",
          "text": [
            "epoch: 689\n",
            "loss: 0.005763947904200997\n",
            "accuracy: 0.9985977564102564\n"
          ]
        },
        {
          "name": "stderr",
          "output_type": "stream",
          "text": [
            "100%|██████████| 78/78 [00:03<00:00, 21.20it/s]\n"
          ]
        },
        {
          "name": "stdout",
          "output_type": "stream",
          "text": [
            "epoch: 690\n",
            "loss: 0.005467878547512019\n",
            "accuracy: 0.9980969551282052\n"
          ]
        },
        {
          "name": "stderr",
          "output_type": "stream",
          "text": [
            "100%|██████████| 78/78 [00:03<00:00, 21.62it/s]\n"
          ]
        },
        {
          "name": "stdout",
          "output_type": "stream",
          "text": [
            "epoch: 691\n",
            "loss: 0.004877185379975857\n",
            "accuracy: 0.9984975961538461\n"
          ]
        },
        {
          "name": "stderr",
          "output_type": "stream",
          "text": [
            "100%|██████████| 78/78 [00:03<00:00, 21.32it/s]\n"
          ]
        },
        {
          "name": "stdout",
          "output_type": "stream",
          "text": [
            "epoch: 692\n",
            "loss: 0.006488520640488833\n",
            "accuracy: 0.9982972756410257\n"
          ]
        },
        {
          "name": "stderr",
          "output_type": "stream",
          "text": [
            "100%|██████████| 78/78 [00:03<00:00, 21.11it/s]\n"
          ]
        },
        {
          "name": "stdout",
          "output_type": "stream",
          "text": [
            "epoch: 693\n",
            "loss: 0.0046246690658452464\n",
            "accuracy: 0.9982972756410257\n"
          ]
        },
        {
          "name": "stderr",
          "output_type": "stream",
          "text": [
            "100%|██████████| 78/78 [00:03<00:00, 21.70it/s]\n"
          ]
        },
        {
          "name": "stdout",
          "output_type": "stream",
          "text": [
            "epoch: 694\n",
            "loss: 0.004910582993313885\n",
            "accuracy: 0.9986979166666666\n"
          ]
        },
        {
          "name": "stderr",
          "output_type": "stream",
          "text": [
            "100%|██████████| 78/78 [00:03<00:00, 21.27it/s]\n"
          ]
        },
        {
          "name": "stdout",
          "output_type": "stream",
          "text": [
            "epoch: 695\n",
            "loss: 0.004246118859998369\n",
            "accuracy: 0.9989983974358975\n"
          ]
        },
        {
          "name": "stderr",
          "output_type": "stream",
          "text": [
            "100%|██████████| 78/78 [00:03<00:00, 20.03it/s]\n"
          ]
        },
        {
          "name": "stdout",
          "output_type": "stream",
          "text": [
            "epoch: 696\n",
            "loss: 0.0052532809070096565\n",
            "accuracy: 0.9984975961538461\n"
          ]
        },
        {
          "name": "stderr",
          "output_type": "stream",
          "text": [
            "100%|██████████| 78/78 [00:03<00:00, 21.35it/s]\n"
          ]
        },
        {
          "name": "stdout",
          "output_type": "stream",
          "text": [
            "epoch: 697\n",
            "loss: 0.0063546424674150795\n",
            "accuracy: 0.9977964743589743\n"
          ]
        },
        {
          "name": "stderr",
          "output_type": "stream",
          "text": [
            "100%|██████████| 78/78 [00:03<00:00, 20.17it/s]\n"
          ]
        },
        {
          "name": "stdout",
          "output_type": "stream",
          "text": [
            "epoch: 698\n",
            "loss: 0.005454844460846522\n",
            "accuracy: 0.9980969551282052\n"
          ]
        },
        {
          "name": "stderr",
          "output_type": "stream",
          "text": [
            "100%|██████████| 78/78 [00:03<00:00, 21.59it/s]\n"
          ]
        },
        {
          "name": "stdout",
          "output_type": "stream",
          "text": [
            "epoch: 699\n",
            "loss: 0.0058311191872538375\n",
            "accuracy: 0.9983974358974359\n"
          ]
        },
        {
          "name": "stderr",
          "output_type": "stream",
          "text": [
            "100%|██████████| 78/78 [00:03<00:00, 21.59it/s]\n"
          ]
        },
        {
          "name": "stdout",
          "output_type": "stream",
          "text": [
            "epoch: 700\n",
            "loss: 0.005818882011599504\n",
            "accuracy: 0.9976963141025641\n"
          ]
        },
        {
          "name": "stderr",
          "output_type": "stream",
          "text": [
            "100%|██████████| 78/78 [00:03<00:00, 21.22it/s]\n"
          ]
        },
        {
          "name": "stdout",
          "output_type": "stream",
          "text": [
            "epoch: 701\n",
            "loss: 0.0051462300426255055\n",
            "accuracy: 0.9981971153846154\n"
          ]
        },
        {
          "name": "stderr",
          "output_type": "stream",
          "text": [
            "100%|██████████| 78/78 [00:03<00:00, 20.26it/s]\n"
          ]
        },
        {
          "name": "stdout",
          "output_type": "stream",
          "text": [
            "epoch: 702\n",
            "loss: 0.004613175181125721\n",
            "accuracy: 0.9989983974358975\n"
          ]
        },
        {
          "name": "stderr",
          "output_type": "stream",
          "text": [
            "100%|██████████| 78/78 [00:03<00:00, 20.20it/s]\n"
          ]
        },
        {
          "name": "stdout",
          "output_type": "stream",
          "text": [
            "epoch: 703\n",
            "loss: 0.004827639407430513\n",
            "accuracy: 0.9984975961538461\n"
          ]
        },
        {
          "name": "stderr",
          "output_type": "stream",
          "text": [
            "100%|██████████| 78/78 [00:04<00:00, 19.02it/s]\n"
          ]
        },
        {
          "name": "stdout",
          "output_type": "stream",
          "text": [
            "epoch: 704\n",
            "loss: 0.005102933065455335\n",
            "accuracy: 0.9983974358974359\n"
          ]
        },
        {
          "name": "stderr",
          "output_type": "stream",
          "text": [
            "100%|██████████| 78/78 [00:03<00:00, 19.56it/s]\n"
          ]
        },
        {
          "name": "stdout",
          "output_type": "stream",
          "text": [
            "epoch: 705\n",
            "loss: 0.004385445992692183\n",
            "accuracy: 0.9985977564102564\n"
          ]
        },
        {
          "name": "stderr",
          "output_type": "stream",
          "text": [
            "100%|██████████| 78/78 [00:03<00:00, 21.72it/s]\n"
          ]
        },
        {
          "name": "stdout",
          "output_type": "stream",
          "text": [
            "epoch: 706\n",
            "loss: 0.003949302656110376\n",
            "accuracy: 0.9987980769230769\n"
          ]
        },
        {
          "name": "stderr",
          "output_type": "stream",
          "text": [
            "100%|██████████| 78/78 [00:03<00:00, 21.36it/s]\n"
          ]
        },
        {
          "name": "stdout",
          "output_type": "stream",
          "text": [
            "epoch: 707\n",
            "loss: 0.004815055901417509\n",
            "accuracy: 0.9982972756410257\n"
          ]
        },
        {
          "name": "stderr",
          "output_type": "stream",
          "text": [
            "100%|██████████| 78/78 [00:03<00:00, 21.42it/s]\n"
          ]
        },
        {
          "name": "stdout",
          "output_type": "stream",
          "text": [
            "epoch: 708\n",
            "loss: 0.005446671997793974\n",
            "accuracy: 0.9980969551282052\n"
          ]
        },
        {
          "name": "stderr",
          "output_type": "stream",
          "text": [
            "100%|██████████| 78/78 [00:03<00:00, 21.22it/s]\n"
          ]
        },
        {
          "name": "stdout",
          "output_type": "stream",
          "text": [
            "epoch: 709\n",
            "loss: 0.005597590164353068\n",
            "accuracy: 0.9981971153846154\n"
          ]
        },
        {
          "name": "stderr",
          "output_type": "stream",
          "text": [
            "100%|██████████| 78/78 [00:03<00:00, 21.45it/s]\n"
          ]
        },
        {
          "name": "stdout",
          "output_type": "stream",
          "text": [
            "epoch: 710\n",
            "loss: 0.004046080213111754\n",
            "accuracy: 0.9987980769230769\n"
          ]
        },
        {
          "name": "stderr",
          "output_type": "stream",
          "text": [
            "100%|██████████| 78/78 [00:03<00:00, 21.21it/s]\n"
          ]
        },
        {
          "name": "stdout",
          "output_type": "stream",
          "text": [
            "epoch: 711\n",
            "loss: 0.00483084412646862\n",
            "accuracy: 0.9982972756410257\n"
          ]
        },
        {
          "name": "stderr",
          "output_type": "stream",
          "text": [
            "100%|██████████| 78/78 [00:03<00:00, 19.95it/s]\n"
          ]
        },
        {
          "name": "stdout",
          "output_type": "stream",
          "text": [
            "epoch: 712\n",
            "loss: 0.004379398708503383\n",
            "accuracy: 0.9983974358974359\n"
          ]
        },
        {
          "name": "stderr",
          "output_type": "stream",
          "text": [
            "100%|██████████| 78/78 [00:03<00:00, 20.66it/s]\n"
          ]
        },
        {
          "name": "stdout",
          "output_type": "stream",
          "text": [
            "epoch: 713\n",
            "loss: 0.004715151673269411\n",
            "accuracy: 0.9985977564102564\n"
          ]
        },
        {
          "name": "stderr",
          "output_type": "stream",
          "text": [
            "100%|██████████| 78/78 [00:03<00:00, 20.11it/s]\n"
          ]
        },
        {
          "name": "stdout",
          "output_type": "stream",
          "text": [
            "epoch: 714\n",
            "loss: 0.004425925388857603\n",
            "accuracy: 0.9988982371794872\n"
          ]
        },
        {
          "name": "stderr",
          "output_type": "stream",
          "text": [
            "100%|██████████| 78/78 [00:03<00:00, 20.91it/s]\n"
          ]
        },
        {
          "name": "stdout",
          "output_type": "stream",
          "text": [
            "epoch: 715\n",
            "loss: 0.0064757017124718865\n",
            "accuracy: 0.9980969551282052\n"
          ]
        },
        {
          "name": "stderr",
          "output_type": "stream",
          "text": [
            "100%|██████████| 78/78 [00:03<00:00, 21.12it/s]\n"
          ]
        },
        {
          "name": "stdout",
          "output_type": "stream",
          "text": [
            "epoch: 716\n",
            "loss: 0.00520798929732663\n",
            "accuracy: 0.9978966346153846\n"
          ]
        },
        {
          "name": "stderr",
          "output_type": "stream",
          "text": [
            "100%|██████████| 78/78 [00:03<00:00, 21.23it/s]\n"
          ]
        },
        {
          "name": "stdout",
          "output_type": "stream",
          "text": [
            "epoch: 717\n",
            "loss: 0.004794087185216948\n",
            "accuracy: 0.9990985576923077\n"
          ]
        },
        {
          "name": "stderr",
          "output_type": "stream",
          "text": [
            "100%|██████████| 78/78 [00:03<00:00, 21.13it/s]\n"
          ]
        },
        {
          "name": "stdout",
          "output_type": "stream",
          "text": [
            "epoch: 718\n",
            "loss: 0.004478613577726393\n",
            "accuracy: 0.9983974358974359\n"
          ]
        },
        {
          "name": "stderr",
          "output_type": "stream",
          "text": [
            "100%|██████████| 78/78 [00:03<00:00, 20.53it/s]\n"
          ]
        },
        {
          "name": "stdout",
          "output_type": "stream",
          "text": [
            "epoch: 719\n",
            "loss: 0.005990433453310591\n",
            "accuracy: 0.9979967948717948\n"
          ]
        },
        {
          "name": "stderr",
          "output_type": "stream",
          "text": [
            "100%|██████████| 78/78 [00:03<00:00, 21.03it/s]\n"
          ]
        },
        {
          "name": "stdout",
          "output_type": "stream",
          "text": [
            "epoch: 720\n",
            "loss: 0.0062502147155987006\n",
            "accuracy: 0.9975961538461539\n"
          ]
        },
        {
          "name": "stderr",
          "output_type": "stream",
          "text": [
            "100%|██████████| 78/78 [00:03<00:00, 21.48it/s]\n"
          ]
        },
        {
          "name": "stdout",
          "output_type": "stream",
          "text": [
            "epoch: 721\n",
            "loss: 0.0046902820538842855\n",
            "accuracy: 0.9985977564102564\n"
          ]
        },
        {
          "name": "stderr",
          "output_type": "stream",
          "text": [
            "100%|██████████| 78/78 [00:03<00:00, 21.11it/s]\n"
          ]
        },
        {
          "name": "stdout",
          "output_type": "stream",
          "text": [
            "epoch: 722\n",
            "loss: 0.005234410878097734\n",
            "accuracy: 0.9980969551282052\n"
          ]
        },
        {
          "name": "stderr",
          "output_type": "stream",
          "text": [
            "100%|██████████| 78/78 [00:03<00:00, 20.64it/s]\n"
          ]
        },
        {
          "name": "stdout",
          "output_type": "stream",
          "text": [
            "epoch: 723\n",
            "loss: 0.006402210998110091\n",
            "accuracy: 0.9979967948717948\n"
          ]
        },
        {
          "name": "stderr",
          "output_type": "stream",
          "text": [
            "100%|██████████| 78/78 [00:03<00:00, 21.00it/s]\n"
          ]
        },
        {
          "name": "stdout",
          "output_type": "stream",
          "text": [
            "epoch: 724\n",
            "loss: 0.004042987387854224\n",
            "accuracy: 0.9989983974358975\n"
          ]
        },
        {
          "name": "stderr",
          "output_type": "stream",
          "text": [
            "100%|██████████| 78/78 [00:03<00:00, 21.22it/s]\n"
          ]
        },
        {
          "name": "stdout",
          "output_type": "stream",
          "text": [
            "epoch: 725\n",
            "loss: 0.0045440325551540945\n",
            "accuracy: 0.9986979166666666\n"
          ]
        },
        {
          "name": "stderr",
          "output_type": "stream",
          "text": [
            "100%|██████████| 78/78 [00:03<00:00, 21.48it/s]\n"
          ]
        },
        {
          "name": "stdout",
          "output_type": "stream",
          "text": [
            "epoch: 726\n",
            "loss: 0.004195444979324328\n",
            "accuracy: 0.9987980769230769\n"
          ]
        },
        {
          "name": "stderr",
          "output_type": "stream",
          "text": [
            "100%|██████████| 78/78 [00:03<00:00, 21.67it/s]\n"
          ]
        },
        {
          "name": "stdout",
          "output_type": "stream",
          "text": [
            "epoch: 727\n",
            "loss: 0.004733298625722408\n",
            "accuracy: 0.9989983974358975\n"
          ]
        },
        {
          "name": "stderr",
          "output_type": "stream",
          "text": [
            "100%|██████████| 78/78 [00:03<00:00, 19.73it/s]\n"
          ]
        },
        {
          "name": "stdout",
          "output_type": "stream",
          "text": [
            "epoch: 728\n",
            "loss: 0.004876589108159981\n",
            "accuracy: 0.9986979166666666\n"
          ]
        },
        {
          "name": "stderr",
          "output_type": "stream",
          "text": [
            "100%|██████████| 78/78 [00:03<00:00, 21.13it/s]\n"
          ]
        },
        {
          "name": "stdout",
          "output_type": "stream",
          "text": [
            "epoch: 729\n",
            "loss: 0.005853849581072632\n",
            "accuracy: 0.9979967948717948\n"
          ]
        },
        {
          "name": "stderr",
          "output_type": "stream",
          "text": [
            "100%|██████████| 78/78 [00:03<00:00, 20.97it/s]\n"
          ]
        },
        {
          "name": "stdout",
          "output_type": "stream",
          "text": [
            "epoch: 730\n",
            "loss: 0.006451279891711564\n",
            "accuracy: 0.9981971153846154\n"
          ]
        },
        {
          "name": "stderr",
          "output_type": "stream",
          "text": [
            "100%|██████████| 78/78 [00:03<00:00, 20.90it/s]\n"
          ]
        },
        {
          "name": "stdout",
          "output_type": "stream",
          "text": [
            "epoch: 731\n",
            "loss: 0.0036728420557501987\n",
            "accuracy: 0.9988982371794872\n"
          ]
        },
        {
          "name": "stderr",
          "output_type": "stream",
          "text": [
            "100%|██████████| 78/78 [00:03<00:00, 21.38it/s]\n"
          ]
        },
        {
          "name": "stdout",
          "output_type": "stream",
          "text": [
            "epoch: 732\n",
            "loss: 0.0033925880800383403\n",
            "accuracy: 0.9988982371794872\n"
          ]
        },
        {
          "name": "stderr",
          "output_type": "stream",
          "text": [
            "100%|██████████| 78/78 [00:03<00:00, 21.02it/s]\n"
          ]
        },
        {
          "name": "stdout",
          "output_type": "stream",
          "text": [
            "epoch: 733\n",
            "loss: 0.005189872648117717\n",
            "accuracy: 0.9981971153846154\n"
          ]
        },
        {
          "name": "stderr",
          "output_type": "stream",
          "text": [
            "100%|██████████| 78/78 [00:03<00:00, 21.49it/s]\n"
          ]
        },
        {
          "name": "stdout",
          "output_type": "stream",
          "text": [
            "epoch: 734\n",
            "loss: 0.004982566014335204\n",
            "accuracy: 0.9983974358974359\n"
          ]
        },
        {
          "name": "stderr",
          "output_type": "stream",
          "text": [
            "100%|██████████| 78/78 [00:03<00:00, 21.30it/s]\n"
          ]
        },
        {
          "name": "stdout",
          "output_type": "stream",
          "text": [
            "epoch: 735\n",
            "loss: 0.0056829444749895725\n",
            "accuracy: 0.9981971153846154\n"
          ]
        },
        {
          "name": "stderr",
          "output_type": "stream",
          "text": [
            "100%|██████████| 78/78 [00:03<00:00, 21.25it/s]\n"
          ]
        },
        {
          "name": "stdout",
          "output_type": "stream",
          "text": [
            "epoch: 736\n",
            "loss: 0.0051848762075398834\n",
            "accuracy: 0.9981971153846154\n"
          ]
        },
        {
          "name": "stderr",
          "output_type": "stream",
          "text": [
            "100%|██████████| 78/78 [00:03<00:00, 21.46it/s]\n"
          ]
        },
        {
          "name": "stdout",
          "output_type": "stream",
          "text": [
            "epoch: 737\n",
            "loss: 0.005082599110513304\n",
            "accuracy: 0.9984975961538461\n"
          ]
        },
        {
          "name": "stderr",
          "output_type": "stream",
          "text": [
            "100%|██████████| 78/78 [00:03<00:00, 20.74it/s]\n"
          ]
        },
        {
          "name": "stdout",
          "output_type": "stream",
          "text": [
            "epoch: 738\n",
            "loss: 0.0055752047762955325\n",
            "accuracy: 0.9986979166666666\n"
          ]
        },
        {
          "name": "stderr",
          "output_type": "stream",
          "text": [
            "100%|██████████| 78/78 [00:03<00:00, 19.92it/s]\n"
          ]
        },
        {
          "name": "stdout",
          "output_type": "stream",
          "text": [
            "epoch: 739\n",
            "loss: 0.003948680013798786\n",
            "accuracy: 0.9989983974358975\n"
          ]
        },
        {
          "name": "stderr",
          "output_type": "stream",
          "text": [
            "100%|██████████| 78/78 [00:04<00:00, 17.80it/s]\n"
          ]
        },
        {
          "name": "stdout",
          "output_type": "stream",
          "text": [
            "epoch: 740\n",
            "loss: 0.0051534426348576415\n",
            "accuracy: 0.9978966346153846\n"
          ]
        },
        {
          "name": "stderr",
          "output_type": "stream",
          "text": [
            "100%|██████████| 78/78 [00:04<00:00, 15.76it/s]\n"
          ]
        },
        {
          "name": "stdout",
          "output_type": "stream",
          "text": [
            "epoch: 741\n",
            "loss: 0.004965776413603005\n",
            "accuracy: 0.9983974358974359\n"
          ]
        },
        {
          "name": "stderr",
          "output_type": "stream",
          "text": [
            "100%|██████████| 78/78 [00:04<00:00, 15.72it/s]\n"
          ]
        },
        {
          "name": "stdout",
          "output_type": "stream",
          "text": [
            "epoch: 742\n",
            "loss: 0.0040260552957009236\n",
            "accuracy: 0.9986979166666666\n"
          ]
        },
        {
          "name": "stderr",
          "output_type": "stream",
          "text": [
            "100%|██████████| 78/78 [00:04<00:00, 18.16it/s]\n"
          ]
        },
        {
          "name": "stdout",
          "output_type": "stream",
          "text": [
            "epoch: 743\n",
            "loss: 0.0036765929516360094\n",
            "accuracy: 0.9989983974358975\n"
          ]
        },
        {
          "name": "stderr",
          "output_type": "stream",
          "text": [
            "100%|██████████| 78/78 [00:04<00:00, 18.56it/s]\n"
          ]
        },
        {
          "name": "stdout",
          "output_type": "stream",
          "text": [
            "epoch: 744\n",
            "loss: 0.005750646922164238\n",
            "accuracy: 0.9984975961538461\n"
          ]
        },
        {
          "name": "stderr",
          "output_type": "stream",
          "text": [
            "100%|██████████| 78/78 [00:03<00:00, 20.89it/s]\n"
          ]
        },
        {
          "name": "stdout",
          "output_type": "stream",
          "text": [
            "epoch: 745\n",
            "loss: 0.00617993560799499\n",
            "accuracy: 0.9979967948717948\n"
          ]
        },
        {
          "name": "stderr",
          "output_type": "stream",
          "text": [
            "100%|██████████| 78/78 [00:03<00:00, 20.39it/s]\n"
          ]
        },
        {
          "name": "stdout",
          "output_type": "stream",
          "text": [
            "epoch: 746\n",
            "loss: 0.004810778202880055\n",
            "accuracy: 0.9985977564102564\n"
          ]
        },
        {
          "name": "stderr",
          "output_type": "stream",
          "text": [
            "100%|██████████| 78/78 [00:03<00:00, 20.54it/s]\n"
          ]
        },
        {
          "name": "stdout",
          "output_type": "stream",
          "text": [
            "epoch: 747\n",
            "loss: 0.006337503436579703\n",
            "accuracy: 0.9977964743589743\n"
          ]
        },
        {
          "name": "stderr",
          "output_type": "stream",
          "text": [
            "100%|██████████| 78/78 [00:03<00:00, 20.24it/s]\n"
          ]
        },
        {
          "name": "stdout",
          "output_type": "stream",
          "text": [
            "epoch: 748\n",
            "loss: 0.004547437127957192\n",
            "accuracy: 0.9987980769230769\n"
          ]
        },
        {
          "name": "stderr",
          "output_type": "stream",
          "text": [
            "100%|██████████| 78/78 [00:03<00:00, 20.68it/s]\n"
          ]
        },
        {
          "name": "stdout",
          "output_type": "stream",
          "text": [
            "epoch: 749\n",
            "loss: 0.006000542615835842\n",
            "accuracy: 0.9980969551282052\n"
          ]
        },
        {
          "name": "stderr",
          "output_type": "stream",
          "text": [
            "100%|██████████| 78/78 [00:03<00:00, 20.72it/s]\n"
          ]
        },
        {
          "name": "stdout",
          "output_type": "stream",
          "text": [
            "epoch: 750\n",
            "loss: 0.006175310716244917\n",
            "accuracy: 0.9980969551282052\n"
          ]
        },
        {
          "name": "stderr",
          "output_type": "stream",
          "text": [
            "100%|██████████| 78/78 [00:03<00:00, 20.24it/s]\n"
          ]
        },
        {
          "name": "stdout",
          "output_type": "stream",
          "text": [
            "epoch: 751\n",
            "loss: 0.004440907105722895\n",
            "accuracy: 0.9987980769230769\n"
          ]
        },
        {
          "name": "stderr",
          "output_type": "stream",
          "text": [
            "100%|██████████| 78/78 [00:03<00:00, 19.95it/s]\n"
          ]
        },
        {
          "name": "stdout",
          "output_type": "stream",
          "text": [
            "epoch: 752\n",
            "loss: 0.00432276195482327\n",
            "accuracy: 0.9986979166666666\n"
          ]
        },
        {
          "name": "stderr",
          "output_type": "stream",
          "text": [
            "100%|██████████| 78/78 [00:03<00:00, 20.95it/s]\n"
          ]
        },
        {
          "name": "stdout",
          "output_type": "stream",
          "text": [
            "epoch: 753\n",
            "loss: 0.0053580704127223445\n",
            "accuracy: 0.9984975961538461\n"
          ]
        },
        {
          "name": "stderr",
          "output_type": "stream",
          "text": [
            "100%|██████████| 78/78 [00:03<00:00, 21.10it/s]\n"
          ]
        },
        {
          "name": "stdout",
          "output_type": "stream",
          "text": [
            "epoch: 754\n",
            "loss: 0.005148462422836859\n",
            "accuracy: 0.9982972756410257\n"
          ]
        },
        {
          "name": "stderr",
          "output_type": "stream",
          "text": [
            "100%|██████████| 78/78 [00:03<00:00, 20.60it/s]\n"
          ]
        },
        {
          "name": "stdout",
          "output_type": "stream",
          "text": [
            "epoch: 755\n",
            "loss: 0.0041710991438146895\n",
            "accuracy: 0.9989983974358975\n"
          ]
        },
        {
          "name": "stderr",
          "output_type": "stream",
          "text": [
            "100%|██████████| 78/78 [00:03<00:00, 20.40it/s]\n"
          ]
        },
        {
          "name": "stdout",
          "output_type": "stream",
          "text": [
            "epoch: 756\n",
            "loss: 0.003844434214279784\n",
            "accuracy: 0.9986979166666666\n"
          ]
        },
        {
          "name": "stderr",
          "output_type": "stream",
          "text": [
            "100%|██████████| 78/78 [00:03<00:00, 20.54it/s]\n"
          ]
        },
        {
          "name": "stdout",
          "output_type": "stream",
          "text": [
            "epoch: 757\n",
            "loss: 0.0041082833792106845\n",
            "accuracy: 0.9987980769230769\n"
          ]
        },
        {
          "name": "stderr",
          "output_type": "stream",
          "text": [
            "100%|██████████| 78/78 [00:03<00:00, 20.49it/s]\n"
          ]
        },
        {
          "name": "stdout",
          "output_type": "stream",
          "text": [
            "epoch: 758\n",
            "loss: 0.005879802028432142\n",
            "accuracy: 0.9979967948717948\n"
          ]
        },
        {
          "name": "stderr",
          "output_type": "stream",
          "text": [
            "100%|██████████| 78/78 [00:03<00:00, 20.88it/s]\n"
          ]
        },
        {
          "name": "stdout",
          "output_type": "stream",
          "text": [
            "epoch: 759\n",
            "loss: 0.005881405111256008\n",
            "accuracy: 0.9979967948717948\n"
          ]
        },
        {
          "name": "stderr",
          "output_type": "stream",
          "text": [
            "100%|██████████| 78/78 [00:03<00:00, 21.09it/s]\n"
          ]
        },
        {
          "name": "stdout",
          "output_type": "stream",
          "text": [
            "epoch: 760\n",
            "loss: 0.005364382977206379\n",
            "accuracy: 0.9986979166666666\n"
          ]
        },
        {
          "name": "stderr",
          "output_type": "stream",
          "text": [
            "100%|██████████| 78/78 [00:03<00:00, 20.55it/s]\n"
          ]
        },
        {
          "name": "stdout",
          "output_type": "stream",
          "text": [
            "epoch: 761\n",
            "loss: 0.003693217247461852\n",
            "accuracy: 0.9987980769230769\n"
          ]
        },
        {
          "name": "stderr",
          "output_type": "stream",
          "text": [
            "100%|██████████| 78/78 [00:03<00:00, 20.56it/s]\n"
          ]
        },
        {
          "name": "stdout",
          "output_type": "stream",
          "text": [
            "epoch: 762\n",
            "loss: 0.004676564604429027\n",
            "accuracy: 0.9984975961538461\n"
          ]
        },
        {
          "name": "stderr",
          "output_type": "stream",
          "text": [
            "100%|██████████| 78/78 [00:04<00:00, 19.27it/s]\n"
          ]
        },
        {
          "name": "stdout",
          "output_type": "stream",
          "text": [
            "epoch: 763\n",
            "loss: 0.003583084029602245\n",
            "accuracy: 0.9989983974358975\n"
          ]
        },
        {
          "name": "stderr",
          "output_type": "stream",
          "text": [
            "100%|██████████| 78/78 [00:04<00:00, 17.72it/s]\n"
          ]
        },
        {
          "name": "stdout",
          "output_type": "stream",
          "text": [
            "epoch: 764\n",
            "loss: 0.005768364523716558\n",
            "accuracy: 0.9980969551282052\n"
          ]
        },
        {
          "name": "stderr",
          "output_type": "stream",
          "text": [
            "100%|██████████| 78/78 [00:04<00:00, 17.62it/s]\n"
          ]
        },
        {
          "name": "stdout",
          "output_type": "stream",
          "text": [
            "epoch: 765\n",
            "loss: 0.00495237750837054\n",
            "accuracy: 0.9984975961538461\n"
          ]
        },
        {
          "name": "stderr",
          "output_type": "stream",
          "text": [
            "100%|██████████| 78/78 [00:03<00:00, 20.29it/s]\n"
          ]
        },
        {
          "name": "stdout",
          "output_type": "stream",
          "text": [
            "epoch: 766\n",
            "loss: 0.004470566353680065\n",
            "accuracy: 0.9985977564102564\n"
          ]
        },
        {
          "name": "stderr",
          "output_type": "stream",
          "text": [
            "100%|██████████| 78/78 [00:03<00:00, 20.75it/s]\n"
          ]
        },
        {
          "name": "stdout",
          "output_type": "stream",
          "text": [
            "epoch: 767\n",
            "loss: 0.00522134664210264\n",
            "accuracy: 0.9987980769230769\n"
          ]
        },
        {
          "name": "stderr",
          "output_type": "stream",
          "text": [
            "100%|██████████| 78/78 [00:03<00:00, 21.60it/s]\n"
          ]
        },
        {
          "name": "stdout",
          "output_type": "stream",
          "text": [
            "epoch: 768\n",
            "loss: 0.0029808304696836365\n",
            "accuracy: 0.999198717948718\n"
          ]
        },
        {
          "name": "stderr",
          "output_type": "stream",
          "text": [
            "100%|██████████| 78/78 [00:03<00:00, 20.70it/s]\n"
          ]
        },
        {
          "name": "stdout",
          "output_type": "stream",
          "text": [
            "epoch: 769\n",
            "loss: 0.005208606174281345\n",
            "accuracy: 0.9982972756410257\n"
          ]
        },
        {
          "name": "stderr",
          "output_type": "stream",
          "text": [
            "100%|██████████| 78/78 [00:03<00:00, 21.46it/s]\n"
          ]
        },
        {
          "name": "stdout",
          "output_type": "stream",
          "text": [
            "epoch: 770\n",
            "loss: 0.00376147742365272\n",
            "accuracy: 0.9987980769230769\n"
          ]
        },
        {
          "name": "stderr",
          "output_type": "stream",
          "text": [
            "100%|██████████| 78/78 [00:03<00:00, 21.05it/s]\n"
          ]
        },
        {
          "name": "stdout",
          "output_type": "stream",
          "text": [
            "epoch: 771\n",
            "loss: 0.0037476272043885472\n",
            "accuracy: 0.9987980769230769\n"
          ]
        },
        {
          "name": "stderr",
          "output_type": "stream",
          "text": [
            "100%|██████████| 78/78 [00:03<00:00, 20.74it/s]\n"
          ]
        },
        {
          "name": "stdout",
          "output_type": "stream",
          "text": [
            "epoch: 772\n",
            "loss: 0.0066491537921441095\n",
            "accuracy: 0.9976963141025641\n"
          ]
        },
        {
          "name": "stderr",
          "output_type": "stream",
          "text": [
            "100%|██████████| 78/78 [00:03<00:00, 21.37it/s]\n"
          ]
        },
        {
          "name": "stdout",
          "output_type": "stream",
          "text": [
            "epoch: 773\n",
            "loss: 0.004696601532207121\n",
            "accuracy: 0.9988982371794872\n"
          ]
        },
        {
          "name": "stderr",
          "output_type": "stream",
          "text": [
            "100%|██████████| 78/78 [00:03<00:00, 21.58it/s]\n"
          ]
        },
        {
          "name": "stdout",
          "output_type": "stream",
          "text": [
            "epoch: 774\n",
            "loss: 0.005079529766076937\n",
            "accuracy: 0.9985977564102564\n"
          ]
        },
        {
          "name": "stderr",
          "output_type": "stream",
          "text": [
            "100%|██████████| 78/78 [00:03<00:00, 21.39it/s]\n"
          ]
        },
        {
          "name": "stdout",
          "output_type": "stream",
          "text": [
            "epoch: 775\n",
            "loss: 0.005832313403609591\n",
            "accuracy: 0.9979967948717948\n"
          ]
        },
        {
          "name": "stderr",
          "output_type": "stream",
          "text": [
            "100%|██████████| 78/78 [00:03<00:00, 21.72it/s]\n"
          ]
        },
        {
          "name": "stdout",
          "output_type": "stream",
          "text": [
            "epoch: 776\n",
            "loss: 0.005085709016361178\n",
            "accuracy: 0.9979967948717948\n"
          ]
        },
        {
          "name": "stderr",
          "output_type": "stream",
          "text": [
            "100%|██████████| 78/78 [00:03<00:00, 21.20it/s]\n"
          ]
        },
        {
          "name": "stdout",
          "output_type": "stream",
          "text": [
            "epoch: 777\n",
            "loss: 0.003932600162956171\n",
            "accuracy: 0.9987980769230769\n"
          ]
        },
        {
          "name": "stderr",
          "output_type": "stream",
          "text": [
            "100%|██████████| 78/78 [00:03<00:00, 21.65it/s]\n"
          ]
        },
        {
          "name": "stdout",
          "output_type": "stream",
          "text": [
            "epoch: 778\n",
            "loss: 0.006087478978607135\n",
            "accuracy: 0.9980969551282052\n"
          ]
        },
        {
          "name": "stderr",
          "output_type": "stream",
          "text": [
            "100%|██████████| 78/78 [00:03<00:00, 21.87it/s]\n"
          ]
        },
        {
          "name": "stdout",
          "output_type": "stream",
          "text": [
            "epoch: 779\n",
            "loss: 0.004618242857619547\n",
            "accuracy: 0.9986979166666666\n"
          ]
        },
        {
          "name": "stderr",
          "output_type": "stream",
          "text": [
            "100%|██████████| 78/78 [00:03<00:00, 21.84it/s]\n"
          ]
        },
        {
          "name": "stdout",
          "output_type": "stream",
          "text": [
            "epoch: 780\n",
            "loss: 0.004402947292710917\n",
            "accuracy: 0.9986979166666666\n"
          ]
        },
        {
          "name": "stderr",
          "output_type": "stream",
          "text": [
            "100%|██████████| 78/78 [00:03<00:00, 21.72it/s]\n"
          ]
        },
        {
          "name": "stdout",
          "output_type": "stream",
          "text": [
            "epoch: 781\n",
            "loss: 0.004437633517693776\n",
            "accuracy: 0.9984975961538461\n"
          ]
        },
        {
          "name": "stderr",
          "output_type": "stream",
          "text": [
            "100%|██████████| 78/78 [00:03<00:00, 21.73it/s]\n"
          ]
        },
        {
          "name": "stdout",
          "output_type": "stream",
          "text": [
            "epoch: 782\n",
            "loss: 0.004944321246465477\n",
            "accuracy: 0.9986979166666666\n"
          ]
        },
        {
          "name": "stderr",
          "output_type": "stream",
          "text": [
            "100%|██████████| 78/78 [00:03<00:00, 21.51it/s]\n"
          ]
        },
        {
          "name": "stdout",
          "output_type": "stream",
          "text": [
            "epoch: 783\n",
            "loss: 0.004396102203500982\n",
            "accuracy: 0.9988982371794872\n"
          ]
        },
        {
          "name": "stderr",
          "output_type": "stream",
          "text": [
            "100%|██████████| 78/78 [00:03<00:00, 21.79it/s]\n"
          ]
        },
        {
          "name": "stdout",
          "output_type": "stream",
          "text": [
            "epoch: 784\n",
            "loss: 0.0037730411956241974\n",
            "accuracy: 0.9989983974358975\n"
          ]
        },
        {
          "name": "stderr",
          "output_type": "stream",
          "text": [
            "100%|██████████| 78/78 [00:03<00:00, 21.86it/s]\n"
          ]
        },
        {
          "name": "stdout",
          "output_type": "stream",
          "text": [
            "epoch: 785\n",
            "loss: 0.0032906948203722444\n",
            "accuracy: 0.999198717948718\n"
          ]
        },
        {
          "name": "stderr",
          "output_type": "stream",
          "text": [
            "100%|██████████| 78/78 [00:03<00:00, 21.68it/s]\n"
          ]
        },
        {
          "name": "stdout",
          "output_type": "stream",
          "text": [
            "epoch: 786\n",
            "loss: 0.005882199221956305\n",
            "accuracy: 0.9985977564102564\n"
          ]
        },
        {
          "name": "stderr",
          "output_type": "stream",
          "text": [
            "100%|██████████| 78/78 [00:03<00:00, 21.87it/s]\n"
          ]
        },
        {
          "name": "stdout",
          "output_type": "stream",
          "text": [
            "epoch: 787\n",
            "loss: 0.006097640043336492\n",
            "accuracy: 0.9979967948717948\n"
          ]
        },
        {
          "name": "stderr",
          "output_type": "stream",
          "text": [
            "100%|██████████| 78/78 [00:03<00:00, 21.92it/s]\n"
          ]
        },
        {
          "name": "stdout",
          "output_type": "stream",
          "text": [
            "epoch: 788\n",
            "loss: 0.004117355439050768\n",
            "accuracy: 0.9987980769230769\n"
          ]
        },
        {
          "name": "stderr",
          "output_type": "stream",
          "text": [
            "100%|██████████| 78/78 [00:03<00:00, 21.78it/s]\n"
          ]
        },
        {
          "name": "stdout",
          "output_type": "stream",
          "text": [
            "epoch: 789\n",
            "loss: 0.006668737281683999\n",
            "accuracy: 0.9979967948717948\n"
          ]
        },
        {
          "name": "stderr",
          "output_type": "stream",
          "text": [
            "100%|██████████| 78/78 [00:03<00:00, 21.80it/s]\n"
          ]
        },
        {
          "name": "stdout",
          "output_type": "stream",
          "text": [
            "epoch: 790\n",
            "loss: 0.0037667800072365655\n",
            "accuracy: 0.9988982371794872\n"
          ]
        },
        {
          "name": "stderr",
          "output_type": "stream",
          "text": [
            "100%|██████████| 78/78 [00:03<00:00, 21.71it/s]\n"
          ]
        },
        {
          "name": "stdout",
          "output_type": "stream",
          "text": [
            "epoch: 791\n",
            "loss: 0.00474997754458738\n",
            "accuracy: 0.9983974358974359\n"
          ]
        },
        {
          "name": "stderr",
          "output_type": "stream",
          "text": [
            "100%|██████████| 78/78 [00:03<00:00, 21.36it/s]\n"
          ]
        },
        {
          "name": "stdout",
          "output_type": "stream",
          "text": [
            "epoch: 792\n",
            "loss: 0.003414118075922418\n",
            "accuracy: 0.9993990384615384\n"
          ]
        },
        {
          "name": "stderr",
          "output_type": "stream",
          "text": [
            "100%|██████████| 78/78 [00:03<00:00, 21.69it/s]\n"
          ]
        },
        {
          "name": "stdout",
          "output_type": "stream",
          "text": [
            "epoch: 793\n",
            "loss: 0.0036900574214553507\n",
            "accuracy: 0.9989983974358975\n"
          ]
        },
        {
          "name": "stderr",
          "output_type": "stream",
          "text": [
            "100%|██████████| 78/78 [00:03<00:00, 21.86it/s]\n"
          ]
        },
        {
          "name": "stdout",
          "output_type": "stream",
          "text": [
            "epoch: 794\n",
            "loss: 0.003359120174979743\n",
            "accuracy: 0.999198717948718\n"
          ]
        },
        {
          "name": "stderr",
          "output_type": "stream",
          "text": [
            "100%|██████████| 78/78 [00:03<00:00, 21.72it/s]\n"
          ]
        },
        {
          "name": "stdout",
          "output_type": "stream",
          "text": [
            "epoch: 795\n",
            "loss: 0.005611160221190239\n",
            "accuracy: 0.9983974358974359\n"
          ]
        },
        {
          "name": "stderr",
          "output_type": "stream",
          "text": [
            "100%|██████████| 78/78 [00:03<00:00, 21.76it/s]\n"
          ]
        },
        {
          "name": "stdout",
          "output_type": "stream",
          "text": [
            "epoch: 796\n",
            "loss: 0.004574206004737136\n",
            "accuracy: 0.9987980769230769\n"
          ]
        },
        {
          "name": "stderr",
          "output_type": "stream",
          "text": [
            "100%|██████████| 78/78 [00:03<00:00, 21.67it/s]\n"
          ]
        },
        {
          "name": "stdout",
          "output_type": "stream",
          "text": [
            "epoch: 797\n",
            "loss: 0.004923904899325675\n",
            "accuracy: 0.9981971153846154\n"
          ]
        },
        {
          "name": "stderr",
          "output_type": "stream",
          "text": [
            "100%|██████████| 78/78 [00:03<00:00, 21.19it/s]\n"
          ]
        },
        {
          "name": "stdout",
          "output_type": "stream",
          "text": [
            "epoch: 798\n",
            "loss: 0.0042102658130133\n",
            "accuracy: 0.9985977564102564\n"
          ]
        },
        {
          "name": "stderr",
          "output_type": "stream",
          "text": [
            "100%|██████████| 78/78 [00:03<00:00, 21.60it/s]\n"
          ]
        },
        {
          "name": "stdout",
          "output_type": "stream",
          "text": [
            "epoch: 799\n",
            "loss: 0.006493569826722169\n",
            "accuracy: 0.9979967948717948\n"
          ]
        },
        {
          "name": "stderr",
          "output_type": "stream",
          "text": [
            "100%|██████████| 78/78 [00:03<00:00, 21.59it/s]\n"
          ]
        },
        {
          "name": "stdout",
          "output_type": "stream",
          "text": [
            "epoch: 800\n",
            "loss: 0.0037511427445002855\n",
            "accuracy: 0.9990985576923077\n"
          ]
        },
        {
          "name": "stderr",
          "output_type": "stream",
          "text": [
            "100%|██████████| 78/78 [00:03<00:00, 21.93it/s]\n"
          ]
        },
        {
          "name": "stdout",
          "output_type": "stream",
          "text": [
            "epoch: 801\n",
            "loss: 0.006897595083454433\n",
            "accuracy: 0.9978966346153846\n"
          ]
        },
        {
          "name": "stderr",
          "output_type": "stream",
          "text": [
            "100%|██████████| 78/78 [00:03<00:00, 21.94it/s]\n"
          ]
        },
        {
          "name": "stdout",
          "output_type": "stream",
          "text": [
            "epoch: 802\n",
            "loss: 0.004180726702123558\n",
            "accuracy: 0.9983974358974359\n"
          ]
        },
        {
          "name": "stderr",
          "output_type": "stream",
          "text": [
            "100%|██████████| 78/78 [00:03<00:00, 21.87it/s]\n"
          ]
        },
        {
          "name": "stdout",
          "output_type": "stream",
          "text": [
            "epoch: 803\n",
            "loss: 0.005197450164884616\n",
            "accuracy: 0.9985977564102564\n"
          ]
        },
        {
          "name": "stderr",
          "output_type": "stream",
          "text": [
            "100%|██████████| 78/78 [00:03<00:00, 21.55it/s]\n"
          ]
        },
        {
          "name": "stdout",
          "output_type": "stream",
          "text": [
            "epoch: 804\n",
            "loss: 0.004047155188462243\n",
            "accuracy: 0.9987980769230769\n"
          ]
        },
        {
          "name": "stderr",
          "output_type": "stream",
          "text": [
            "100%|██████████| 78/78 [00:03<00:00, 21.77it/s]\n"
          ]
        },
        {
          "name": "stdout",
          "output_type": "stream",
          "text": [
            "epoch: 805\n",
            "loss: 0.006459169834926844\n",
            "accuracy: 0.9977964743589743\n"
          ]
        },
        {
          "name": "stderr",
          "output_type": "stream",
          "text": [
            "100%|██████████| 78/78 [00:03<00:00, 21.62it/s]\n"
          ]
        },
        {
          "name": "stdout",
          "output_type": "stream",
          "text": [
            "epoch: 806\n",
            "loss: 0.005418542982601465\n",
            "accuracy: 0.9982972756410257\n"
          ]
        },
        {
          "name": "stderr",
          "output_type": "stream",
          "text": [
            "100%|██████████| 78/78 [00:03<00:00, 21.93it/s]\n"
          ]
        },
        {
          "name": "stdout",
          "output_type": "stream",
          "text": [
            "epoch: 807\n",
            "loss: 0.006168401745619634\n",
            "accuracy: 0.9981971153846154\n"
          ]
        },
        {
          "name": "stderr",
          "output_type": "stream",
          "text": [
            "100%|██████████| 78/78 [00:03<00:00, 21.83it/s]\n"
          ]
        },
        {
          "name": "stdout",
          "output_type": "stream",
          "text": [
            "epoch: 808\n",
            "loss: 0.0050468470655733915\n",
            "accuracy: 0.9984975961538461\n"
          ]
        },
        {
          "name": "stderr",
          "output_type": "stream",
          "text": [
            "100%|██████████| 78/78 [00:03<00:00, 21.72it/s]\n"
          ]
        },
        {
          "name": "stdout",
          "output_type": "stream",
          "text": [
            "epoch: 809\n",
            "loss: 0.004555608856884273\n",
            "accuracy: 0.9987980769230769\n"
          ]
        },
        {
          "name": "stderr",
          "output_type": "stream",
          "text": [
            "100%|██████████| 78/78 [00:03<00:00, 21.82it/s]\n"
          ]
        },
        {
          "name": "stdout",
          "output_type": "stream",
          "text": [
            "epoch: 810\n",
            "loss: 0.0038885994363226928\n",
            "accuracy: 0.9988982371794872\n"
          ]
        },
        {
          "name": "stderr",
          "output_type": "stream",
          "text": [
            "100%|██████████| 78/78 [00:03<00:00, 21.66it/s]\n"
          ]
        },
        {
          "name": "stdout",
          "output_type": "stream",
          "text": [
            "epoch: 811\n",
            "loss: 0.00388243224118084\n",
            "accuracy: 0.9989983974358975\n"
          ]
        },
        {
          "name": "stderr",
          "output_type": "stream",
          "text": [
            "100%|██████████| 78/78 [00:03<00:00, 21.28it/s]\n"
          ]
        },
        {
          "name": "stdout",
          "output_type": "stream",
          "text": [
            "epoch: 812\n",
            "loss: 0.004138680415613076\n",
            "accuracy: 0.9989983974358975\n"
          ]
        },
        {
          "name": "stderr",
          "output_type": "stream",
          "text": [
            "100%|██████████| 78/78 [00:03<00:00, 21.84it/s]\n"
          ]
        },
        {
          "name": "stdout",
          "output_type": "stream",
          "text": [
            "epoch: 813\n",
            "loss: 0.005359876515658704\n",
            "accuracy: 0.9983974358974359\n"
          ]
        },
        {
          "name": "stderr",
          "output_type": "stream",
          "text": [
            "100%|██████████| 78/78 [00:03<00:00, 21.58it/s]\n"
          ]
        },
        {
          "name": "stdout",
          "output_type": "stream",
          "text": [
            "epoch: 814\n",
            "loss: 0.0038815456709693163\n",
            "accuracy: 0.9988982371794872\n"
          ]
        },
        {
          "name": "stderr",
          "output_type": "stream",
          "text": [
            "100%|██████████| 78/78 [00:03<00:00, 21.84it/s]\n"
          ]
        },
        {
          "name": "stdout",
          "output_type": "stream",
          "text": [
            "epoch: 815\n",
            "loss: 0.0033096266191793033\n",
            "accuracy: 0.9989983974358975\n"
          ]
        },
        {
          "name": "stderr",
          "output_type": "stream",
          "text": [
            "100%|██████████| 78/78 [00:03<00:00, 21.45it/s]\n"
          ]
        },
        {
          "name": "stdout",
          "output_type": "stream",
          "text": [
            "epoch: 816\n",
            "loss: 0.004180094746586222\n",
            "accuracy: 0.9987980769230769\n"
          ]
        },
        {
          "name": "stderr",
          "output_type": "stream",
          "text": [
            "100%|██████████| 78/78 [00:03<00:00, 21.81it/s]\n"
          ]
        },
        {
          "name": "stdout",
          "output_type": "stream",
          "text": [
            "epoch: 817\n",
            "loss: 0.006290560443094597\n",
            "accuracy: 0.9976963141025641\n"
          ]
        },
        {
          "name": "stderr",
          "output_type": "stream",
          "text": [
            "100%|██████████| 78/78 [00:03<00:00, 22.07it/s]\n"
          ]
        },
        {
          "name": "stdout",
          "output_type": "stream",
          "text": [
            "epoch: 818\n",
            "loss: 0.005865874446149414\n",
            "accuracy: 0.9984975961538461\n"
          ]
        },
        {
          "name": "stderr",
          "output_type": "stream",
          "text": [
            "100%|██████████| 78/78 [00:03<00:00, 21.63it/s]\n"
          ]
        },
        {
          "name": "stdout",
          "output_type": "stream",
          "text": [
            "epoch: 819\n",
            "loss: 0.0042698750200006776\n",
            "accuracy: 0.9986979166666666\n"
          ]
        },
        {
          "name": "stderr",
          "output_type": "stream",
          "text": [
            "100%|██████████| 78/78 [00:03<00:00, 21.04it/s]\n"
          ]
        },
        {
          "name": "stdout",
          "output_type": "stream",
          "text": [
            "epoch: 820\n",
            "loss: 0.003536884277426184\n",
            "accuracy: 0.9992988782051282\n"
          ]
        },
        {
          "name": "stderr",
          "output_type": "stream",
          "text": [
            " 50%|█████     | 39/78 [00:01<00:01, 20.80it/s]\n"
          ]
        }
      ],
      "source": [
        "stitchmodel =StitchedModel(modelB=modelA,modelA= modelB).to(device)\n",
        "#freeze layer\n",
        "for param in stitchmodel.parameters():\n",
        "    param.requires_grad = False\n",
        "\n",
        "#unfreeze stitching layers\n",
        "for param in stitchmodel.bn1.parameters():\n",
        "    param.requires_grad = True\n",
        "\n",
        "for param in stitchmodel.conv.parameters():\n",
        "    param.requires_grad = True\n",
        "\n",
        "for param in stitchmodel.bn2.parameters():\n",
        "    param.requires_grad = True\n",
        "\n",
        "try:\n",
        "    print(\"training\"+MODELA+\"to\"+MODELB+\"trainedon\"+DATA+\".......\")\n",
        "    train(stitchmodel,is_stitch=True)\n",
        "except KeyboardInterrupt:\n",
        "    pass\n",
        "#torch.save(stitchmodel.state_dict(), \"StitchedModel/\"+MODELB+\"to\"+MODELA+\"trainedon\"+DATA+\"2.pth\")\n",
        "\n",
        "model_scripted = torch.jit.script(stitchmodel) # Export to TorchScript\n",
        "model_scripted.save(\"StitchedModel(layer2)/\"+MODELA+\"to\"+MODELB+\"trainedon\"+DATA+\".pth\") # Save"
      ]
    },
    {
      "attachments": {},
      "cell_type": "markdown",
      "metadata": {
        "id": "3NcfWhW2bbEI"
      },
      "source": [
        "# Reload Stitch model"
      ]
    },
    {
      "cell_type": "code",
      "execution_count": 25,
      "metadata": {},
      "outputs": [
        {
          "name": "stdout",
          "output_type": "stream",
          "text": [
            "Accuracy of the network on the 10000 test images: 86.97916666666667 %\n",
            "Loss of the network on the 10000 test images: 71.92893074109004 %\n",
            "loss: 0.7192893074109004\n",
            "accuracy: 0.8697916666666666\n"
          ]
        }
      ],
      "source": [
        "stitchmodel2= torch.jit.load('StitchedModel(layer1)\\MNISTtoFMNISTtrainedonFMNIST.pth').to(device)\n",
        "stitchmodel2.eval()\n",
        "\n",
        "evaluate_model(stitchmodel2)"
      ]
    },
    {
      "cell_type": "code",
      "execution_count": 77,
      "metadata": {},
      "outputs": [
        {
          "name": "stdout",
          "output_type": "stream",
          "text": [
            "Accuracy of the network on the 10000 test images: 84.01442307692308 %\n",
            "Loss of the network on the 10000 test images: 57.37030639862403 %\n",
            "loss: 0.5737030639862403\n",
            "accuracy: 0.8401442307692307\n"
          ]
        }
      ],
      "source": [
        "evaluate_model(stitchmodel2)"
      ]
    },
    {
      "cell_type": "code",
      "execution_count": 18,
      "metadata": {
        "colab": {
          "base_uri": "https://localhost:8080/",
          "height": 422
        },
        "id": "FD3Q0ghAl0Tz",
        "outputId": "1ef3dc7b-3610-424b-824a-9adc9a9d0501"
      },
      "outputs": [
        {
          "name": "stdout",
          "output_type": "stream",
          "text": [
            "tensor(9)\n",
            "tensor([-1.7448, -2.2079, -0.9587, -1.4081, -1.0586, -2.0364, -1.5106,  0.7496,\n",
            "        -1.1358, 11.2343], device='cuda:0', grad_fn=<SelectBackward0>)\n",
            "tensor(2)\n",
            "tensor([-1.1549, -2.0214, 12.4898, -0.2786, -2.2551, -1.2636, -1.3481, -0.7028,\n",
            "        -2.4029, -1.1357], device='cuda:0', grad_fn=<SelectBackward0>)\n",
            "tensor(3)\n",
            "tensor([-2.4741, -1.1179, -3.5794, 12.5373, -1.6171,  0.1954, -1.0796, -1.7881,\n",
            "        -0.2625, -0.9853], device='cuda:0', grad_fn=<SelectBackward0>)\n"
          ]
        },
        {
          "data": {
            "image/png": "[encoded data removed]",
            "text/plain": [
              "<Figure size 640x480 with 1 Axes>"
            ]
          },
          "metadata": {},
          "output_type": "display_data"
        }
      ],
      "source": [
        "for idx, (inputs,label) in enumerate(test_loader):\n",
        "\n",
        "    # move to device\n",
        "    plt.imshow(inputs[0].reshape(32,32), cmap=\"gray\")\n",
        "    print(label[0])\n",
        "    inputs = inputs.to(device)\n",
        "\n",
        "    # forward pass [with feature extraction]\n",
        "    preds = modelA(inputs)\n",
        "    print(preds[0])\n",
        "    if idx == 2:\n",
        "        break"
      ]
    },
    {
      "cell_type": "code",
      "execution_count": null,
      "metadata": {
        "colab": {
          "base_uri": "https://localhost:8080/",
          "height": 474
        },
        "id": "TOtSFLcXkuju",
        "outputId": "4911001d-dceb-471a-9240-2ffe1ff71d13"
      },
      "outputs": [
        {
          "name": "stdout",
          "output_type": "stream",
          "text": [
            "468\n",
            "tensor(1)\n",
            "tensor([-2.4648, 13.2356, -0.7841, -3.3614,  1.5994, -3.1586, -0.5662,  0.0871,\n",
            "        -1.7180, -2.7579], device='cuda:0', grad_fn=<SelectBackward0>)\n",
            "tensor(0)\n",
            "tensor([12.4559, -0.7835, -2.4369, -2.6861, -1.1309, -2.6358, -0.0749, -1.1944,\n",
            "        -1.9712,  0.5849], device='cuda:0', grad_fn=<SelectBackward0>)\n",
            "tensor(1)\n",
            "tensor([-2.0671, 12.1510, -0.5456, -1.6371, -0.5938, -1.5457, -1.6369, -1.5649,\n",
            "         0.2841, -2.7507], device='cuda:0', grad_fn=<SelectBackward0>)\n",
            "- preds shape: (384, 10)\n",
            "- feats shape: (384, 64, 8, 8)\n"
          ]
        },
        {
          "data": {
            "image/png": "[encoded data removed]",
            "text/plain": [
              "<Figure size 432x288 with 1 Axes>"
            ]
          },
          "metadata": {},
          "output_type": "display_data"
        }
      ],
      "source": [
        "##### FEATURE EXTRACTION LOOP\n",
        "import matplotlib.pyplot as plt\n",
        "\n",
        "\n",
        "def get_features(name):\n",
        "    def hook(model, input, output):\n",
        "        features[name] = output.detach()\n",
        "    return hook\n",
        "\n",
        "model.layer1.register_forward_hook(get_features('feats'))\n",
        "# placeholders\n",
        "PREDS = []\n",
        "FEATS = []\n",
        "\n",
        "# placeholder for batch features\n",
        "features = {}\n",
        "print(len(data_loader))\n",
        "# loop through batches\n",
        "for idx, (inputs,label) in enumerate(data_loader):\n",
        "\n",
        "    # move to device\n",
        "    plt.imshow(inputs[0].reshape(32,32), cmap=\"gray\")\n",
        "    print(label[0])\n",
        "    inputs = inputs.to(device)\n",
        "\n",
        "       \n",
        "    # forward pass [with feature extraction]\n",
        "    preds = model(inputs)\n",
        "    print(preds[0])\n",
        "    \n",
        "    # add feats and preds to lists\n",
        "    PREDS.append(preds.detach().cpu().numpy())\n",
        "    FEATS.append(features['feats'].cpu().numpy())\n",
        "\n",
        "    # early stop\n",
        "    if idx == 2:\n",
        "        break\n",
        "PREDS = np.concatenate(PREDS)\n",
        "FEATS = np.concatenate(FEATS)\n",
        "\n",
        "print('- preds shape:', PREDS.shape)\n",
        "print('- feats shape:', FEATS.shape)"
      ]
    },
    {
      "cell_type": "code",
      "execution_count": null,
      "metadata": {
        "id": "rQhrIlI_kQW9"
      },
      "outputs": [],
      "source": [
        "##### HELPER FUNCTION FOR FEATURE EXTRACTION"
      ]
    },
    {
      "cell_type": "code",
      "execution_count": null,
      "metadata": {
        "colab": {
          "base_uri": "https://localhost:8080/"
        },
        "id": "3JDcEdmRkHH9",
        "outputId": "8b7b2c54-9059-41ff-ac52-19285a5a5557"
      },
      "outputs": [
        {
          "data": {
            "text/plain": [
              "<torch.utils.hooks.RemovableHandle at 0x7f996fcf1d90>"
            ]
          },
          "execution_count": 9,
          "metadata": {},
          "output_type": "execute_result"
        }
      ],
      "source": [
        "#add hook to layer 2\n",
        "model.layer2.register_forward_hook(get_features('feats'))"
      ]
    },
    {
      "cell_type": "code",
      "execution_count": null,
      "metadata": {
        "colab": {
          "base_uri": "https://localhost:8080/"
        },
        "id": "Os1bLASIItax",
        "outputId": "69d28d72-6c6b-4755-ef8e-d84d7906d782"
      },
      "outputs": [
        {
          "name": "stdout",
          "output_type": "stream",
          "text": [
            "- preds shape: (384, 10)\n",
            "- feats shape: (384, 128, 4, 4)\n"
          ]
        }
      ],
      "source": [
        "PREDS = np.concatenate(PREDS)\n",
        "FEATS = np.concatenate(FEATS)\n",
        "\n",
        "print('- preds shape:', PREDS.shape)\n",
        "print('- feats shape:', FEATS.shape)\n"
      ]
    },
    {
      "cell_type": "code",
      "execution_count": null,
      "metadata": {
        "colab": {
          "base_uri": "https://localhost:8080/",
          "height": 380
        },
        "id": "fRSl5w0lRTDF",
        "outputId": "cd188bf7-fe69-4445-820f-c847f23fbaee"
      },
      "outputs": [
        {
          "ename": "AttributeError",
          "evalue": "ignored",
          "output_type": "error",
          "traceback": [
            "\u001b[0;31m---------------------------------------------------------------------------\u001b[0m",
            "\u001b[0;31mAttributeError\u001b[0m                            Traceback (most recent call last)",
            "\u001b[0;32m<ipython-input-19-4a458e7492d0>\u001b[0m in \u001b[0;36m<module>\u001b[0;34m\u001b[0m\n\u001b[1;32m      8\u001b[0m   \u001b[0;32mreturn\u001b[0m \u001b[0mx\u001b[0m\u001b[0;34m\u001b[0m\u001b[0;34m\u001b[0m\u001b[0m\n\u001b[1;32m      9\u001b[0m \u001b[0;34m\u001b[0m\u001b[0m\n\u001b[0;32m---> 10\u001b[0;31m \u001b[0mstitching_layer\u001b[0m\u001b[0;34m(\u001b[0m\u001b[0mFEATS\u001b[0m\u001b[0;34m,\u001b[0m \u001b[0mmodel\u001b[0m\u001b[0;34m)\u001b[0m\u001b[0;34m\u001b[0m\u001b[0;34m\u001b[0m\u001b[0m\n\u001b[0m",
            "\u001b[0;32m<ipython-input-19-4a458e7492d0>\u001b[0m in \u001b[0;36mstitching_layer\u001b[0;34m(x, model)\u001b[0m\n\u001b[1;32m      2\u001b[0m   \u001b[0mc1\u001b[0m \u001b[0;34m=\u001b[0m\u001b[0;36m64\u001b[0m\u001b[0;34m\u001b[0m\u001b[0;34m\u001b[0m\u001b[0m\n\u001b[1;32m      3\u001b[0m   \u001b[0mc2\u001b[0m\u001b[0;34m=\u001b[0m \u001b[0;36m128\u001b[0m\u001b[0;34m\u001b[0m\u001b[0;34m\u001b[0m\u001b[0m\n\u001b[0;32m----> 4\u001b[0;31m   \u001b[0mx\u001b[0m \u001b[0;34m=\u001b[0m \u001b[0mnn\u001b[0m\u001b[0;34m.\u001b[0m\u001b[0mBatchNorm2d\u001b[0m\u001b[0;34m(\u001b[0m\u001b[0mc1\u001b[0m\u001b[0;34m)\u001b[0m\u001b[0;34m(\u001b[0m\u001b[0mx\u001b[0m\u001b[0;34m)\u001b[0m\u001b[0;34m\u001b[0m\u001b[0;34m\u001b[0m\u001b[0m\n\u001b[0m\u001b[1;32m      5\u001b[0m   \u001b[0mx\u001b[0m \u001b[0;34m=\u001b[0m \u001b[0mnn\u001b[0m\u001b[0;34m.\u001b[0m\u001b[0mConv2d\u001b[0m\u001b[0;34m(\u001b[0m\u001b[0min_channels\u001b[0m \u001b[0;34m=\u001b[0m \u001b[0mc1\u001b[0m\u001b[0;34m,\u001b[0m \u001b[0mout_channels\u001b[0m \u001b[0;34m=\u001b[0m \u001b[0mc2\u001b[0m\u001b[0;34m,\u001b[0m\u001b[0mkernel_size\u001b[0m\u001b[0;34m=\u001b[0m\u001b[0;36m1\u001b[0m\u001b[0;34m)\u001b[0m\u001b[0;34m(\u001b[0m\u001b[0mx\u001b[0m\u001b[0;34m)\u001b[0m\u001b[0;34m\u001b[0m\u001b[0;34m\u001b[0m\u001b[0m\n\u001b[1;32m      6\u001b[0m   \u001b[0mx\u001b[0m \u001b[0;34m=\u001b[0m \u001b[0mnn\u001b[0m\u001b[0;34m.\u001b[0m\u001b[0mBatchNorm2d\u001b[0m\u001b[0;34m(\u001b[0m\u001b[0mc2\u001b[0m\u001b[0;34m)\u001b[0m\u001b[0;34m(\u001b[0m\u001b[0mx\u001b[0m\u001b[0;34m)\u001b[0m\u001b[0;34m\u001b[0m\u001b[0;34m\u001b[0m\u001b[0m\n",
            "\u001b[0;32m/usr/local/lib/python3.8/dist-packages/torch/nn/modules/module.py\u001b[0m in \u001b[0;36m_call_impl\u001b[0;34m(self, *input, **kwargs)\u001b[0m\n\u001b[1;32m   1192\u001b[0m         if not (self._backward_hooks or self._forward_hooks or self._forward_pre_hooks or _global_backward_hooks\n\u001b[1;32m   1193\u001b[0m                 or _global_forward_hooks or _global_forward_pre_hooks):\n\u001b[0;32m-> 1194\u001b[0;31m             \u001b[0;32mreturn\u001b[0m \u001b[0mforward_call\u001b[0m\u001b[0;34m(\u001b[0m\u001b[0;34m*\u001b[0m\u001b[0minput\u001b[0m\u001b[0;34m,\u001b[0m \u001b[0;34m**\u001b[0m\u001b[0mkwargs\u001b[0m\u001b[0;34m)\u001b[0m\u001b[0;34m\u001b[0m\u001b[0;34m\u001b[0m\u001b[0m\n\u001b[0m\u001b[1;32m   1195\u001b[0m         \u001b[0;31m# Do not call functions when jit is used\u001b[0m\u001b[0;34m\u001b[0m\u001b[0;34m\u001b[0m\u001b[0;34m\u001b[0m\u001b[0m\n\u001b[1;32m   1196\u001b[0m         \u001b[0mfull_backward_hooks\u001b[0m\u001b[0;34m,\u001b[0m \u001b[0mnon_full_backward_hooks\u001b[0m \u001b[0;34m=\u001b[0m \u001b[0;34m[\u001b[0m\u001b[0;34m]\u001b[0m\u001b[0;34m,\u001b[0m \u001b[0;34m[\u001b[0m\u001b[0;34m]\u001b[0m\u001b[0;34m\u001b[0m\u001b[0;34m\u001b[0m\u001b[0m\n",
            "\u001b[0;32m/usr/local/lib/python3.8/dist-packages/torch/nn/modules/batchnorm.py\u001b[0m in \u001b[0;36mforward\u001b[0;34m(self, input)\u001b[0m\n\u001b[1;32m    136\u001b[0m \u001b[0;34m\u001b[0m\u001b[0m\n\u001b[1;32m    137\u001b[0m     \u001b[0;32mdef\u001b[0m \u001b[0mforward\u001b[0m\u001b[0;34m(\u001b[0m\u001b[0mself\u001b[0m\u001b[0;34m,\u001b[0m \u001b[0minput\u001b[0m\u001b[0;34m:\u001b[0m \u001b[0mTensor\u001b[0m\u001b[0;34m)\u001b[0m \u001b[0;34m->\u001b[0m \u001b[0mTensor\u001b[0m\u001b[0;34m:\u001b[0m\u001b[0;34m\u001b[0m\u001b[0;34m\u001b[0m\u001b[0m\n\u001b[0;32m--> 138\u001b[0;31m         \u001b[0mself\u001b[0m\u001b[0;34m.\u001b[0m\u001b[0m_check_input_dim\u001b[0m\u001b[0;34m(\u001b[0m\u001b[0minput\u001b[0m\u001b[0;34m)\u001b[0m\u001b[0;34m\u001b[0m\u001b[0;34m\u001b[0m\u001b[0m\n\u001b[0m\u001b[1;32m    139\u001b[0m \u001b[0;34m\u001b[0m\u001b[0m\n\u001b[1;32m    140\u001b[0m         \u001b[0;31m# exponential_average_factor is set to self.momentum\u001b[0m\u001b[0;34m\u001b[0m\u001b[0;34m\u001b[0m\u001b[0;34m\u001b[0m\u001b[0m\n",
            "\u001b[0;32m/usr/local/lib/python3.8/dist-packages/torch/nn/modules/batchnorm.py\u001b[0m in \u001b[0;36m_check_input_dim\u001b[0;34m(self, input)\u001b[0m\n\u001b[1;32m    407\u001b[0m \u001b[0;34m\u001b[0m\u001b[0m\n\u001b[1;32m    408\u001b[0m     \u001b[0;32mdef\u001b[0m \u001b[0m_check_input_dim\u001b[0m\u001b[0;34m(\u001b[0m\u001b[0mself\u001b[0m\u001b[0;34m,\u001b[0m \u001b[0minput\u001b[0m\u001b[0;34m)\u001b[0m\u001b[0;34m:\u001b[0m\u001b[0;34m\u001b[0m\u001b[0;34m\u001b[0m\u001b[0m\n\u001b[0;32m--> 409\u001b[0;31m         \u001b[0;32mif\u001b[0m \u001b[0minput\u001b[0m\u001b[0;34m.\u001b[0m\u001b[0mdim\u001b[0m\u001b[0;34m(\u001b[0m\u001b[0;34m)\u001b[0m \u001b[0;34m!=\u001b[0m \u001b[0;36m4\u001b[0m\u001b[0;34m:\u001b[0m\u001b[0;34m\u001b[0m\u001b[0;34m\u001b[0m\u001b[0m\n\u001b[0m\u001b[1;32m    410\u001b[0m             \u001b[0;32mraise\u001b[0m \u001b[0mValueError\u001b[0m\u001b[0;34m(\u001b[0m\u001b[0;34m\"expected 4D input (got {}D input)\"\u001b[0m\u001b[0;34m.\u001b[0m\u001b[0mformat\u001b[0m\u001b[0;34m(\u001b[0m\u001b[0minput\u001b[0m\u001b[0;34m.\u001b[0m\u001b[0mdim\u001b[0m\u001b[0;34m(\u001b[0m\u001b[0;34m)\u001b[0m\u001b[0;34m)\u001b[0m\u001b[0;34m)\u001b[0m\u001b[0;34m\u001b[0m\u001b[0;34m\u001b[0m\u001b[0m\n\u001b[1;32m    411\u001b[0m \u001b[0;34m\u001b[0m\u001b[0m\n",
            "\u001b[0;31mAttributeError\u001b[0m: 'numpy.ndarray' object has no attribute 'dim'"
          ]
        }
      ],
      "source": [
        "def stitching_layer(x,model):\n",
        "  c1 =64\n",
        "  c2= 128\n",
        "  x = nn.BatchNorm2d(c1)(x)\n",
        "  x = nn.Conv2d(in_channels = c1, out_channels = c2,kernel_size=1)(x)\n",
        "  x = nn.BatchNorm2d(c2)(x)\n",
        "\n",
        "  return x\n",
        "\n",
        "stitching_layer(FEATS, model)"
      ]
    },
    {
      "cell_type": "code",
      "execution_count": null,
      "metadata": {
        "id": "7Wr_9kPYSMrc"
      },
      "outputs": [],
      "source": []
    },
    {
      "cell_type": "code",
      "execution_count": null,
      "metadata": {
        "id": "pnD18qbIIyGd"
      },
      "outputs": [],
      "source": [
        "PREDS[0][0]"
      ]
    },
    {
      "cell_type": "code",
      "execution_count": null,
      "metadata": {
        "id": "Qur3SnItSqp7"
      },
      "outputs": [],
      "source": []
    }
  ],
  "metadata": {
    "accelerator": "GPU",
    "colab": {
      "provenance": []
    },
    "gpuClass": "standard",
    "kernelspec": {
      "display_name": "Python 3",
      "name": "python3"
    },
    "language_info": {
      "codemirror_mode": {
        "name": "ipython",
        "version": 3
      },
      "file_extension": ".py",
      "mimetype": "text/x-python",
      "name": "python",
      "nbconvert_exporter": "python",
      "pygments_lexer": "ipython3",
      "version": "3.10.0"
    }
  },
  "nbformat": 4,
  "nbformat_minor": 0
}
